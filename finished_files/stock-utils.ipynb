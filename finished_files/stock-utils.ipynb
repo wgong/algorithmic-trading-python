{
 "cells": [
  {
   "cell_type": "code",
   "execution_count": 1,
   "metadata": {},
   "outputs": [
    {
     "name": "stdout",
     "output_type": "stream",
     "text": [
      "/home/wengong/projects/algorithmic-trading-python/finished_files\r\n"
     ]
    }
   ],
   "source": [
    "!pwd"
   ]
  },
  {
   "cell_type": "code",
   "execution_count": 2,
   "metadata": {},
   "outputs": [
    {
     "name": "stdout",
     "output_type": "stream",
     "text": [
      "stocks-dow30.csv      stocks-russell2000.csv  stocks-sp500.csv\r\n",
      "stocks-nasdaq100.csv  stocks-sectors.csv\r\n"
     ]
    }
   ],
   "source": [
    "!ls stocks*.csv"
   ]
  },
  {
   "cell_type": "code",
   "execution_count": 3,
   "metadata": {},
   "outputs": [],
   "source": [
    "s = \"\"\"\n",
    "stocks-dow30.csv      stocks-russell2000.csv  stocks-sp500.csv\n",
    "stocks-nasdaq100.csv  \n",
    "\"\"\""
   ]
  },
  {
   "cell_type": "code",
   "execution_count": 13,
   "metadata": {},
   "outputs": [],
   "source": [
    "csv_files = [i for i in s.replace(\"\\n\", \" \").split(\" \") if i.strip()]"
   ]
  },
  {
   "cell_type": "code",
   "execution_count": 14,
   "metadata": {},
   "outputs": [
    {
     "data": {
      "text/plain": [
       "['stocks-dow30.csv',\n",
       " 'stocks-russell2000.csv',\n",
       " 'stocks-sp500.csv',\n",
       " 'stocks-nasdaq100.csv']"
      ]
     },
     "execution_count": 14,
     "metadata": {},
     "output_type": "execute_result"
    }
   ],
   "source": [
    "csv_files"
   ]
  },
  {
   "cell_type": "code",
   "execution_count": 39,
   "metadata": {},
   "outputs": [],
   "source": [
    "import pandas as pd"
   ]
  },
  {
   "cell_type": "code",
   "execution_count": 68,
   "metadata": {},
   "outputs": [],
   "source": [
    "header = \"Ticker, Name, Sector_File, TopN, WRITE_ALL_DF\"\n",
    "ETF_COLS = [c.strip() for c in header.split(\",\")]\n",
    "df = pd.read_csv(\"stocks-ETF-sectors.csv\",\n",
    "         names=ETF_COLS, \n",
    "         skiprows=[0])\n",
    "\n",
    "df = df[[\"Sector_File\", \"TopN\", \"WRITE_ALL_DF\"]]"
   ]
  },
  {
   "cell_type": "code",
   "execution_count": 75,
   "metadata": {},
   "outputs": [
    {
     "name": "stdout",
     "output_type": "stream",
     "text": [
      "stocks-SP500.csv, 40, False\n",
      "stocks-NASDAQ100.csv, 20, True\n",
      "stocks-DOW30.csv, 10, True\n",
      "stocks-RUSSELL2000.csv, 100, False\n",
      "sector-GOLD-miner.csv, 5, True\n",
      "sector-SILVER-miner.csv, 10, True\n",
      "sector-communication-services.csv, 10, False\n",
      "sector-consumer-cyclical.csv, 20, False\n",
      "sector-consumer-defensive.csv, 10, False\n",
      "sector-energy.csv, 15, False\n",
      "sector-financial-services.csv, 30, False\n",
      "sector-healthcare.csv, 50, False\n",
      "sector-industrials.csv, 30, False\n",
      "sector-basic-materials.csv, 20, False\n",
      "sector-technology.csv, 40, False\n",
      "sector-utilities.csv, 10, False\n",
      "sector-real-estate.csv, 5, False\n"
     ]
    }
   ],
   "source": [
    "for row in df.index:\n",
    "    file_csv, TOP_N, WRITE_ALL_DF = df.loc[row,:].tolist()\n",
    "    print(f\"{file_csv.strip()}, {TOP_N}, {bool(WRITE_ALL_DF)}\")"
   ]
  },
  {
   "cell_type": "code",
   "execution_count": 59,
   "metadata": {},
   "outputs": [],
   "source": [
    "df = pd.read_csv(\"sector-real-estate.txt\",\n",
    "         names=[c.strip() for c in \"Ticker,Name,Index Weight,Last,Change,% Change\".split(\",\")], \n",
    "         skiprows=[0])\n",
    "\n",
    "df = df[[\"Ticker\", \"Name\"]]"
   ]
  },
  {
   "cell_type": "code",
   "execution_count": 60,
   "metadata": {},
   "outputs": [],
   "source": [
    "df.to_csv(\"sector-real-estate.csv\", index=False)"
   ]
  },
  {
   "cell_type": "code",
   "execution_count": 52,
   "metadata": {},
   "outputs": [],
   "source": [
    "df = pd.read_csv(\"sector-gold-minor.csv\",\n",
    "         names=[c.strip() for c in \"Ticker, Name, %Assets\".split(\",\")], \n",
    "         skiprows=[0])\n",
    "\n",
    "df = df[[\"Ticker\", \"Name\"]]"
   ]
  },
  {
   "cell_type": "code",
   "execution_count": 54,
   "metadata": {},
   "outputs": [],
   "source": [
    "header = '\"% Assets\",Ticker,Name,SEDOL,\"Market Price ($)\",\"Shares Held\",\"Market Value ($)\"'\n",
    "df = pd.read_csv(\"sector-silver-miner.txt\",\n",
    "         names=[c.strip() for c in header.split(\",\")], \n",
    "         skiprows=[0])\n",
    "\n",
    "df = df[[\"Ticker\", \"Name\"]]"
   ]
  },
  {
   "cell_type": "code",
   "execution_count": 58,
   "metadata": {},
   "outputs": [],
   "source": [
    "df.to_csv(\"sector-silver-miner.csv\", index=False)"
   ]
  },
  {
   "cell_type": "code",
   "execution_count": 55,
   "metadata": {
    "scrolled": true
   },
   "outputs": [
    {
     "data": {
      "text/html": [
       "<div>\n",
       "<style scoped>\n",
       "    .dataframe tbody tr th:only-of-type {\n",
       "        vertical-align: middle;\n",
       "    }\n",
       "\n",
       "    .dataframe tbody tr th {\n",
       "        vertical-align: top;\n",
       "    }\n",
       "\n",
       "    .dataframe thead th {\n",
       "        text-align: right;\n",
       "    }\n",
       "</style>\n",
       "<table border=\"1\" class=\"dataframe\">\n",
       "  <thead>\n",
       "    <tr style=\"text-align: right;\">\n",
       "      <th></th>\n",
       "      <th>Ticker</th>\n",
       "      <th>Name</th>\n",
       "    </tr>\n",
       "  </thead>\n",
       "  <tbody>\n",
       "    <tr>\n",
       "      <th>0</th>\n",
       "      <td>WPM</td>\n",
       "      <td>WHEATON PRECIOUS</td>\n",
       "    </tr>\n",
       "    <tr>\n",
       "      <th>1</th>\n",
       "      <td>PAAS</td>\n",
       "      <td>PAN AMERICAN SILVER CORP</td>\n",
       "    </tr>\n",
       "    <tr>\n",
       "      <th>2</th>\n",
       "      <td>HL</td>\n",
       "      <td>HECLA MINING CO</td>\n",
       "    </tr>\n",
       "    <tr>\n",
       "      <th>3</th>\n",
       "      <td>SSRM</td>\n",
       "      <td>SSR MINING INC</td>\n",
       "    </tr>\n",
       "    <tr>\n",
       "      <th>4</th>\n",
       "      <td>BVN</td>\n",
       "      <td>BUENAVENTURA-ADR</td>\n",
       "    </tr>\n",
       "    <tr>\n",
       "      <th>5</th>\n",
       "      <td>AG</td>\n",
       "      <td>FIRST MAJESTIC S</td>\n",
       "    </tr>\n",
       "    <tr>\n",
       "      <th>6</th>\n",
       "      <td>CDE</td>\n",
       "      <td>COEUR MINING INC</td>\n",
       "    </tr>\n",
       "    <tr>\n",
       "      <th>7</th>\n",
       "      <td>MAG</td>\n",
       "      <td>MAG SILVER CORP</td>\n",
       "    </tr>\n",
       "    <tr>\n",
       "      <th>8</th>\n",
       "      <td>FSM</td>\n",
       "      <td>FORTUNA SILVER MINES INC</td>\n",
       "    </tr>\n",
       "    <tr>\n",
       "      <th>9</th>\n",
       "      <td>SILV</td>\n",
       "      <td>SILVERCREST METALS INC</td>\n",
       "    </tr>\n",
       "    <tr>\n",
       "      <th>10</th>\n",
       "      <td>SVM</td>\n",
       "      <td>SILVERCORP METALS INC</td>\n",
       "    </tr>\n",
       "    <tr>\n",
       "      <th>11</th>\n",
       "      <td>HCHDF</td>\n",
       "      <td>HOCHSCHILD MINING PLC</td>\n",
       "    </tr>\n",
       "    <tr>\n",
       "      <th>12</th>\n",
       "      <td>EXK</td>\n",
       "      <td>ENDEAVOUR SILVER CORP</td>\n",
       "    </tr>\n",
       "    <tr>\n",
       "      <th>13</th>\n",
       "      <td>NUPMF</td>\n",
       "      <td>NEW PACIFIC METALS CORP</td>\n",
       "    </tr>\n",
       "    <tr>\n",
       "      <th>14</th>\n",
       "      <td>AXU</td>\n",
       "      <td>ALEXCO RESOURCE CORP</td>\n",
       "    </tr>\n",
       "    <tr>\n",
       "      <th>15</th>\n",
       "      <td>USAS</td>\n",
       "      <td>AMERICAS GOLD AN</td>\n",
       "    </tr>\n",
       "    <tr>\n",
       "      <th>16</th>\n",
       "      <td>GLGDF</td>\n",
       "      <td>GOGOLD RESOURCES INC</td>\n",
       "    </tr>\n",
       "    <tr>\n",
       "      <th>17</th>\n",
       "      <td>DSVMF</td>\n",
       "      <td>DISCOVERY METALS CORP</td>\n",
       "    </tr>\n",
       "    <tr>\n",
       "      <th>18</th>\n",
       "      <td>MUX</td>\n",
       "      <td>MCEWEN MINING INC</td>\n",
       "    </tr>\n",
       "    <tr>\n",
       "      <th>19</th>\n",
       "      <td>GPL</td>\n",
       "      <td>GREAT PANTHER MINING LTD</td>\n",
       "    </tr>\n",
       "    <tr>\n",
       "      <th>20</th>\n",
       "      <td>GORO</td>\n",
       "      <td>GOLD RESOURCE CORP</td>\n",
       "    </tr>\n",
       "    <tr>\n",
       "      <th>21</th>\n",
       "      <td>BCEKF</td>\n",
       "      <td>BEAR CREEK MINING CORP</td>\n",
       "    </tr>\n",
       "    <tr>\n",
       "      <th>22</th>\n",
       "      <td>ITRG</td>\n",
       "      <td>INTEGRA RESOURCES CORP</td>\n",
       "    </tr>\n",
       "    <tr>\n",
       "      <th>23</th>\n",
       "      <td>KSKGF</td>\n",
       "      <td>KINGSGATE CONSOL</td>\n",
       "    </tr>\n",
       "    <tr>\n",
       "      <th>24</th>\n",
       "      <td>AUNFF</td>\n",
       "      <td>AURCANA SILVER CORP</td>\n",
       "    </tr>\n",
       "    <tr>\n",
       "      <th>25</th>\n",
       "      <td>PRMNF</td>\n",
       "      <td>PRIME MINING CORP</td>\n",
       "    </tr>\n",
       "    <tr>\n",
       "      <th>26</th>\n",
       "      <td>ISVLF</td>\n",
       "      <td>IMPACT SILVER CORP</td>\n",
       "    </tr>\n",
       "    <tr>\n",
       "      <th>27</th>\n",
       "      <td>AAGFF</td>\n",
       "      <td>AFTERMATH SILVER LTD</td>\n",
       "    </tr>\n",
       "    <tr>\n",
       "      <th>28</th>\n",
       "      <td>ABBRF</td>\n",
       "      <td>ABRAPLATA RESOURCE CORP</td>\n",
       "    </tr>\n",
       "    <tr>\n",
       "      <th>29</th>\n",
       "      <td>SLVRF</td>\n",
       "      <td>SILVER ONE RESOURCES INC</td>\n",
       "    </tr>\n",
       "    <tr>\n",
       "      <th>30</th>\n",
       "      <td>KOOYF</td>\n",
       "      <td>KOOTENAY SILVER INC</td>\n",
       "    </tr>\n",
       "    <tr>\n",
       "      <th>31</th>\n",
       "      <td>EXN</td>\n",
       "      <td>EXCELLON RESOURCES INC</td>\n",
       "    </tr>\n",
       "    <tr>\n",
       "      <th>32</th>\n",
       "      <td>AAU</td>\n",
       "      <td>ALMADEN MINERALS LTD - B</td>\n",
       "    </tr>\n",
       "    <tr>\n",
       "      <th>33</th>\n",
       "      <td>WHGDF</td>\n",
       "      <td>WHITEHORSE GOLD CORP</td>\n",
       "    </tr>\n",
       "  </tbody>\n",
       "</table>\n",
       "</div>"
      ],
      "text/plain": [
       "   Ticker                      Name\n",
       "0     WPM          WHEATON PRECIOUS\n",
       "1    PAAS  PAN AMERICAN SILVER CORP\n",
       "2      HL           HECLA MINING CO\n",
       "3    SSRM            SSR MINING INC\n",
       "4     BVN          BUENAVENTURA-ADR\n",
       "5      AG          FIRST MAJESTIC S\n",
       "6     CDE          COEUR MINING INC\n",
       "7     MAG           MAG SILVER CORP\n",
       "8     FSM  FORTUNA SILVER MINES INC\n",
       "9    SILV    SILVERCREST METALS INC\n",
       "10    SVM     SILVERCORP METALS INC\n",
       "11  HCHDF     HOCHSCHILD MINING PLC\n",
       "12    EXK     ENDEAVOUR SILVER CORP\n",
       "13  NUPMF   NEW PACIFIC METALS CORP\n",
       "14    AXU      ALEXCO RESOURCE CORP\n",
       "15   USAS          AMERICAS GOLD AN\n",
       "16  GLGDF      GOGOLD RESOURCES INC\n",
       "17  DSVMF     DISCOVERY METALS CORP\n",
       "18    MUX         MCEWEN MINING INC\n",
       "19    GPL  GREAT PANTHER MINING LTD\n",
       "20   GORO        GOLD RESOURCE CORP\n",
       "21  BCEKF    BEAR CREEK MINING CORP\n",
       "22   ITRG    INTEGRA RESOURCES CORP\n",
       "23  KSKGF          KINGSGATE CONSOL\n",
       "24  AUNFF       AURCANA SILVER CORP\n",
       "25  PRMNF         PRIME MINING CORP\n",
       "26  ISVLF        IMPACT SILVER CORP\n",
       "27  AAGFF      AFTERMATH SILVER LTD\n",
       "28  ABBRF   ABRAPLATA RESOURCE CORP\n",
       "29  SLVRF  SILVER ONE RESOURCES INC\n",
       "30  KOOYF       KOOTENAY SILVER INC\n",
       "31    EXN    EXCELLON RESOURCES INC\n",
       "32    AAU  ALMADEN MINERALS LTD - B\n",
       "33  WHGDF      WHITEHORSE GOLD CORP"
      ]
     },
     "execution_count": 55,
     "metadata": {},
     "output_type": "execute_result"
    }
   ],
   "source": [
    "df"
   ]
  },
  {
   "cell_type": "code",
   "execution_count": 40,
   "metadata": {},
   "outputs": [],
   "source": [
    "df = pd.read_csv(\"stocks-dow30-raw.csv\",\n",
    "         names=[c.strip() for c in \"Name,Ticker,Weight,      Price,Chg,% Chg\".split(\",\")], \n",
    "         skiprows=[0])"
   ]
  },
  {
   "cell_type": "code",
   "execution_count": 43,
   "metadata": {},
   "outputs": [
    {
     "data": {
      "text/html": [
       "<div>\n",
       "<style scoped>\n",
       "    .dataframe tbody tr th:only-of-type {\n",
       "        vertical-align: middle;\n",
       "    }\n",
       "\n",
       "    .dataframe tbody tr th {\n",
       "        vertical-align: top;\n",
       "    }\n",
       "\n",
       "    .dataframe thead th {\n",
       "        text-align: right;\n",
       "    }\n",
       "</style>\n",
       "<table border=\"1\" class=\"dataframe\">\n",
       "  <thead>\n",
       "    <tr style=\"text-align: right;\">\n",
       "      <th></th>\n",
       "      <th>Ticker</th>\n",
       "      <th>Name</th>\n",
       "    </tr>\n",
       "  </thead>\n",
       "  <tbody>\n",
       "    <tr>\n",
       "      <th>0</th>\n",
       "      <td>UNH</td>\n",
       "      <td>UnitedHealth Group Incorporated</td>\n",
       "    </tr>\n",
       "    <tr>\n",
       "      <th>1</th>\n",
       "      <td>HD</td>\n",
       "      <td>Home Depot Inc.</td>\n",
       "    </tr>\n",
       "    <tr>\n",
       "      <th>2</th>\n",
       "      <td>GS</td>\n",
       "      <td>Goldman Sachs Group Inc.</td>\n",
       "    </tr>\n",
       "    <tr>\n",
       "      <th>3</th>\n",
       "      <td>AMGN</td>\n",
       "      <td>Amgen Inc.</td>\n",
       "    </tr>\n",
       "    <tr>\n",
       "      <th>4</th>\n",
       "      <td>CRM</td>\n",
       "      <td>salesforce.com inc.</td>\n",
       "    </tr>\n",
       "    <tr>\n",
       "      <th>5</th>\n",
       "      <td>BA</td>\n",
       "      <td>Boeing Company</td>\n",
       "    </tr>\n",
       "    <tr>\n",
       "      <th>6</th>\n",
       "      <td>MSFT</td>\n",
       "      <td>Microsoft Corporation</td>\n",
       "    </tr>\n",
       "    <tr>\n",
       "      <th>7</th>\n",
       "      <td>MCD</td>\n",
       "      <td>McDonald's Corporation</td>\n",
       "    </tr>\n",
       "    <tr>\n",
       "      <th>8</th>\n",
       "      <td>V</td>\n",
       "      <td>Visa Inc. Class A</td>\n",
       "    </tr>\n",
       "    <tr>\n",
       "      <th>9</th>\n",
       "      <td>HON</td>\n",
       "      <td>Honeywell International Inc.</td>\n",
       "    </tr>\n",
       "    <tr>\n",
       "      <th>10</th>\n",
       "      <td>CAT</td>\n",
       "      <td>Caterpillar Inc.</td>\n",
       "    </tr>\n",
       "    <tr>\n",
       "      <th>11</th>\n",
       "      <td>MMM</td>\n",
       "      <td>3M Company</td>\n",
       "    </tr>\n",
       "    <tr>\n",
       "      <th>12</th>\n",
       "      <td>DIS</td>\n",
       "      <td>Walt Disney Company</td>\n",
       "    </tr>\n",
       "    <tr>\n",
       "      <th>13</th>\n",
       "      <td>JNJ</td>\n",
       "      <td>Johnson &amp; Johnson</td>\n",
       "    </tr>\n",
       "    <tr>\n",
       "      <th>14</th>\n",
       "      <td>WMT</td>\n",
       "      <td>Walmart Inc.</td>\n",
       "    </tr>\n",
       "    <tr>\n",
       "      <th>15</th>\n",
       "      <td>PG</td>\n",
       "      <td>Procter &amp; Gamble Company</td>\n",
       "    </tr>\n",
       "    <tr>\n",
       "      <th>16</th>\n",
       "      <td>TRV</td>\n",
       "      <td>Travelers Companies Inc.</td>\n",
       "    </tr>\n",
       "    <tr>\n",
       "      <th>17</th>\n",
       "      <td>NKE</td>\n",
       "      <td>NIKE Inc. Class B</td>\n",
       "    </tr>\n",
       "    <tr>\n",
       "      <th>18</th>\n",
       "      <td>AAPL</td>\n",
       "      <td>Apple Inc.</td>\n",
       "    </tr>\n",
       "    <tr>\n",
       "      <th>19</th>\n",
       "      <td>IBM</td>\n",
       "      <td>International Business Machines Corporation</td>\n",
       "    </tr>\n",
       "    <tr>\n",
       "      <th>20</th>\n",
       "      <td>JPM</td>\n",
       "      <td>JPMorgan Chase &amp; Co.</td>\n",
       "    </tr>\n",
       "    <tr>\n",
       "      <th>21</th>\n",
       "      <td>AXP</td>\n",
       "      <td>American Express Company</td>\n",
       "    </tr>\n",
       "    <tr>\n",
       "      <th>22</th>\n",
       "      <td>CVX</td>\n",
       "      <td>Chevron Corporation</td>\n",
       "    </tr>\n",
       "    <tr>\n",
       "      <th>23</th>\n",
       "      <td>MRK</td>\n",
       "      <td>Merck &amp; Co. Inc.</td>\n",
       "    </tr>\n",
       "    <tr>\n",
       "      <th>24</th>\n",
       "      <td>VZ</td>\n",
       "      <td>Verizon Communications Inc.</td>\n",
       "    </tr>\n",
       "    <tr>\n",
       "      <th>25</th>\n",
       "      <td>DOW</td>\n",
       "      <td>Dow Inc.</td>\n",
       "    </tr>\n",
       "    <tr>\n",
       "      <th>26</th>\n",
       "      <td>KO</td>\n",
       "      <td>Coca-Cola Company</td>\n",
       "    </tr>\n",
       "    <tr>\n",
       "      <th>27</th>\n",
       "      <td>INTC</td>\n",
       "      <td>Intel Corporation</td>\n",
       "    </tr>\n",
       "    <tr>\n",
       "      <th>28</th>\n",
       "      <td>CSCO</td>\n",
       "      <td>Cisco Systems Inc.</td>\n",
       "    </tr>\n",
       "    <tr>\n",
       "      <th>29</th>\n",
       "      <td>WBA</td>\n",
       "      <td>Walgreens Boots Alliance Inc</td>\n",
       "    </tr>\n",
       "  </tbody>\n",
       "</table>\n",
       "</div>"
      ],
      "text/plain": [
       "   Ticker                                         Name\n",
       "0     UNH              UnitedHealth Group Incorporated\n",
       "1      HD                              Home Depot Inc.\n",
       "2      GS                     Goldman Sachs Group Inc.\n",
       "3    AMGN                                   Amgen Inc.\n",
       "4     CRM                          salesforce.com inc.\n",
       "5      BA                               Boeing Company\n",
       "6    MSFT                        Microsoft Corporation\n",
       "7     MCD                       McDonald's Corporation\n",
       "8       V                            Visa Inc. Class A\n",
       "9     HON                 Honeywell International Inc.\n",
       "10    CAT                             Caterpillar Inc.\n",
       "11    MMM                                   3M Company\n",
       "12    DIS                          Walt Disney Company\n",
       "13    JNJ                            Johnson & Johnson\n",
       "14    WMT                                 Walmart Inc.\n",
       "15     PG                     Procter & Gamble Company\n",
       "16    TRV                     Travelers Companies Inc.\n",
       "17    NKE                            NIKE Inc. Class B\n",
       "18   AAPL                                   Apple Inc.\n",
       "19    IBM  International Business Machines Corporation\n",
       "20    JPM                         JPMorgan Chase & Co.\n",
       "21    AXP                     American Express Company\n",
       "22    CVX                          Chevron Corporation\n",
       "23    MRK                             Merck & Co. Inc.\n",
       "24     VZ                  Verizon Communications Inc.\n",
       "25    DOW                                     Dow Inc.\n",
       "26     KO                            Coca-Cola Company\n",
       "27   INTC                            Intel Corporation\n",
       "28   CSCO                           Cisco Systems Inc.\n",
       "29    WBA                 Walgreens Boots Alliance Inc"
      ]
     },
     "execution_count": 43,
     "metadata": {},
     "output_type": "execute_result"
    }
   ],
   "source": [
    "df = df[[\"Ticker\", \"Name\"]]\n",
    "df"
   ]
  },
  {
   "cell_type": "code",
   "execution_count": 44,
   "metadata": {},
   "outputs": [],
   "source": [
    "df.to_csv(\"stocks-dow30.csv\", index=False)"
   ]
  },
  {
   "cell_type": "code",
   "execution_count": 21,
   "metadata": {},
   "outputs": [],
   "source": [
    "all_tickers = set(pd.read_csv(\"stocks-sectors.csv\")[\"Ticker\"].tolist())"
   ]
  },
  {
   "cell_type": "code",
   "execution_count": null,
   "metadata": {},
   "outputs": [],
   "source": []
  },
  {
   "cell_type": "code",
   "execution_count": null,
   "metadata": {},
   "outputs": [],
   "source": []
  },
  {
   "cell_type": "code",
   "execution_count": null,
   "metadata": {},
   "outputs": [],
   "source": []
  },
  {
   "cell_type": "code",
   "execution_count": 27,
   "metadata": {},
   "outputs": [
    {
     "name": "stdout",
     "output_type": "stream",
     "text": [
      "\n",
      "\n",
      "file=stocks-dow30.csv, num_stocks=30, first_5=['UNH', 'HD', 'GS', 'AMGN', 'CRM']\n",
      "\n",
      "\n",
      "file=stocks-russell2000.csv, num_stocks=2048, first_5=['PENN', 'CZR', 'PLUG', 'RARE', 'MRTX']\n",
      "\n",
      "Add following stocks to 'stocks-sectors.csv':\n",
      "{'BRMK', 'STTK', 'RWT', 'WLLAW', 'GTXI', 'ARL', 'CWENA', 'XTSLA', 'FSP', 'CTT', 'DOC', 'UBA', 'CCCC', 'TRTX', 'HASI', 'PMT', 'PDM', 'CLPR', 'CORR', 'NYMT', 'IIPR', 'ABR', 'NHI', 'ILPT', 'PSB', 'CXP', 'CTRE', 'AVIR', 'CRDA', 'CHCT', 'ORC', 'OLP', 'LTC', 'RPAI', 'RHP', 'INN', 'PEB', 'RLJ', 'MNR', 'WMC', 'DX', 'ACRE', 'GEO', 'RMR', 'STAG', 'PLYM', 'XHR', 'TCI', 'FTHM', 'GTY', 'MSFUT', 'DEA', 'QTS', 'USD', 'LXP', 'FCPT', 'ALEX', 'GNL', 'SNR', 'RVI', 'ADRO', 'MOGA', 'ARI', 'UE', 'NMRK', 'EXPI', 'SITC', 'CIO', 'GRIF', 'LADR', 'JOE', 'HT', 'ROIC', 'NSA', 'FOR', 'STRS', 'TWO', 'CMO', 'FRPH', 'CLNC', 'BRT', 'BHA', 'BRG', 'CWK', 'RLGY', 'CXW', 'BNL', 'RPT', 'KRG', 'ARR', 'WSR', 'IVR', 'NXRT', 'SAFE', 'SBRA', 'WRAP', 'NTST', 'PINE', 'OPI', 'GMRE', 'CIM', 'APTS', 'DRH', 'CLNY', 'CPLG', 'RESI', 'KRON', 'WRE', 'AFIN', 'AKR', 'GPMT', 'AAT', 'SHO', 'MFA', 'DYN', 'CMCT', 'BVH', 'ALX', 'CLDT', 'UMH', 'IRET', 'RC', 'AAIC', 'EARN', 'SKT', 'RDFN', 'UNIT', 'GOOD', 'LUNG', 'MLP', 'KW', 'STAR', 'IRT', 'MAC', 'CLI', 'SRG', 'KREF', 'BXMT', 'TVTX', 'FPI', 'HR', 'TRNO', 'UHT', 'CHMI', 'PTVE', 'GEFB', 'SVC', 'RMAX', 'BFS', 'LAND', 'PCH', 'DHC', 'EPRT', 'WLLBW', 'ASO', 'AHH', 'ADC', 'MMI', 'ANH', 'EGP', 'CTO', 'AJX'}\n",
      "\n",
      "\n",
      "file=stocks-sp500.csv, num_stocks=505, first_5=['A', 'AAL', 'AAP', 'AAPL', 'ABBV']\n",
      "\n",
      "Add following stocks to 'stocks-sectors.csv':\n",
      "{'O', 'REG', 'PEAK', 'EXR', 'SBAC', 'WELL', 'VNO', 'KIM', 'ESS', 'CCI', 'NBL', 'BXP', 'AIV', 'AMT', 'UDR', 'AVB', 'SLG', 'DLR', 'DRE', 'SPG', 'IRM', 'EQIX', 'HST', 'MAA', 'CTL', 'MYL', 'ETFC', 'FRT', 'PSA', 'ARE', 'VTR', 'PLD', 'EQR', 'CBRE', 'WY'}\n",
      "\n",
      "\n",
      "file=stocks-nasdaq100.csv, num_stocks=103, first_5=['ATVI', 'ADBE', 'AMD', 'ALXN', 'ALGN']\n"
     ]
    }
   ],
   "source": [
    "for f in csv_files:\n",
    "    tickers = pd.read_csv(f)[\"Ticker\"].tolist()\n",
    "    print(f\"\\n\\nfile={f}, num_stocks={len(tickers)}, first_5={tickers[:5]}\")\n",
    "    stocks_to_add = set(tickers).difference(all_tickers)\n",
    "    if stocks_to_add:\n",
    "        print(f\"\\nAdd following stocks to 'stocks-sectors.csv':\\n{stocks_to_add}\")"
   ]
  },
  {
   "cell_type": "code",
   "execution_count": 28,
   "metadata": {},
   "outputs": [],
   "source": [
    "file_unknown = \"sector-unknown.csv\""
   ]
  },
  {
   "cell_type": "code",
   "execution_count": 29,
   "metadata": {},
   "outputs": [],
   "source": [
    "s1 = {'BRMK', 'STTK', 'RWT', 'WLLAW', 'GTXI', 'ARL', 'CWENA', 'XTSLA', 'FSP', 'CTT', 'DOC', 'UBA', 'CCCC', 'TRTX', 'HASI', 'PMT', 'PDM', 'CLPR', 'CORR', 'NYMT', 'IIPR', 'ABR', 'NHI', 'ILPT', 'PSB', 'CXP', 'CTRE', 'AVIR', 'CRDA', 'CHCT', 'ORC', 'OLP', 'LTC', 'RPAI', 'RHP', 'INN', 'PEB', 'RLJ', 'MNR', 'WMC', 'DX', 'ACRE', 'GEO', 'RMR', 'STAG', 'PLYM', 'XHR', 'TCI', 'FTHM', 'GTY', 'MSFUT', 'DEA', 'QTS', 'USD', 'LXP', 'FCPT', 'ALEX', 'GNL', 'SNR', 'RVI', 'ADRO', 'MOGA', 'ARI', 'UE', 'NMRK', 'EXPI', 'SITC', 'CIO', 'GRIF', 'LADR', 'JOE', 'HT', 'ROIC', 'NSA', 'FOR', 'STRS', 'TWO', 'CMO', 'FRPH', 'CLNC', 'BRT', 'BHA', 'BRG', 'CWK', 'RLGY', 'CXW', 'BNL', 'RPT', 'KRG', 'ARR', 'WSR', 'IVR', 'NXRT', 'SAFE', 'SBRA', 'WRAP', 'NTST', 'PINE', 'OPI', 'GMRE', 'CIM', 'APTS', 'DRH', 'CLNY', 'CPLG', 'RESI', 'KRON', 'WRE', 'AFIN', 'AKR', 'GPMT', 'AAT', 'SHO', 'MFA', 'DYN', 'CMCT', 'BVH', 'ALX', 'CLDT', 'UMH', 'IRET', 'RC', 'AAIC', 'EARN', 'SKT', 'RDFN', 'UNIT', 'GOOD', 'LUNG', 'MLP', 'KW', 'STAR', 'IRT', 'MAC', 'CLI', 'SRG', 'KREF', 'BXMT', 'TVTX', 'FPI', 'HR', 'TRNO', 'UHT', 'CHMI', 'PTVE', 'GEFB', 'SVC', 'RMAX', 'BFS', 'LAND', 'PCH', 'DHC', 'EPRT', 'WLLBW', 'ASO', 'AHH', 'ADC', 'MMI', 'ANH', 'EGP', 'CTO', 'AJX'}"
   ]
  },
  {
   "cell_type": "code",
   "execution_count": 30,
   "metadata": {},
   "outputs": [],
   "source": [
    "s2 = {'O', 'REG', 'PEAK', 'EXR', 'SBAC', 'WELL', 'VNO', 'KIM', 'ESS', 'CCI', 'NBL', 'BXP', 'AIV', 'AMT', 'UDR', 'AVB', 'SLG', 'DLR', 'DRE', 'SPG', 'IRM', 'EQIX', 'HST', 'MAA', 'CTL', 'MYL', 'ETFC', 'FRT', 'PSA', 'ARE', 'VTR', 'PLD', 'EQR', 'CBRE', 'WY'}"
   ]
  },
  {
   "cell_type": "code",
   "execution_count": 32,
   "metadata": {},
   "outputs": [
    {
     "data": {
      "text/plain": [
       "set()"
      ]
     },
     "execution_count": 32,
     "metadata": {},
     "output_type": "execute_result"
    }
   ],
   "source": [
    "s1.intersection(s2)"
   ]
  },
  {
   "cell_type": "code",
   "execution_count": 37,
   "metadata": {},
   "outputs": [],
   "source": [
    "with open(file_unknown, \"w\") as f:\n",
    "    f.write(\"Ticker\\n\")\n",
    "    f.write(\"\\n\".join(list(s1.union(s2))))"
   ]
  },
  {
   "cell_type": "code",
   "execution_count": null,
   "metadata": {},
   "outputs": [],
   "source": []
  }
 ],
 "metadata": {
  "kernelspec": {
   "display_name": "Python 3",
   "language": "python",
   "name": "python3"
  },
  "language_info": {
   "codemirror_mode": {
    "name": "ipython",
    "version": 3
   },
   "file_extension": ".py",
   "mimetype": "text/x-python",
   "name": "python",
   "nbconvert_exporter": "python",
   "pygments_lexer": "ipython3",
   "version": "3.8.5"
  }
 },
 "nbformat": 4,
 "nbformat_minor": 4
}

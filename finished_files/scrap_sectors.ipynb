{
 "cells": [
  {
   "cell_type": "markdown",
   "metadata": {},
   "source": [
    "https://srome.github.io/Parsing-HTML-Tables-in-Python-with-BeautifulSoup-and-pandas/"
   ]
  },
  {
   "cell_type": "code",
   "execution_count": 17,
   "metadata": {},
   "outputs": [],
   "source": [
    "import requests\n",
    "import pandas as pd\n",
    "from bs4 import BeautifulSoup\n",
    "\n",
    "class HTMLTableParser:\n",
    "    \n",
    "    def parse_url(self, url):\n",
    "        response = requests.get(url)\n",
    "        soup = BeautifulSoup(response.text, 'lxml')\n",
    "        return [(table['id'],self.parse_html_table(table))\\\n",
    "                for table in soup.find_all('table')]  \n",
    "\n",
    "    def parse_html_table(self, table):\n",
    "        n_columns = 0\n",
    "        n_rows=0\n",
    "        column_names = []\n",
    "\n",
    "        # Find number of rows and columns\n",
    "        # we also find the column titles if we can\n",
    "        for row in table.find_all('tr'):\n",
    "            \n",
    "            # Determine the number of rows in the table\n",
    "            td_tags = row.find_all('td')\n",
    "            if len(td_tags) > 0:\n",
    "                n_rows+=1\n",
    "                if n_columns == 0:\n",
    "                    # Set the number of columns for our table\n",
    "                    n_columns = len(td_tags)\n",
    "                    \n",
    "#             # Handle column names if we find them\n",
    "            th_tags = row.find_all('th') \n",
    "            if len(th_tags) > 0 and len(column_names) == 0:\n",
    "                for th in th_tags:\n",
    "                    column_names.append(th.get_text())\n",
    "\n",
    "        # Safeguard on Column Titles\n",
    "        if len(column_names) > 0:\n",
    "            if len(column_names) < n_columns:\n",
    "                column_names.insert(0, \"c0\")\n",
    "                \n",
    "#             raise Exception(\"Column titles do not match the number of columns\")\n",
    "\n",
    "\n",
    "        columns = column_names if len(column_names) > 0 else range(0,n_columns)\n",
    "        df = pd.DataFrame(columns = columns,\n",
    "                            index= range(0,n_rows))\n",
    "        row_marker = 0\n",
    "        for row in table.find_all('tr'):\n",
    "            column_marker = 0\n",
    "            columns = row.find_all('td')\n",
    "            for column in columns:\n",
    "                df.iat[row_marker,column_marker] = column.get_text().strip()\n",
    "                column_marker += 1\n",
    "            if len(columns) > 0:\n",
    "                row_marker += 1\n",
    "                \n",
    "        # Convert to float if possible\n",
    "        for col in df:\n",
    "            try:\n",
    "                df[col] = df[col].astype(float)\n",
    "            except ValueError:\n",
    "                pass\n",
    "        \n",
    "        return df\n",
    "\n",
    "hp = HTMLTableParser()"
   ]
  },
  {
   "cell_type": "code",
   "execution_count": 2,
   "metadata": {},
   "outputs": [],
   "source": [
    "base_url = \"https://www.stockmonitor.com/sector/\"\n",
    "    \n",
    "sectors = [\n",
    "    \"basic-materials\",\n",
    "    \"communication-services\",\n",
    "    \"consumer-cyclical\",\n",
    "    \"consumer-defensive\",\n",
    "    \"energy\",\n",
    "    \"financial-services\",\n",
    "    \"healthcare\",\n",
    "    \"industrials\",\n",
    "    \"technology\",\n",
    "    \"utilities\"\n",
    "]"
   ]
  },
  {
   "cell_type": "code",
   "execution_count": 35,
   "metadata": {},
   "outputs": [],
   "source": [
    "sector_url = {}\n",
    "for sector in sectors:\n",
    "    url = f\"{base_url}{sector}/\"\n",
    "    sector_url[sector] = url"
   ]
  },
  {
   "cell_type": "code",
   "execution_count": 36,
   "metadata": {},
   "outputs": [
    {
     "data": {
      "text/plain": [
       "{'basic-materials': 'https://www.stockmonitor.com/sector/basic-materials/',\n",
       " 'communication-services': 'https://www.stockmonitor.com/sector/communication-services/',\n",
       " 'consumer-cyclical': 'https://www.stockmonitor.com/sector/consumer-cyclical/',\n",
       " 'consumer-defensive': 'https://www.stockmonitor.com/sector/consumer-defensive/',\n",
       " 'energy': 'https://www.stockmonitor.com/sector/energy/',\n",
       " 'financial-services': 'https://www.stockmonitor.com/sector/financial-services/',\n",
       " 'healthcare': 'https://www.stockmonitor.com/sector/healthcare/',\n",
       " 'industrials': 'https://www.stockmonitor.com/sector/industrials/',\n",
       " 'technology': 'https://www.stockmonitor.com/sector/technology/',\n",
       " 'utilities': 'https://www.stockmonitor.com/sector/utilities/'}"
      ]
     },
     "execution_count": 36,
     "metadata": {},
     "output_type": "execute_result"
    }
   ],
   "source": [
    "sector_url"
   ]
  },
  {
   "cell_type": "code",
   "execution_count": 37,
   "metadata": {},
   "outputs": [],
   "source": [
    "sector_df = {}\n",
    "for sector,url in sector_url.items():\n",
    "    response = requests.get(url)\n",
    "    soup = BeautifulSoup(response.text, 'lxml')\n",
    "    table = soup.find_all('table')[0]\n",
    "    df = hp.parse_html_table(table)\n",
    "    df[\"Ticker\"] = df[[\"Change%\"]]\n",
    "    df[\"Sector\"] = sector\n",
    "    sector_df[sector] = df[[\"Ticker\", \"Sector\", \"Company\"]]"
   ]
  },
  {
   "cell_type": "code",
   "execution_count": 43,
   "metadata": {},
   "outputs": [],
   "source": [
    "# sector_df"
   ]
  },
  {
   "cell_type": "code",
   "execution_count": 39,
   "metadata": {},
   "outputs": [],
   "source": [
    "df = sector_df[sectors[0]].copy()\n",
    "for i in range(1, len(sectors)):\n",
    "    sector = sectors[i]\n",
    "    df = pd.concat([df,sector_df[sector]])"
   ]
  },
  {
   "cell_type": "code",
   "execution_count": 40,
   "metadata": {},
   "outputs": [
    {
     "data": {
      "text/html": [
       "<div>\n",
       "<style scoped>\n",
       "    .dataframe tbody tr th:only-of-type {\n",
       "        vertical-align: middle;\n",
       "    }\n",
       "\n",
       "    .dataframe tbody tr th {\n",
       "        vertical-align: top;\n",
       "    }\n",
       "\n",
       "    .dataframe thead th {\n",
       "        text-align: right;\n",
       "    }\n",
       "</style>\n",
       "<table border=\"1\" class=\"dataframe\">\n",
       "  <thead>\n",
       "    <tr style=\"text-align: right;\">\n",
       "      <th></th>\n",
       "      <th>Ticker</th>\n",
       "      <th>Sector</th>\n",
       "      <th>Company</th>\n",
       "    </tr>\n",
       "  </thead>\n",
       "  <tbody>\n",
       "    <tr>\n",
       "      <th>0</th>\n",
       "      <td>ASIX</td>\n",
       "      <td>basic-materials</td>\n",
       "      <td>AdvanSix Inc</td>\n",
       "    </tr>\n",
       "    <tr>\n",
       "      <th>1</th>\n",
       "      <td>AEM</td>\n",
       "      <td>basic-materials</td>\n",
       "      <td>Agnico Eagle Mines Limited</td>\n",
       "    </tr>\n",
       "    <tr>\n",
       "      <th>2</th>\n",
       "      <td>APD</td>\n",
       "      <td>basic-materials</td>\n",
       "      <td>Air Products and Chemicals, Inc</td>\n",
       "    </tr>\n",
       "    <tr>\n",
       "      <th>3</th>\n",
       "      <td>AGI</td>\n",
       "      <td>basic-materials</td>\n",
       "      <td>Alamos Gold Inc</td>\n",
       "    </tr>\n",
       "    <tr>\n",
       "      <th>4</th>\n",
       "      <td>ALB</td>\n",
       "      <td>basic-materials</td>\n",
       "      <td>Albemarle Corporation</td>\n",
       "    </tr>\n",
       "    <tr>\n",
       "      <th>...</th>\n",
       "      <td>...</td>\n",
       "      <td>...</td>\n",
       "      <td>...</td>\n",
       "    </tr>\n",
       "    <tr>\n",
       "      <th>95</th>\n",
       "      <td>UGI</td>\n",
       "      <td>utilities</td>\n",
       "      <td>UGI Corporation</td>\n",
       "    </tr>\n",
       "    <tr>\n",
       "      <th>96</th>\n",
       "      <td>UTL</td>\n",
       "      <td>utilities</td>\n",
       "      <td>Unitil Corporation</td>\n",
       "    </tr>\n",
       "    <tr>\n",
       "      <th>97</th>\n",
       "      <td>VST</td>\n",
       "      <td>utilities</td>\n",
       "      <td>Vistra Energy Corp</td>\n",
       "    </tr>\n",
       "    <tr>\n",
       "      <th>98</th>\n",
       "      <td>WEC</td>\n",
       "      <td>utilities</td>\n",
       "      <td>WEC Energy Group, Inc</td>\n",
       "    </tr>\n",
       "    <tr>\n",
       "      <th>99</th>\n",
       "      <td>XEL</td>\n",
       "      <td>utilities</td>\n",
       "      <td>Xcel Energy Inc</td>\n",
       "    </tr>\n",
       "  </tbody>\n",
       "</table>\n",
       "<p>4990 rows × 3 columns</p>\n",
       "</div>"
      ],
      "text/plain": [
       "   Ticker           Sector                          Company\n",
       "0    ASIX  basic-materials                     AdvanSix Inc\n",
       "1     AEM  basic-materials       Agnico Eagle Mines Limited\n",
       "2     APD  basic-materials  Air Products and Chemicals, Inc\n",
       "3     AGI  basic-materials                  Alamos Gold Inc\n",
       "4     ALB  basic-materials            Albemarle Corporation\n",
       "..    ...              ...                              ...\n",
       "95    UGI        utilities                  UGI Corporation\n",
       "96    UTL        utilities               Unitil Corporation\n",
       "97    VST        utilities               Vistra Energy Corp\n",
       "98    WEC        utilities            WEC Energy Group, Inc\n",
       "99    XEL        utilities                  Xcel Energy Inc\n",
       "\n",
       "[4990 rows x 3 columns]"
      ]
     },
     "execution_count": 40,
     "metadata": {},
     "output_type": "execute_result"
    }
   ],
   "source": [
    "df"
   ]
  },
  {
   "cell_type": "code",
   "execution_count": 41,
   "metadata": {},
   "outputs": [
    {
     "data": {
      "text/plain": [
       "(4990, 3)"
      ]
     },
     "execution_count": 41,
     "metadata": {},
     "output_type": "execute_result"
    }
   ],
   "source": [
    "df.shape"
   ]
  },
  {
   "cell_type": "code",
   "execution_count": 42,
   "metadata": {},
   "outputs": [],
   "source": [
    "df.to_csv(\"sector_stocks.csv\", index=False)"
   ]
  },
  {
   "cell_type": "code",
   "execution_count": null,
   "metadata": {},
   "outputs": [],
   "source": []
  }
 ],
 "metadata": {
  "kernelspec": {
   "display_name": "Python 3",
   "language": "python",
   "name": "python3"
  },
  "language_info": {
   "codemirror_mode": {
    "name": "ipython",
    "version": 3
   },
   "file_extension": ".py",
   "mimetype": "text/x-python",
   "name": "python",
   "nbconvert_exporter": "python",
   "pygments_lexer": "ipython3",
   "version": "3.7.6"
  }
 },
 "nbformat": 4,
 "nbformat_minor": 4
}

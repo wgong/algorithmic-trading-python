{
 "cells": [
  {
   "cell_type": "markdown",
   "metadata": {},
   "source": [
    "## Finding Difference Between Rows And Columns Of A Pandas DataFrame\n",
    "\n",
    "https://pythontic.com/pandas/dataframe-computations/difference"
   ]
  },
  {
   "cell_type": "code",
   "execution_count": 2,
   "metadata": {},
   "outputs": [
    {
     "name": "stdout",
     "output_type": "stream",
     "text": [
      "Dataset:\n",
      "    A   B   C   D\n",
      "0   2   4   6   8\n",
      "1  10  12  14  18\n",
      "2  20  22  24  26\n",
      "3  28  30  32  34\n",
      "Difference between rows(Period=1):\n",
      "      A     B     C     D\n",
      "0   NaN   NaN   NaN   NaN\n",
      "1   8.0   8.0   8.0  10.0\n",
      "2  10.0  10.0  10.0   8.0\n",
      "3   8.0   8.0   8.0   8.0\n",
      "Difference between rows(Period=2):\n",
      "      A     B     C     D\n",
      "0   NaN   NaN   NaN   NaN\n",
      "1   NaN   NaN   NaN   NaN\n",
      "2  18.0  18.0  18.0  18.0\n",
      "3  18.0  18.0  18.0  16.0\n",
      "Difference between rows(Period=-1):\n",
      "      A     B     C     D\n",
      "0  -8.0  -8.0  -8.0 -10.0\n",
      "1 -10.0 -10.0 -10.0  -8.0\n",
      "2  -8.0  -8.0  -8.0  -8.0\n",
      "3   NaN   NaN   NaN   NaN\n",
      "Difference between rows(Period=-2):\n",
      "      A     B     C     D\n",
      "0 -18.0 -18.0 -18.0 -18.0\n",
      "1 -18.0 -18.0 -18.0 -16.0\n",
      "2   NaN   NaN   NaN   NaN\n",
      "3   NaN   NaN   NaN   NaN\n"
     ]
    }
   ],
   "source": [
    "import pandas as pd\n",
    "\n",
    " \n",
    "\n",
    "dataset = [(2, 4, 6, 8),\n",
    "\n",
    "           (10, 12, 14, 18),\n",
    "\n",
    "           (20, 22, 24, 26),\n",
    "\n",
    "           (28, 30, 32, 34)];\n",
    "\n",
    " \n",
    "\n",
    "df = pd.DataFrame(dataset, columns = (\"A\", \"B\", \"C\", \"D\" ));\n",
    "\n",
    "print(\"Dataset:\")\n",
    "\n",
    "print(df);\n",
    "\n",
    " \n",
    "\n",
    "# Calculate the difference between rows - By default, periods = 1\n",
    "\n",
    "difference = df.diff(axis=0);\n",
    "\n",
    "print(\"Difference between rows(Period=1):\");\n",
    "\n",
    "print(difference);\n",
    "\n",
    " \n",
    "\n",
    "# Calculate the difference between rows - periods = 2\n",
    "\n",
    "difference = df.diff(periods=2)\n",
    "\n",
    "print(\"Difference between rows(Period=2):\");\n",
    "\n",
    "print(difference);\n",
    "\n",
    " \n",
    "\n",
    "# Calculate the difference between rows - periods = -1\n",
    "\n",
    "difference = df.diff(periods=-1)\n",
    "\n",
    "print(\"Difference between rows(Period=-1):\");\n",
    "\n",
    "print(difference);\n",
    "\n",
    " \n",
    "\n",
    "# Calculate the difference between rows - periods = -2\n",
    "\n",
    "difference = df.diff(periods=-2)\n",
    "\n",
    "print(\"Difference between rows(Period=-2):\");\n",
    "\n",
    "print(difference);"
   ]
  },
  {
   "cell_type": "markdown",
   "metadata": {},
   "source": [
    "### Calculate the difference between columns"
   ]
  },
  {
   "cell_type": "code",
   "execution_count": 3,
   "metadata": {},
   "outputs": [],
   "source": [
    "df2 = df.diff(axis=1)"
   ]
  },
  {
   "cell_type": "code",
   "execution_count": 4,
   "metadata": {},
   "outputs": [
    {
     "data": {
      "text/html": [
       "<div>\n",
       "<style scoped>\n",
       "    .dataframe tbody tr th:only-of-type {\n",
       "        vertical-align: middle;\n",
       "    }\n",
       "\n",
       "    .dataframe tbody tr th {\n",
       "        vertical-align: top;\n",
       "    }\n",
       "\n",
       "    .dataframe thead th {\n",
       "        text-align: right;\n",
       "    }\n",
       "</style>\n",
       "<table border=\"1\" class=\"dataframe\">\n",
       "  <thead>\n",
       "    <tr style=\"text-align: right;\">\n",
       "      <th></th>\n",
       "      <th>A</th>\n",
       "      <th>B</th>\n",
       "      <th>C</th>\n",
       "      <th>D</th>\n",
       "    </tr>\n",
       "  </thead>\n",
       "  <tbody>\n",
       "    <tr>\n",
       "      <th>0</th>\n",
       "      <td>NaN</td>\n",
       "      <td>2.0</td>\n",
       "      <td>2.0</td>\n",
       "      <td>2.0</td>\n",
       "    </tr>\n",
       "    <tr>\n",
       "      <th>1</th>\n",
       "      <td>NaN</td>\n",
       "      <td>2.0</td>\n",
       "      <td>2.0</td>\n",
       "      <td>4.0</td>\n",
       "    </tr>\n",
       "    <tr>\n",
       "      <th>2</th>\n",
       "      <td>NaN</td>\n",
       "      <td>2.0</td>\n",
       "      <td>2.0</td>\n",
       "      <td>2.0</td>\n",
       "    </tr>\n",
       "    <tr>\n",
       "      <th>3</th>\n",
       "      <td>NaN</td>\n",
       "      <td>2.0</td>\n",
       "      <td>2.0</td>\n",
       "      <td>2.0</td>\n",
       "    </tr>\n",
       "  </tbody>\n",
       "</table>\n",
       "</div>"
      ],
      "text/plain": [
       "    A    B    C    D\n",
       "0 NaN  2.0  2.0  2.0\n",
       "1 NaN  2.0  2.0  4.0\n",
       "2 NaN  2.0  2.0  2.0\n",
       "3 NaN  2.0  2.0  2.0"
      ]
     },
     "execution_count": 4,
     "metadata": {},
     "output_type": "execute_result"
    }
   ],
   "source": [
    "df2"
   ]
  },
  {
   "cell_type": "code",
   "execution_count": 5,
   "metadata": {},
   "outputs": [],
   "source": [
    "df[\"AB\"] = df[\"B\"] - df[\"A\"]"
   ]
  },
  {
   "cell_type": "code",
   "execution_count": 6,
   "metadata": {},
   "outputs": [
    {
     "data": {
      "text/html": [
       "<div>\n",
       "<style scoped>\n",
       "    .dataframe tbody tr th:only-of-type {\n",
       "        vertical-align: middle;\n",
       "    }\n",
       "\n",
       "    .dataframe tbody tr th {\n",
       "        vertical-align: top;\n",
       "    }\n",
       "\n",
       "    .dataframe thead th {\n",
       "        text-align: right;\n",
       "    }\n",
       "</style>\n",
       "<table border=\"1\" class=\"dataframe\">\n",
       "  <thead>\n",
       "    <tr style=\"text-align: right;\">\n",
       "      <th></th>\n",
       "      <th>A</th>\n",
       "      <th>B</th>\n",
       "      <th>C</th>\n",
       "      <th>D</th>\n",
       "      <th>AB</th>\n",
       "    </tr>\n",
       "  </thead>\n",
       "  <tbody>\n",
       "    <tr>\n",
       "      <th>0</th>\n",
       "      <td>2</td>\n",
       "      <td>4</td>\n",
       "      <td>6</td>\n",
       "      <td>8</td>\n",
       "      <td>2</td>\n",
       "    </tr>\n",
       "    <tr>\n",
       "      <th>1</th>\n",
       "      <td>10</td>\n",
       "      <td>12</td>\n",
       "      <td>14</td>\n",
       "      <td>18</td>\n",
       "      <td>2</td>\n",
       "    </tr>\n",
       "    <tr>\n",
       "      <th>2</th>\n",
       "      <td>20</td>\n",
       "      <td>22</td>\n",
       "      <td>24</td>\n",
       "      <td>26</td>\n",
       "      <td>2</td>\n",
       "    </tr>\n",
       "    <tr>\n",
       "      <th>3</th>\n",
       "      <td>28</td>\n",
       "      <td>30</td>\n",
       "      <td>32</td>\n",
       "      <td>34</td>\n",
       "      <td>2</td>\n",
       "    </tr>\n",
       "  </tbody>\n",
       "</table>\n",
       "</div>"
      ],
      "text/plain": [
       "    A   B   C   D  AB\n",
       "0   2   4   6   8   2\n",
       "1  10  12  14  18   2\n",
       "2  20  22  24  26   2\n",
       "3  28  30  32  34   2"
      ]
     },
     "execution_count": 6,
     "metadata": {},
     "output_type": "execute_result"
    }
   ],
   "source": [
    "df"
   ]
  },
  {
   "cell_type": "code",
   "execution_count": null,
   "metadata": {},
   "outputs": [],
   "source": []
  }
 ],
 "metadata": {
  "kernelspec": {
   "display_name": "Python 3",
   "language": "python",
   "name": "python3"
  },
  "language_info": {
   "codemirror_mode": {
    "name": "ipython",
    "version": 3
   },
   "file_extension": ".py",
   "mimetype": "text/x-python",
   "name": "python",
   "nbconvert_exporter": "python",
   "pygments_lexer": "ipython3",
   "version": "3.8.5"
  }
 },
 "nbformat": 4,
 "nbformat_minor": 4
}

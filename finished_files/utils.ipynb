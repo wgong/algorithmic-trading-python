{
 "cells": [
  {
   "cell_type": "code",
   "execution_count": 9,
   "metadata": {},
   "outputs": [],
   "source": [
    "with open(\"nasdaq-100.txt\") as f:\n",
    "    tmp = f.read()"
   ]
  },
  {
   "cell_type": "code",
   "execution_count": 10,
   "metadata": {},
   "outputs": [],
   "source": [
    "data = []\n",
    "for t in tmp.split(\"\\n\"):\n",
    "    if not t:\n",
    "        continue\n",
    "    d = t.split('\\t')\n",
    "    data.append([d[-1], d[0:-1]])"
   ]
  },
  {
   "cell_type": "code",
   "execution_count": 11,
   "metadata": {},
   "outputs": [],
   "source": [
    "with open(\"nasdaq_100_stocks.csv\", \"w\") as f:\n",
    "    for d in data:\n",
    "        f.write(f\"{d[0]}, {' '.join(d[1])}\\n\")"
   ]
  },
  {
   "cell_type": "code",
   "execution_count": 12,
   "metadata": {},
   "outputs": [],
   "source": [
    "import pandas as pd"
   ]
  },
  {
   "cell_type": "code",
   "execution_count": 23,
   "metadata": {
    "scrolled": true
   },
   "outputs": [
    {
     "data": {
      "text/plain": [
       "0      ATVI\n",
       "1      ADBE\n",
       "2       AMD\n",
       "3      ALXN\n",
       "4      ALGN\n",
       "       ... \n",
       "98      WBA\n",
       "99     WDAY\n",
       "100     XEL\n",
       "101    XLNX\n",
       "102      ZM\n",
       "Name: Ticker, Length: 103, dtype: object"
      ]
     },
     "execution_count": 23,
     "metadata": {},
     "output_type": "execute_result"
    }
   ],
   "source": [
    "stocks = pd.read_csv('nasdaq_100_stocks.csv', names=[\"Ticker\", \"Company\"], skiprows=[0])\n",
    "\n",
    "stocks[\"Ticker\"]"
   ]
  },
  {
   "cell_type": "code",
   "execution_count": 27,
   "metadata": {},
   "outputs": [
    {
     "data": {
      "text/plain": [
       "['ATVI',\n",
       " 'ADBE',\n",
       " 'AMD',\n",
       " 'ALXN',\n",
       " 'ALGN',\n",
       " 'GOOGL',\n",
       " 'GOOG',\n",
       " 'AMZN',\n",
       " 'AMGN',\n",
       " 'ADI',\n",
       " 'ANSS',\n",
       " 'AAPL',\n",
       " 'AMAT',\n",
       " 'ASML',\n",
       " 'ADSK',\n",
       " 'ADP',\n",
       " 'BIDU',\n",
       " 'BIIB',\n",
       " 'BMRN',\n",
       " 'BKNG',\n",
       " 'AVGO',\n",
       " 'CDNS',\n",
       " 'CDW',\n",
       " 'CERN',\n",
       " 'CHTR',\n",
       " 'CHKP',\n",
       " 'CTAS',\n",
       " 'CSCO',\n",
       " 'CTXS',\n",
       " 'CTSH',\n",
       " 'CMCSA',\n",
       " 'CPRT',\n",
       " 'COST',\n",
       " 'CSX',\n",
       " 'DXCM',\n",
       " 'DOCU',\n",
       " 'DLTR',\n",
       " 'EBAY',\n",
       " 'EA',\n",
       " 'EXC',\n",
       " 'EXPE',\n",
       " 'FB',\n",
       " 'FAST',\n",
       " 'FISV',\n",
       " 'FOXA',\n",
       " 'FOX',\n",
       " 'GILD',\n",
       " 'IDXX',\n",
       " 'ILMN',\n",
       " 'INCY',\n",
       " 'INTC',\n",
       " 'INTU',\n",
       " 'ISRG',\n",
       " 'JD',\n",
       " 'KDP',\n",
       " 'KLAC',\n",
       " 'KHC',\n",
       " 'LRCX',\n",
       " 'LBTYA',\n",
       " 'LBTYK',\n",
       " 'LULU',\n",
       " 'MAR',\n",
       " 'MXIM',\n",
       " 'MELI',\n",
       " 'MCHP',\n",
       " 'MU',\n",
       " 'MSFT',\n",
       " 'MRNA',\n",
       " 'MDLZ',\n",
       " 'MNST',\n",
       " 'NTES',\n",
       " 'NFLX',\n",
       " 'NVDA',\n",
       " 'NXPI',\n",
       " 'ORLY',\n",
       " 'PCAR',\n",
       " 'PAYX',\n",
       " 'PYPL',\n",
       " 'PEP',\n",
       " 'PDD',\n",
       " 'QCOM',\n",
       " 'REGN',\n",
       " 'ROST',\n",
       " 'SGEN',\n",
       " 'SIRI',\n",
       " 'SWKS',\n",
       " 'SPLK',\n",
       " 'SBUX',\n",
       " 'SNPS',\n",
       " 'TMUS',\n",
       " 'TTWO',\n",
       " 'TSLA',\n",
       " 'TXN',\n",
       " 'TCOM',\n",
       " 'ULTA',\n",
       " 'VRSN',\n",
       " 'VRSK',\n",
       " 'VRTX',\n",
       " 'WBA',\n",
       " 'WDAY',\n",
       " 'XEL',\n",
       " 'XLNX',\n",
       " 'ZM']"
      ]
     },
     "execution_count": 27,
     "metadata": {},
     "output_type": "execute_result"
    }
   ],
   "source": [
    "stocks[\"Ticker\"].values.tolist()"
   ]
  },
  {
   "cell_type": "code",
   "execution_count": 28,
   "metadata": {},
   "outputs": [],
   "source": [
    "import datetime\n",
    "\n",
    "today = datetime.datetime.now()\n",
    "\n",
    "today.strftime('%Y-%m-%d')"
   ]
  },
  {
   "cell_type": "code",
   "execution_count": null,
   "metadata": {},
   "outputs": [],
   "source": []
  }
 ],
 "metadata": {
  "kernelspec": {
   "display_name": "Python 3",
   "language": "python",
   "name": "python3"
  },
  "language_info": {
   "codemirror_mode": {
    "name": "ipython",
    "version": 3
   },
   "file_extension": ".py",
   "mimetype": "text/x-python",
   "name": "python",
   "nbconvert_exporter": "python",
   "pygments_lexer": "ipython3",
   "version": "3.8.5"
  }
 },
 "nbformat": 4,
 "nbformat_minor": 4
}

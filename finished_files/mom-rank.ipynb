{
 "cells": [
  {
   "cell_type": "code",
   "execution_count": 1,
   "metadata": {},
   "outputs": [],
   "source": [
    "import momentum_rank as mrnk"
   ]
  },
  {
   "cell_type": "code",
   "execution_count": 2,
   "metadata": {},
   "outputs": [],
   "source": [
    "import glob"
   ]
  },
  {
   "cell_type": "code",
   "execution_count": 3,
   "metadata": {},
   "outputs": [],
   "source": [
    "watchlists = glob.glob(\"watchlist*_2020-12-25.csv\")"
   ]
  },
  {
   "cell_type": "code",
   "execution_count": 6,
   "metadata": {},
   "outputs": [],
   "source": [
    "watchlists = [w for w in watchlists if \"combined\" not in w]"
   ]
  },
  {
   "cell_type": "code",
   "execution_count": 7,
   "metadata": {},
   "outputs": [],
   "source": [
    "import pandas as pd"
   ]
  },
  {
   "cell_type": "code",
   "execution_count": 9,
   "metadata": {},
   "outputs": [
    {
     "data": {
      "text/plain": [
       "'watchlist_combined_top50_2020-12-25.csv'"
      ]
     },
     "execution_count": 9,
     "metadata": {},
     "output_type": "execute_result"
    }
   ],
   "source": [
    "df_combined = pd.read_csv(watchlists[0])\n",
    "tmp_sector = watchlists[0].replace(\".csv\", \"\")\n",
    "df_combined[\"Sector\"] = tmp_sector\n",
    "dt_str = tmp_sector.split(\"_\")[-1]\n",
    "for i in range(1,len(watchlists)):\n",
    "    df = pd.read_csv(watchlists[i])\n",
    "    df[\"Sector\"] = watchlists[i].replace(\".csv\", \"\")\n",
    "    df_combined = pd.concat([df_combined, df], ignore_index=True)\n",
    "\n",
    "file_combined = f\"watchlist_combined_{dt_str}.csv\"\n",
    "df_combined.to_csv(file_combined, index=False)\n",
    "file_combined = f\"combined.csv\"\n",
    "df_combined.to_csv(file_combined, index=False)\n",
    "\n",
    "# aggregate watchlist\n",
    "mrnk.momentum_rank(file_combined, TOP_N=50, WRITE_ALL_DF=True)"
   ]
  },
  {
   "cell_type": "code",
   "execution_count": null,
   "metadata": {},
   "outputs": [],
   "source": []
  }
 ],
 "metadata": {
  "kernelspec": {
   "display_name": "Python 3",
   "language": "python",
   "name": "python3"
  },
  "language_info": {
   "codemirror_mode": {
    "name": "ipython",
    "version": 3
   },
   "file_extension": ".py",
   "mimetype": "text/x-python",
   "name": "python",
   "nbconvert_exporter": "python",
   "pygments_lexer": "ipython3",
   "version": "3.8.5"
  }
 },
 "nbformat": 4,
 "nbformat_minor": 4
}

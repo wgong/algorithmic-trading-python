{
 "cells": [
  {
   "cell_type": "code",
   "execution_count": 17,
   "metadata": {},
   "outputs": [],
   "source": [
    "from yahoofinancials import YahooFinancials"
   ]
  },
  {
   "cell_type": "code",
   "execution_count": 1,
   "metadata": {},
   "outputs": [],
   "source": [
    "from sqlalchemy import create_engine\n",
    "import db_params\n",
    "\n",
    "import pandas as pd\n",
    "\n",
    "db_kwargs = db_params.get_db_params(\n",
    "        db_name=\"gwgdb\", \n",
    "        db_type=\"postgresql\"\n",
    "    )"
   ]
  },
  {
   "cell_type": "code",
   "execution_count": 61,
   "metadata": {},
   "outputs": [],
   "source": [
    "import psycopg2\n",
    "from psycopg2 import Error"
   ]
  },
  {
   "cell_type": "code",
   "execution_count": 2,
   "metadata": {},
   "outputs": [],
   "source": [
    "symbol = \"NK\""
   ]
  },
  {
   "cell_type": "code",
   "execution_count": null,
   "metadata": {},
   "outputs": [],
   "source": [
    "engine = create_engine(f'postgresql://{db_kwargs[\"user\"]}:{db_kwargs[\"password\"]}@{db_kwargs[\"host\"]}:{db_kwargs[\"port\"]}/{db_kwargs[\"database\"]}')"
   ]
  },
  {
   "cell_type": "code",
   "execution_count": 62,
   "metadata": {},
   "outputs": [],
   "source": [
    "connection = psycopg2.connect(**db_kwargs)"
   ]
  },
  {
   "cell_type": "code",
   "execution_count": null,
   "metadata": {},
   "outputs": [],
   "source": [
    "insert_query = f\"\"\" \n",
    "    INSERT INTO ticker (symbol,sector,industry,website,num_emp,profile) \n",
    "    VALUES ('{symbol}', '{sector}', '{industry}','{website}', num_emp, '{profile}');\n",
    "\"\"\""
   ]
  },
  {
   "cell_type": "raw",
   "metadata": {},
   "source": [
    "select symbol,sector,industry,website,num_emp,profile from ticker where symbol='NK';"
   ]
  },
  {
   "cell_type": "code",
   "execution_count": 28,
   "metadata": {},
   "outputs": [],
   "source": [
    "def quote_tickers(tickers):\n",
    "    return f\"{tuple([f'{t}' for t in tickers])}\""
   ]
  },
  {
   "cell_type": "code",
   "execution_count": 29,
   "metadata": {},
   "outputs": [
    {
     "data": {
      "text/plain": [
       "\"('A', 'B')\""
      ]
     },
     "execution_count": 29,
     "metadata": {},
     "output_type": "execute_result"
    }
   ],
   "source": [
    "quote_tickers(['A','B'])"
   ]
  },
  {
   "cell_type": "code",
   "execution_count": 48,
   "metadata": {},
   "outputs": [],
   "source": [
    "symbols = ['A','MRTS','PLUG']\n",
    "table_name = \"ticker\"\n",
    "select_sql = f\"\"\"select \n",
    "    symbol --,sector,industry,website,num_emp,profile \n",
    "    from {table_name}\n",
    "    where symbol in {quote_tickers(symbols)}\n",
    "    --order by sector,industry\n",
    "    ;\n",
    "\"\"\""
   ]
  },
  {
   "cell_type": "code",
   "execution_count": 49,
   "metadata": {},
   "outputs": [
    {
     "name": "stdout",
     "output_type": "stream",
     "text": [
      "select \n",
      "    symbol --,sector,industry,website,num_emp,profile \n",
      "    from ticker\n",
      "    where symbol in ('A', 'MRTS', 'PLUG')\n",
      "    --order by sector,industry\n",
      "    ;\n",
      "\n"
     ]
    }
   ],
   "source": [
    "print(select_sql)"
   ]
  },
  {
   "cell_type": "code",
   "execution_count": 50,
   "metadata": {},
   "outputs": [],
   "source": [
    "query_results = engine.execute(select_sql).fetchall()"
   ]
  },
  {
   "cell_type": "code",
   "execution_count": 51,
   "metadata": {},
   "outputs": [
    {
     "data": {
      "text/plain": [
       "[('A',), ('PLUG',)]"
      ]
     },
     "execution_count": 51,
     "metadata": {},
     "output_type": "execute_result"
    }
   ],
   "source": [
    "query_results"
   ]
  },
  {
   "cell_type": "code",
   "execution_count": 52,
   "metadata": {},
   "outputs": [],
   "source": [
    "symbols_db = [i[0] for i in query_results]"
   ]
  },
  {
   "cell_type": "code",
   "execution_count": 53,
   "metadata": {},
   "outputs": [
    {
     "data": {
      "text/plain": [
       "['A', 'PLUG']"
      ]
     },
     "execution_count": 53,
     "metadata": {},
     "output_type": "execute_result"
    }
   ],
   "source": [
    "symbols_db"
   ]
  },
  {
   "cell_type": "code",
   "execution_count": 54,
   "metadata": {},
   "outputs": [
    {
     "data": {
      "text/plain": [
       "['MRTS']"
      ]
     },
     "execution_count": 54,
     "metadata": {},
     "output_type": "execute_result"
    }
   ],
   "source": [
    "symbols_new = list(set(symbols).difference(set(symbols_db)))\n",
    "symbols_new"
   ]
  },
  {
   "cell_type": "raw",
   "metadata": {},
   "source": [
    "conn = engine.connect()\n",
    "row = conn.execute(select_sql).fetchone()\n",
    "row"
   ]
  },
  {
   "cell_type": "code",
   "execution_count": null,
   "metadata": {},
   "outputs": [],
   "source": [
    "connection = psycopg2.connect(**db_kwargs)"
   ]
  },
  {
   "cell_type": "code",
   "execution_count": 67,
   "metadata": {},
   "outputs": [],
   "source": [
    "cursor = connection.cursor()"
   ]
  },
  {
   "cell_type": "code",
   "execution_count": 68,
   "metadata": {},
   "outputs": [],
   "source": [
    "symbols = ['A','MRTS','PLUG']"
   ]
  },
  {
   "cell_type": "code",
   "execution_count": 69,
   "metadata": {},
   "outputs": [],
   "source": [
    "select_sql = f\"\"\"select \n",
    "    symbol --,sector,industry,website,num_emp,profile \n",
    "    from ticker\n",
    "    where symbol in {quote_tickers(symbols)}\n",
    "    --order by sector,industry\n",
    "    ;\n",
    "\"\"\""
   ]
  },
  {
   "cell_type": "code",
   "execution_count": 71,
   "metadata": {},
   "outputs": [],
   "source": [
    "cursor.execute(select_sql)\n",
    "query_results = cursor.fetchall()"
   ]
  },
  {
   "cell_type": "code",
   "execution_count": 72,
   "metadata": {},
   "outputs": [
    {
     "data": {
      "text/plain": [
       "[('A',), ('PLUG',)]"
      ]
     },
     "execution_count": 72,
     "metadata": {},
     "output_type": "execute_result"
    }
   ],
   "source": [
    "query_results"
   ]
  },
  {
   "cell_type": "code",
   "execution_count": 80,
   "metadata": {},
   "outputs": [],
   "source": [
    "symbols_new = ['MRTS']"
   ]
  },
  {
   "cell_type": "code",
   "execution_count": 85,
   "metadata": {},
   "outputs": [],
   "source": [
    "symbol = 'MRTX'"
   ]
  },
  {
   "cell_type": "code",
   "execution_count": 86,
   "metadata": {},
   "outputs": [],
   "source": [
    "prof_data = YahooFinancials(symbol).get_stock_profile_data()[symbol]"
   ]
  },
  {
   "cell_type": "code",
   "execution_count": 87,
   "metadata": {},
   "outputs": [
    {
     "data": {
      "text/plain": [
       "{'zip': '92121',\n",
       " 'sector': 'Healthcare',\n",
       " 'fullTimeEmployees': 111,\n",
       " 'compensationRisk': 8,\n",
       " 'auditRisk': 2,\n",
       " 'longBusinessSummary': 'Mirati Therapeutics, Inc., a clinical-stage oncology company, develops product candidates to address the genetic and immunological promoters of cancer in the United States. The company develops MRTX849, a KRAS G12C inhibitor, which is in Phase I/II clinical trial for treating non-small cell lung (NSCL), colorectal, pancreatic, and other cancers; and sitravatinib, a spectrum-selective kinase inhibitor that is in Phase II clinical trial for the treatment of NSCL cancer, as well as a KRAS G12D inhibitor program, which is in preclinical development. It has a collaboration and license agreement with BeiGene, Ltd. to develop, manufacture, and commercialize sitravatinib; and a clinical collaboration agreement with Novartis Pharmaceuticals Corporation. Mirati Therapeutics, Inc. was founded in 1995 and is headquartered in San Diego, California.',\n",
       " 'city': 'San Diego',\n",
       " 'phone': '858 332 3410',\n",
       " 'state': 'CA',\n",
       " 'shareHolderRightsRisk': 4,\n",
       " 'compensationAsOfEpochDate': 1577750400,\n",
       " 'governanceEpochDate': 1572652800,\n",
       " 'boardRisk': 6,\n",
       " 'country': 'United States',\n",
       " 'companyOfficers': [{'totalPay': {'raw': 1010106,\n",
       "    'fmt': '1.01M',\n",
       "    'longFmt': '1,010,106'},\n",
       "   'exercisedValue': {'raw': 0, 'fmt': None, 'longFmt': '0'},\n",
       "   'yearBorn': 1958,\n",
       "   'name': 'Dr. Charles M. Baum',\n",
       "   'title': 'Pres, CEO & Director',\n",
       "   'maxAge': 1,\n",
       "   'fiscalYear': 2019,\n",
       "   'unexercisedValue': {'raw': 74836880,\n",
       "    'fmt': '74.84M',\n",
       "    'longFmt': '74,836,880'},\n",
       "   'age': 61},\n",
       "  {'totalPay': {'raw': 655000, 'fmt': '655k', 'longFmt': '655,000'},\n",
       "   'exercisedValue': {'raw': 0, 'fmt': None, 'longFmt': '0'},\n",
       "   'yearBorn': 1968,\n",
       "   'name': 'Dr. James G. Christensen',\n",
       "   'title': 'Chief Scientific Officer & Exec. VP',\n",
       "   'maxAge': 1,\n",
       "   'fiscalYear': 2019,\n",
       "   'unexercisedValue': {'raw': 15141931,\n",
       "    'fmt': '15.14M',\n",
       "    'longFmt': '15,141,931'},\n",
       "   'age': 51},\n",
       "  {'maxAge': 1,\n",
       "   'name': 'Mr. Daniel R. Faga',\n",
       "   'age': 39,\n",
       "   'title': 'Exec. VP, COO & Principal Financial Officer',\n",
       "   'yearBorn': 1980,\n",
       "   'exercisedValue': {'raw': 0, 'fmt': None, 'longFmt': '0'},\n",
       "   'unexercisedValue': {'raw': 0, 'fmt': None, 'longFmt': '0'}},\n",
       "  {'maxAge': 1,\n",
       "   'name': 'Ms. Vickie S. Reed',\n",
       "   'age': 57,\n",
       "   'title': 'Sr. VP of Technical Operation & Chief Accounting Officer',\n",
       "   'yearBorn': 1962,\n",
       "   'exercisedValue': {'raw': 0, 'fmt': None, 'longFmt': '0'},\n",
       "   'unexercisedValue': {'raw': 0, 'fmt': None, 'longFmt': '0'}},\n",
       "  {'maxAge': 1,\n",
       "   'name': 'Temre  Johnson',\n",
       "   'title': 'Director of Investor Relations & Corp. Communications',\n",
       "   'exercisedValue': {'raw': 0, 'fmt': None, 'longFmt': '0'},\n",
       "   'unexercisedValue': {'raw': 0, 'fmt': None, 'longFmt': '0'}},\n",
       "  {'maxAge': 1,\n",
       "   'name': 'Ms. Reena R. Desai',\n",
       "   'title': 'VP, Gen. Counsel & Corp. Sec.',\n",
       "   'exercisedValue': {'raw': 0, 'fmt': None, 'longFmt': '0'},\n",
       "   'unexercisedValue': {'raw': 0, 'fmt': None, 'longFmt': '0'}},\n",
       "  {'maxAge': 1,\n",
       "   'name': 'Dr. Matthew  Marx Ph.D.',\n",
       "   'title': 'Sr. VP & Head of Drug Discovery',\n",
       "   'exercisedValue': {'raw': 0, 'fmt': None, 'longFmt': '0'},\n",
       "   'unexercisedValue': {'raw': 0, 'fmt': None, 'longFmt': '0'}},\n",
       "  {'maxAge': 1,\n",
       "   'name': 'Mr. Philip  Roberts',\n",
       "   'title': 'Sr. VP of Technical Operations',\n",
       "   'exercisedValue': {'raw': 0, 'fmt': None, 'longFmt': '0'},\n",
       "   'unexercisedValue': {'raw': 0, 'fmt': None, 'longFmt': '0'}},\n",
       "  {'maxAge': 1,\n",
       "   'name': 'Mr. Benjamin J. Hickey',\n",
       "   'age': 44,\n",
       "   'title': 'Exec. VP & Chief Commercial Officer',\n",
       "   'yearBorn': 1975,\n",
       "   'exercisedValue': {'raw': 0, 'fmt': None, 'longFmt': '0'},\n",
       "   'unexercisedValue': {'raw': 0, 'fmt': None, 'longFmt': '0'}},\n",
       "  {'maxAge': 1,\n",
       "   'name': 'Dr. Kelly  Covello Ph.D.',\n",
       "   'title': 'VP & Head of Medical Affairs',\n",
       "   'exercisedValue': {'raw': 0, 'fmt': None, 'longFmt': '0'},\n",
       "   'unexercisedValue': {'raw': 0, 'fmt': None, 'longFmt': '0'}}],\n",
       " 'website': 'http://www.mirati.com',\n",
       " 'overallRisk': 5,\n",
       " 'address1': '9393 Towne Centre Drive',\n",
       " 'industry': 'Biotechnology',\n",
       " 'address2': 'Suite 200'}"
      ]
     },
     "execution_count": 87,
     "metadata": {},
     "output_type": "execute_result"
    }
   ],
   "source": [
    "prof_data"
   ]
  },
  {
   "cell_type": "code",
   "execution_count": 81,
   "metadata": {},
   "outputs": [
    {
     "ename": "TypeError",
     "evalue": "'NoneType' object is not subscriptable",
     "output_type": "error",
     "traceback": [
      "\u001b[0;31m---------------------------------------------------------------------------\u001b[0m",
      "\u001b[0;31mTypeError\u001b[0m                                 Traceback (most recent call last)",
      "\u001b[0;32m<ipython-input-81-4486b156271b>\u001b[0m in \u001b[0;36m<module>\u001b[0;34m\u001b[0m\n\u001b[1;32m      3\u001b[0m     \u001b[0mprof_data\u001b[0m \u001b[0;34m=\u001b[0m \u001b[0mYahooFinancials\u001b[0m\u001b[0;34m(\u001b[0m\u001b[0msymbol\u001b[0m\u001b[0;34m)\u001b[0m\u001b[0;34m.\u001b[0m\u001b[0mget_stock_profile_data\u001b[0m\u001b[0;34m(\u001b[0m\u001b[0;34m)\u001b[0m\u001b[0;34m[\u001b[0m\u001b[0msymbol\u001b[0m\u001b[0;34m]\u001b[0m\u001b[0;34m\u001b[0m\u001b[0;34m\u001b[0m\u001b[0m\n\u001b[1;32m      4\u001b[0m     \u001b[0msector\u001b[0m\u001b[0;34m,\u001b[0m\u001b[0mindustry\u001b[0m\u001b[0;34m,\u001b[0m\u001b[0mwebsite\u001b[0m\u001b[0;34m,\u001b[0m \u001b[0mprofile\u001b[0m\u001b[0;34m,\u001b[0m \u001b[0mnum_emp\u001b[0m \u001b[0;34m=\u001b[0m\u001b[0;31m \u001b[0m\u001b[0;31m\\\u001b[0m\u001b[0;34m\u001b[0m\u001b[0;34m\u001b[0m\u001b[0m\n\u001b[0;32m----> 5\u001b[0;31m         \u001b[0mprof_data\u001b[0m\u001b[0;34m[\u001b[0m\u001b[0;34m\"sector\"\u001b[0m\u001b[0;34m]\u001b[0m\u001b[0;34m,\u001b[0m \u001b[0mprof_data\u001b[0m\u001b[0;34m[\u001b[0m\u001b[0;34m\"industry\"\u001b[0m\u001b[0;34m]\u001b[0m\u001b[0;34m,\u001b[0m \u001b[0mprof_data\u001b[0m\u001b[0;34m[\u001b[0m\u001b[0;34m\"website\"\u001b[0m\u001b[0;34m]\u001b[0m\u001b[0;34m,\u001b[0m \u001b[0mprof_data\u001b[0m\u001b[0;34m[\u001b[0m\u001b[0;34m\"longBusinessSummary\"\u001b[0m\u001b[0;34m]\u001b[0m\u001b[0;34m,\u001b[0m \u001b[0mprof_data\u001b[0m\u001b[0;34m[\u001b[0m\u001b[0;34m\"fullTimeEmployees\"\u001b[0m\u001b[0;34m]\u001b[0m\u001b[0;34m\u001b[0m\u001b[0;34m\u001b[0m\u001b[0m\n\u001b[0m\u001b[1;32m      6\u001b[0m \u001b[0;34m\u001b[0m\u001b[0m\n\u001b[1;32m      7\u001b[0m     \u001b[0mprint\u001b[0m\u001b[0;34m(\u001b[0m\u001b[0;34mf\"sector={sector}\"\u001b[0m\u001b[0;34m)\u001b[0m\u001b[0;34m\u001b[0m\u001b[0;34m\u001b[0m\u001b[0m\n",
      "\u001b[0;31mTypeError\u001b[0m: 'NoneType' object is not subscriptable"
     ]
    }
   ],
   "source": [
    "for symbol in symbols_new:\n",
    "    sector = industry = website = profile = num_emp = None\n",
    "    prof_data = YahooFinancials(symbol).get_stock_profile_data()[symbol]\n",
    "    if prof_data:\n",
    "        sector,industry,website, profile, num_emp = \\\n",
    "            prof_data[\"sector\"], prof_data[\"industry\"], prof_data[\"website\"], prof_data[\"longBusinessSummary\"], prof_data[\"fullTimeEmployees\"]\n",
    "\n",
    "        print(f\"sector={sector}\")\n",
    "        if profile or sector:\n",
    "            try:\n",
    "                insert_query = f\"\"\" \n",
    "                    INSERT INTO ticker (symbol,sector,industry,website,num_emp,profile) \n",
    "                    VALUES ('{symbol}', '{sector}', '{industry}','{website}', num_emp, '{profile}')\n",
    "                    ;\n",
    "                \"\"\"    \n",
    "                cursor.execute(insert_query)\n",
    "                connection.commit()\n",
    "            except Exception as ex:\n",
    "                print(str(ex))"
   ]
  },
  {
   "cell_type": "code",
   "execution_count": null,
   "metadata": {},
   "outputs": [],
   "source": []
  },
  {
   "cell_type": "code",
   "execution_count": 88,
   "metadata": {},
   "outputs": [],
   "source": [
    "def get_sector_profiles(symbols, connection):\n",
    "    \"\"\"\n",
    "        Get sector,profile info from yfinance for missing symbol in local DB, \n",
    "        Add missing info to DB\n",
    "        Query DB for all symbols, sort by sector,industry\n",
    "    \"\"\"\n",
    "\n",
    "    cursor = connection.cursor()\n",
    "    \n",
    "    select_sql = f\"\"\"select \n",
    "        symbol --,sector,industry,website,num_emp,profile \n",
    "        from ticker\n",
    "        where symbol in {quote_tickers(symbols)}\n",
    "        --order by sector,industry\n",
    "        ;\n",
    "    \"\"\"\n",
    "    cursor.execute(select_sql)\n",
    "    query_results = cursor.fetchall()\n",
    "    symbols_db = [i[0] for i in query_results]\n",
    "    symbols_new = list(set(symbols).difference(set(symbols_db)))\n",
    "    print(f\"symbols_new = {symbols_new}\")\n",
    "\n",
    "    for symbol in symbols_new:\n",
    "        sector = industry = website = profile = num_emp = None\n",
    "        try:\n",
    "            prof_data = YahooFinancials(symbol).get_stock_profile_data()[symbol]\n",
    "        except Exception as ex:\n",
    "            print(str(ex))\n",
    "\n",
    "        if prof_data:\n",
    "            sector,industry,website, profile, num_emp = \\\n",
    "                prof_data[\"sector\"], prof_data[\"industry\"], prof_data[\"website\"], prof_data[\"longBusinessSummary\"], prof_data[\"fullTimeEmployees\"]\n",
    "\n",
    "            print(f\"sector={sector}\")\n",
    "            if profile or sector:\n",
    "                try:\n",
    "                    insert_query = f\"\"\" \n",
    "                        INSERT INTO ticker (symbol,sector,industry,website,num_emp,profile) \n",
    "                        VALUES ('{symbol}', '{sector}', '{industry}','{website}', num_emp, '{profile}')\n",
    "                        ;\n",
    "                    \"\"\"    \n",
    "                    cursor.execute(insert_query)\n",
    "                    connection.commit()\n",
    "                except Exception as ex:\n",
    "                    print(str(ex))\n",
    "\n",
    "    select_sql2 = f\"\"\"select \n",
    "        symbol,sector,industry,website,num_emp,profile \n",
    "        from ticker\n",
    "        where symbol in {quote_tickers(symbols)}\n",
    "        order by sector,industry,symbol\n",
    "        ;\n",
    "    \"\"\"\n",
    "    cursor.execute(select_sql2)\n",
    "    query_results = cursor.fetchall()\n",
    "\n",
    "    return query_results"
   ]
  },
  {
   "cell_type": "code",
   "execution_count": 89,
   "metadata": {},
   "outputs": [
    {
     "name": "stdout",
     "output_type": "stream",
     "text": [
      "symbols_new = []\n"
     ]
    }
   ],
   "source": [
    "symbols = ['A','AMTX','PLUG']\n",
    "results = get_sector_profiles(symbols, connection)"
   ]
  },
  {
   "cell_type": "code",
   "execution_count": 90,
   "metadata": {},
   "outputs": [
    {
     "data": {
      "text/plain": [
       "[('AMTX',\n",
       "  'Energy',\n",
       "  'Oil & Gas Refining & Marketing',\n",
       "  'http://www.aemetis.com',\n",
       "  160,\n",
       "  \"Aemetis, Inc. operates as a renewable fuels and bio-chemicals company in North America and India. The company focuses on the acquisition, development, and commercialization of various technologies that replace traditional petroleum-based products primarily through the conversion of ethanol and biodiesel plants into advanced bio refineries. It owns and operates an ethanol facility in the California Central Valley near Modesto; and a renewable chemical and advanced fuel production facility on the East Coast of India. The company sells biodiesel and refined glycerin to transport companies, resellers, distributors, and refiners through its sales force and independent sales agents, as well as to brokers who resell the product to end-users. It also produces ethanol; and wet distiller's grains, distiller's corn oil, and condensed distillers solubles to dairies and feedlots as animal feed. In addition, it produces dairy biogas; and high-grade sanitizer alcohol and various feed products. The company was formerly known as AE Biofuels, Inc. and changed its name to Aemetis, Inc. in November 2011. Aemetis, Inc. was founded in 2005 and is headquartered in Cupertino, California.\"),\n",
       " ('A',\n",
       "  'Healthcare',\n",
       "  'Diagnostics & Research',\n",
       "  'http://www.agilent.com',\n",
       "  16400,\n",
       "  \"Agilent Technologies, Inc. provides application focused solutions to the life sciences, diagnostics, and applied chemical markets worldwide. The Life Sciences and Applied Markets segment offers liquid and gas chromatography systems and components; liquid and gas chromatography mass spectrometry systems; inductively coupled plasma mass and optical emission spectrometry instruments; atomic absorption instruments; microwave plasma-atomic emission spectrometry instruments; raman spectroscopy; cell analysis plate based assays; flow cytometer; real-time cell analyzer; cell imaging systems; microplate readers; laboratory software, information management, and analytics; laboratory automation and robotic systems; dissolution testing; vacuum pumps; and measurement technologies. The Diagnostics and Genomics segment provides arrays for DNA mutation detection, genotyping, gene copy number determination, identification of gene rearrangements, DNA methylation profiling, and gene expression profiling, as well as sequencing target enrichment, genetic data management, and interpretation support software; and equipment to produce synthesized oligonucleotide. It also offers immunohistochemistry, in situ hybridization, and hematoxylin and eosin staining and special staining; instruments, consumables, and software for quality control analysis of nucleic acid samples; and reagents for use in turbidimetry and flow cytometry, as well as develops pharmacodiagnostics. The Agilent CrossLab segment provides GC and LC columns, sample preparation products, custom chemistries, and laboratory instrument supplies; and startup, operational, training, compliance support, software as a service, asset management, and consultation services. The company markets its products through direct sales, distributors, resellers, manufacturer's representatives, and electronic commerce. It has collaboration agreement with SGS AXYS. The company was incorporated in 1999 and is headquartered in Santa Clara, California.\"),\n",
       " ('PLUG',\n",
       "  'Industrials',\n",
       "  'Electrical Equipment & Parts',\n",
       "  'http://www.plugpower.com',\n",
       "  629,\n",
       "  'Plug Power Inc. provides hydrogen fuel cell turnkey solutions for the electric mobility and stationary power markets in North America and Europe. It focuses on proton exchange membrane (PEM) fuel cell and fuel processing technologies, fuel cell/battery hybrid technologies, and related hydrogen storage and dispensing infrastructure. The company offers GenDrive, a hydrogen fueled PEM fuel cell system that provides power to material handling electric vehicles; GenFuel, a hydrogen fueling delivery, generation, storage, and dispensing system; GenCare, an ongoing maintenance and service program for GenDrive and GenSure fuel cells, GenFuel products, and ProGen engines; and GenSure, a stationary fuel cell solution that provides modular PEM fuel cell power to support the backup and grid-support power requirements of the telecommunications, transportation, and utility sectors. It also provides GenKey, a turn-key solution for transitioning to fuel cell power; and ProGen, a fuel cell stack and engine technology used in mobility and stationary fuel cell systems, and as engines in electric delivery vans. The company offers its products to retail-distribution and manufacturing businesses through direct product sales force, original equipment manufacturers, and dealer networks. Plug Power Inc. was founded in 1997 and is headquartered in Latham, New York.')]"
      ]
     },
     "execution_count": 90,
     "metadata": {},
     "output_type": "execute_result"
    }
   ],
   "source": [
    "results"
   ]
  },
  {
   "cell_type": "code",
   "execution_count": 21,
   "metadata": {},
   "outputs": [
    {
     "data": {
      "text/plain": [
       "('ORCL',\n",
       " 'Technology',\n",
       " 'Software—Infrastructure',\n",
       " 'http://www.oracle.com',\n",
       " \"Oracle Corporation provides products and services that address enterprise information technology environments worldwide. The company's cloud and license business engages in the sale, marketing, and delivery of its applications and infrastructure technologies through cloud and on-premise deployment models, including cloud services and license support; and cloud license and on-premise license. Its cloud software as a service offerings include a suite of cloud software applications, including enterprise resource planning (ERP), enterprise and performance management, supply chain management, human capital management, and customer experience cloud-based industry solutions, as well as NetSuite application suite, a cloud-based ERP solution. The company also provides cloud infrastructure as a service; enterprise database; database products, including MySQL, Oracle TimesTen In-Memory Database, Oracle Berkeley DB, and Oracle NoSQL Database; middleware software; Java licenses; server and storage products; hardware products and services comprising point-of-sale terminals and related hardware for managing businesses within the food and beverage, hotel and retail industries; and hardware products and services for communications networks, including network signaling, policy control and subscriber data management solutions, and session border control technology. In addition, it offers operating systems, including Oracle Linux and Oracle Solaris, virtualization software, and other hardware-related software; management technologies and products, such as Oracle Enterprise Manager; and product repairs, maintenance services, and technical support services. It also serves various industries, government agencies, and educational institutions. The company was founded in 1977 and is headquartered in Redwood City, California.\",\n",
       " 135000)"
      ]
     },
     "execution_count": 21,
     "metadata": {},
     "output_type": "execute_result"
    }
   ],
   "source": [
    "symbol,sector,industry,website,profile,num_emp"
   ]
  },
  {
   "cell_type": "code",
   "execution_count": null,
   "metadata": {},
   "outputs": [],
   "source": []
  }
 ],
 "metadata": {
  "kernelspec": {
   "display_name": "Python 3",
   "language": "python",
   "name": "python3"
  },
  "language_info": {
   "codemirror_mode": {
    "name": "ipython",
    "version": 3
   },
   "file_extension": ".py",
   "mimetype": "text/x-python",
   "name": "python",
   "nbconvert_exporter": "python",
   "pygments_lexer": "ipython3",
   "version": "3.8.5"
  }
 },
 "nbformat": 4,
 "nbformat_minor": 4
}

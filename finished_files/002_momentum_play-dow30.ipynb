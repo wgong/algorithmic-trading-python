{
 "cells": [
  {
   "cell_type": "markdown",
   "metadata": {},
   "source": [
    "# Quantitative Momentum Strategy\n",
    "\n",
    "\"Momentum investing\" means investing in the stocks that have increased in price the most.\n",
    "\n",
    "For this project, we're going to build an investing strategy that selects the 50 stocks with the highest price momentum. From there, we will calculate recommended trades for an equal-weight portfolio of these 50 stocks.\n",
    "\n",
    "\n",
    "## Library Imports\n",
    "\n",
    "The first thing we need to do is import the open-source software libraries that we'll be using in this tutorial."
   ]
  },
  {
   "cell_type": "code",
   "execution_count": 1,
   "metadata": {},
   "outputs": [],
   "source": [
    "import numpy as np #The Numpy numerical computing library\n",
    "import pandas as pd #The Pandas data science library\n",
    "import requests #The requests library for HTTP requests in Python\n",
    "import xlsxwriter #The XlsxWriter libarary for \n",
    "import math #The Python math module\n",
    "from scipy import stats #The SciPy stats module\n",
    "import datetime"
   ]
  },
  {
   "cell_type": "code",
   "execution_count": 2,
   "metadata": {},
   "outputs": [],
   "source": [
    "import api_token  as gwg # handle iexcloud API tokens\n",
    "\n",
    "env = \"cloud\" # \"sandbox\"  # \n",
    "BASE_URL, IEX_CLOUD_API_TOKEN = gwg.get_base_url(env=env), gwg.get_api_token(env=env)"
   ]
  },
  {
   "cell_type": "code",
   "execution_count": 8,
   "metadata": {},
   "outputs": [],
   "source": [
    "BATCH_SIZE = 100\n",
    "\n",
    "WRITE_ALL_DF = True\n",
    "\n",
    "TOP_N = 5\n",
    "portfolio_size = 10000\n",
    "file_csv = \"stocks-dow30.csv\"\n",
    "filename=file_csv.replace(\".csv\", \"\")"
   ]
  },
  {
   "cell_type": "code",
   "execution_count": 9,
   "metadata": {},
   "outputs": [],
   "source": [
    "today = datetime.datetime.now()\n",
    "xlsx_file = f\"spreadsheet_{filename}_top{TOP_N}_{today.strftime('%Y-%m-%d')}.xlsx\"\n",
    "xlsx_file2 = f\"spreadsheet_{filename}_all_{today.strftime('%Y-%m-%d')}.xlsx\"\n",
    "watchlist_file = f\"watchlist_{filename}_top{TOP_N}_{today.strftime('%Y-%m-%d')}.csv\""
   ]
  },
  {
   "cell_type": "markdown",
   "metadata": {},
   "source": [
    "## Importing Our List of Stocks\n",
    "\n",
    "As before, we'll need to import our list of stocks and our API token before proceeding. Make sure the `.csv` file is still in your working directory and import it with the following command:"
   ]
  },
  {
   "cell_type": "code",
   "execution_count": 10,
   "metadata": {},
   "outputs": [],
   "source": [
    "\n",
    "df = pd.read_csv(file_csv, \n",
    "                 names=[\"Ticker\", \"Company\"], \n",
    "                 skiprows=[0])"
   ]
  },
  {
   "cell_type": "code",
   "execution_count": 11,
   "metadata": {},
   "outputs": [],
   "source": [
    "stocks = df[\"Ticker\"].values.tolist()"
   ]
  },
  {
   "cell_type": "code",
   "execution_count": 12,
   "metadata": {},
   "outputs": [
    {
     "data": {
      "text/plain": [
       "'UNH,HD,GS,AMGN,CRM,BA,MSFT,MCD,V,HON,CAT,MMM,DIS,JNJ,WMT,PG,TRV,NKE,AAPL,IBM,JPM,AXP,CVX,MRK,VZ,DOW,KO,INTC,CSCO,WBA'"
      ]
     },
     "execution_count": 12,
     "metadata": {},
     "output_type": "execute_result"
    }
   ],
   "source": [
    "\",\".join(stocks)"
   ]
  },
  {
   "cell_type": "markdown",
   "metadata": {},
   "source": [
    "## Executing A Batch API Call & Building Our DataFrame\n",
    "\n",
    "Just like in our first project, it's now time to execute several batch API calls and add the information we need to our DataFrame.\n",
    "\n",
    "We'll start by running the following code cell, which contains some code we already built last time that we can re-use for this project. More specifically, it contains a function called `chunks` that we can use to divide our list of securities into groups of 100."
   ]
  },
  {
   "cell_type": "code",
   "execution_count": 13,
   "metadata": {},
   "outputs": [],
   "source": [
    "symbol_groups = list(gwg.chunks(stocks, BATCH_SIZE))\n",
    "symbol_strings = []\n",
    "for i in range(0, len(symbol_groups)):\n",
    "    symbol_strings.append(','.join(symbol_groups[i]))"
   ]
  },
  {
   "cell_type": "markdown",
   "metadata": {},
   "source": [
    "## Building a Better (and More Realistic) Momentum Strategy\n",
    "\n",
    "Real-world quantitative investment firms differentiate between \"high quality\" and \"low quality\" momentum stocks:\n",
    "\n",
    "* High-quality momentum stocks show \"slow and steady\" outperformance over long periods of time\n",
    "* Low-quality momentum stocks might not show any momentum for a long time, and then surge upwards.\n",
    "\n",
    "The reason why high-quality momentum stocks are preferred is because low-quality momentum can often be cause by short-term news that is unlikely to be repeated in the future (such as an FDA approval for a biotechnology company).\n",
    "\n",
    "To identify high-quality momentum, we're going to build a strategy that selects stocks from the highest percentiles of: \n",
    "\n",
    "* 1-month price returns\n",
    "* 3-month price returns\n",
    "* 6-month price returns\n",
    "* 1-year price returns\n",
    "\n",
    "Let's start by building our DataFrame. You'll notice that I use the abbreviation `hqm` often. It stands for `high-quality momentum`."
   ]
  },
  {
   "cell_type": "code",
   "execution_count": 14,
   "metadata": {},
   "outputs": [
    {
     "data": {
      "text/plain": [
       "Index(['Ticker', 'Name', 'Number of Shares to Buy', 'Price',\n",
       "       'Five-Day Price Return', 'One-Month Price Return',\n",
       "       'Three-Month Price Return', 'Six-Month Price Return',\n",
       "       'One-Year Price Return', 'Five-Day Return Percentile',\n",
       "       'One-Month Return Percentile', 'Three-Month Return Percentile',\n",
       "       'Six-Month Return Percentile', 'One-Year Return Percentile',\n",
       "       'HQM Score'],\n",
       "      dtype='object')"
      ]
     },
     "execution_count": 14,
     "metadata": {},
     "output_type": "execute_result"
    }
   ],
   "source": [
    "hqm_columns = [\n",
    "                'Ticker', \n",
    "                'Name',\n",
    "                'Number of Shares to Buy', \n",
    "                'Price', \n",
    "                'Five-Day Price Return',\n",
    "                'One-Month Price Return',\n",
    "                'Three-Month Price Return',\n",
    "                'Six-Month Price Return',\n",
    "                'One-Year Price Return', \n",
    "                'Five-Day Return Percentile',\n",
    "                'One-Month Return Percentile',\n",
    "                'Three-Month Return Percentile',\n",
    "                'Six-Month Return Percentile',\n",
    "                'One-Year Return Percentile',\n",
    "                'HQM Score'\n",
    "]\n",
    "\n",
    "hqm_dataframe = pd.DataFrame(columns = hqm_columns)\n",
    "\n",
    "for symbol_string in symbol_strings:\n",
    "#     print(symbol_strings)\n",
    "    batch_api_call_url = f'{BASE_URL}/stable/stock/market/batch/?types=stats,quote&symbols={symbol_string}&token={IEX_CLOUD_API_TOKEN}'\n",
    "    data = requests.get(batch_api_call_url).json()\n",
    "    for symbol in symbol_string.split(','):\n",
    "        try:\n",
    "            hqm_dataframe = hqm_dataframe.append(\n",
    "                            pd.Series([symbol, \n",
    "                                       data[symbol]['stats']['companyName'],\n",
    "                                       'N/A',\n",
    "                                       data[symbol]['quote']['latestPrice'],\n",
    "                                       data[symbol]['stats']['day5ChangePercent'],\n",
    "                                       data[symbol]['stats']['month1ChangePercent'],\n",
    "                                       data[symbol]['stats']['month3ChangePercent'],\n",
    "                                       data[symbol]['stats']['month6ChangePercent'],\n",
    "                                       data[symbol]['stats']['year1ChangePercent'],\n",
    "                                       'N/A',\n",
    "                                       'N/A',\n",
    "                                       'N/A',\n",
    "                                       'N/A',\n",
    "                                       'N/A',\n",
    "                                       'N/A'\n",
    "                                       ], \n",
    "                                      index = hqm_columns), \n",
    "                            ignore_index = True)\n",
    "        except Exception as ex:\n",
    "            print(f\"symbol = {symbol}\\n Error={str(ex)}\")\n",
    "        \n",
    "# hqm_dataframe.columns"
   ]
  },
  {
   "cell_type": "code",
   "execution_count": 15,
   "metadata": {},
   "outputs": [],
   "source": [
    "# hqm_dataframe"
   ]
  },
  {
   "cell_type": "code",
   "execution_count": 16,
   "metadata": {},
   "outputs": [
    {
     "data": {
      "text/plain": [
       "['Five-Day Price Return',\n",
       " 'One-Month Price Return',\n",
       " 'Three-Month Price Return',\n",
       " 'Six-Month Price Return',\n",
       " 'One-Year Price Return']"
      ]
     },
     "execution_count": 16,
     "metadata": {},
     "output_type": "execute_result"
    }
   ],
   "source": [
    "time_periods = [\n",
    "                'Five-Day',\n",
    "                'One-Month',\n",
    "                'Three-Month',\n",
    "                'Six-Month',\n",
    "                'One-Year'\n",
    "                ]\n",
    "price_return_cols = [f'{time_period} Price Return' for time_period in time_periods]\n",
    "\n",
    "price_return_cols"
   ]
  },
  {
   "cell_type": "code",
   "execution_count": 17,
   "metadata": {},
   "outputs": [],
   "source": [
    "hqm_dataframe = hqm_dataframe.dropna(how='any', \n",
    "                                     subset=price_return_cols)"
   ]
  },
  {
   "cell_type": "code",
   "execution_count": 18,
   "metadata": {},
   "outputs": [
    {
     "data": {
      "text/html": [
       "<div>\n",
       "<style scoped>\n",
       "    .dataframe tbody tr th:only-of-type {\n",
       "        vertical-align: middle;\n",
       "    }\n",
       "\n",
       "    .dataframe tbody tr th {\n",
       "        vertical-align: top;\n",
       "    }\n",
       "\n",
       "    .dataframe thead th {\n",
       "        text-align: right;\n",
       "    }\n",
       "</style>\n",
       "<table border=\"1\" class=\"dataframe\">\n",
       "  <thead>\n",
       "    <tr style=\"text-align: right;\">\n",
       "      <th></th>\n",
       "      <th>Ticker</th>\n",
       "      <th>Name</th>\n",
       "      <th>Number of Shares to Buy</th>\n",
       "      <th>Price</th>\n",
       "      <th>Five-Day Price Return</th>\n",
       "      <th>One-Month Price Return</th>\n",
       "      <th>Three-Month Price Return</th>\n",
       "      <th>Six-Month Price Return</th>\n",
       "      <th>One-Year Price Return</th>\n",
       "      <th>Five-Day Return Percentile</th>\n",
       "      <th>One-Month Return Percentile</th>\n",
       "      <th>Three-Month Return Percentile</th>\n",
       "      <th>Six-Month Return Percentile</th>\n",
       "      <th>One-Year Return Percentile</th>\n",
       "      <th>HQM Score</th>\n",
       "    </tr>\n",
       "  </thead>\n",
       "  <tbody>\n",
       "  </tbody>\n",
       "</table>\n",
       "</div>"
      ],
      "text/plain": [
       "Empty DataFrame\n",
       "Columns: [Ticker, Name, Number of Shares to Buy, Price, Five-Day Price Return, One-Month Price Return, Three-Month Price Return, Six-Month Price Return, One-Year Price Return, Five-Day Return Percentile, One-Month Return Percentile, Three-Month Return Percentile, Six-Month Return Percentile, One-Year Return Percentile, HQM Score]\n",
       "Index: []"
      ]
     },
     "execution_count": 18,
     "metadata": {},
     "output_type": "execute_result"
    }
   ],
   "source": [
    "# hqm_dataframe[hqm_dataframe[\"One-Year Price Return\"].isnull()]"
   ]
  },
  {
   "cell_type": "markdown",
   "metadata": {},
   "source": [
    "## Calculating Momentum Percentiles\n",
    "\n",
    "We now need to calculate momentum percentile scores for every stock in the universe. More specifically, we need to calculate percentile scores for the following metrics for every stock:\n",
    "\n",
    "* `One-Year Price Return`\n",
    "* `Six-Month Price Return`\n",
    "* `Three-Month Price Return`\n",
    "* `One-Month Price Return`\n",
    "\n",
    "Here's how we'll do this:"
   ]
  },
  {
   "cell_type": "code",
   "execution_count": 19,
   "metadata": {},
   "outputs": [],
   "source": [
    "for row in hqm_dataframe.index:\n",
    "    for time_period in time_periods:\n",
    "        hqm_dataframe.loc[row, f'{time_period} Return Percentile'] = stats.percentileofscore(hqm_dataframe[f'{time_period} Price Return'], hqm_dataframe.loc[row, f'{time_period} Price Return'])/100\n",
    "\n",
    "# # Print each percentile score to make sure it was calculated properly\n",
    "# for time_period in time_periods:\n",
    "#     print(hqm_dataframe[f'{time_period} Return Percentile'])\n",
    "\n",
    "#Print the entire DataFrame    \n",
    "# hqm_dataframe"
   ]
  },
  {
   "cell_type": "markdown",
   "metadata": {},
   "source": [
    "## Calculating the HQM Score\n",
    "\n",
    "We'll now calculate our `HQM Score`, which is the high-quality momentum score that we'll use to filter for stocks in this investing strategy.\n",
    "\n",
    "The `HQM Score` will be the arithmetic mean of the 4 momentum percentile scores that we calculated in the last section.\n",
    "\n",
    "To calculate arithmetic mean, we will use the `mean` function from Python's built-in `statistics` module."
   ]
  },
  {
   "cell_type": "code",
   "execution_count": 20,
   "metadata": {},
   "outputs": [],
   "source": [
    "from statistics import mean\n",
    "\n",
    "for row in hqm_dataframe.index:\n",
    "    momentum_percentiles = []\n",
    "    for time_period in time_periods:\n",
    "        momentum_percentiles.append(hqm_dataframe.loc[row, f'{time_period} Return Percentile'])\n",
    "    hqm_dataframe.loc[row, 'HQM Score'] = mean(momentum_percentiles)"
   ]
  },
  {
   "cell_type": "markdown",
   "metadata": {},
   "source": [
    "## Selecting the Best Momentum Stocks\n",
    "\n",
    "As before, we can identify the 50 best momentum stocks in our universe by sorting the DataFrame on the `HQM Score` column and dropping all but the top 50 entries."
   ]
  },
  {
   "cell_type": "code",
   "execution_count": 21,
   "metadata": {},
   "outputs": [],
   "source": [
    "hqm_dataframe.sort_values(by = 'HQM Score', ascending = False, inplace=True)\n",
    "\n",
    "if WRITE_ALL_DF:\n",
    "    hqm_dataframe_all = hqm_dataframe.copy()\n",
    "    \n",
    "hqm_dataframe = hqm_dataframe[:(TOP_N+1)]"
   ]
  },
  {
   "cell_type": "markdown",
   "metadata": {},
   "source": [
    "## Calculating the Number of Shares to Buy\n",
    "\n",
    "We'll use the `portfolio_input` function that we created earlier to accept our portfolio size. Then we will use similar logic in a `for` loop to calculate the number of shares to buy for each stock in our investment universe."
   ]
  },
  {
   "cell_type": "code",
   "execution_count": 22,
   "metadata": {},
   "outputs": [],
   "source": [
    "# portfolio_input()"
   ]
  },
  {
   "cell_type": "code",
   "execution_count": 23,
   "metadata": {},
   "outputs": [],
   "source": [
    "position_size = float(portfolio_size) / len(hqm_dataframe.index)"
   ]
  },
  {
   "cell_type": "code",
   "execution_count": 24,
   "metadata": {},
   "outputs": [
    {
     "data": {
      "text/plain": [
       "1666.6666666666667"
      ]
     },
     "execution_count": 24,
     "metadata": {},
     "output_type": "execute_result"
    }
   ],
   "source": [
    "position_size"
   ]
  },
  {
   "cell_type": "code",
   "execution_count": 25,
   "metadata": {},
   "outputs": [],
   "source": [
    "hqm_dataframe.reset_index(drop = True, inplace = True)"
   ]
  },
  {
   "cell_type": "code",
   "execution_count": 26,
   "metadata": {},
   "outputs": [
    {
     "data": {
      "text/plain": [
       "6"
      ]
     },
     "execution_count": 26,
     "metadata": {},
     "output_type": "execute_result"
    }
   ],
   "source": [
    "len(hqm_dataframe['Ticker'])"
   ]
  },
  {
   "cell_type": "markdown",
   "metadata": {},
   "source": [
    "## Formatting Our Excel Output\n",
    "\n",
    "We will be using the XlsxWriter library for Python to create nicely-formatted Excel files.\n",
    "\n",
    "XlsxWriter is an excellent package and offers tons of customization. However, the tradeoff for this is that the library can seem very complicated to new users. Accordingly, this section will be fairly long because I want to do a good job of explaining how XlsxWriter works."
   ]
  },
  {
   "cell_type": "code",
   "execution_count": 27,
   "metadata": {},
   "outputs": [],
   "source": [
    "for i in range(len(hqm_dataframe['Ticker'])):\n",
    "    hqm_dataframe.loc[i, 'Number of Shares to Buy'] = math.floor(position_size / hqm_dataframe['Price'][i])"
   ]
  },
  {
   "cell_type": "code",
   "execution_count": null,
   "metadata": {},
   "outputs": [],
   "source": []
  },
  {
   "cell_type": "markdown",
   "metadata": {},
   "source": [
    "## Creating the Formats We'll Need For Our .xlsx File\n",
    "\n",
    "You'll recall from our first project that formats include colors, fonts, and also symbols like % and $. We'll need four main formats for our Excel document:\n",
    "\n",
    "* String format for tickers\n",
    "* \\$XX.XX format for stock prices\n",
    "* \\$XX,XXX format for market capitalization\n",
    "* Integer format for the number of shares to purchase\n",
    "\n",
    "Since we already built our formats in the last section of this course, I've included them below for you. Run this code cell before proceeding."
   ]
  },
  {
   "cell_type": "code",
   "execution_count": 28,
   "metadata": {},
   "outputs": [],
   "source": [
    "writer = pd.ExcelWriter(xlsx_file, engine='xlsxwriter')"
   ]
  },
  {
   "cell_type": "code",
   "execution_count": 29,
   "metadata": {},
   "outputs": [],
   "source": [
    "background_color = '#0a0a23'\n",
    "font_color = '#ffffff'\n",
    "\n",
    "string_template = writer.book.add_format(\n",
    "        {\n",
    "            'font_color': font_color,\n",
    "            'bg_color': background_color,\n",
    "            'border': 1\n",
    "        }\n",
    "    )\n",
    "\n",
    "dollar_template = writer.book.add_format(\n",
    "        {\n",
    "            'num_format':'$0.00',\n",
    "            'font_color': font_color,\n",
    "            'bg_color': background_color,\n",
    "            'border': 1\n",
    "        }\n",
    "    )\n",
    "\n",
    "integer_template = writer.book.add_format(\n",
    "        {\n",
    "            'num_format':'0',\n",
    "            'font_color': font_color,\n",
    "            'bg_color': background_color,\n",
    "            'border': 1\n",
    "        }\n",
    "    )\n",
    "\n",
    "percent_template = writer.book.add_format(\n",
    "        {\n",
    "            'num_format':'0.0%',\n",
    "            'font_color': font_color,\n",
    "            'bg_color': background_color,\n",
    "            'border': 1\n",
    "        }\n",
    "    )\n",
    "\n",
    "column_formats = { \n",
    "                    'A': ['Ticker', string_template],\n",
    "                    'B': ['Name', string_template], \n",
    "                    'C': ['Number of Shares to Buy', integer_template],\n",
    "                    'D': ['Price', dollar_template],\n",
    "                    'E': ['Five-Day Price Return', percent_template], \n",
    "                    'F': ['One-Month Price Return', percent_template], \n",
    "                    'G': ['Three-Month Price Return', percent_template],\n",
    "                    'H': ['Six-Month Price Return', percent_template],\n",
    "                    'I': ['One-Year Price Return', percent_template],\n",
    "                    'J': ['Five-Day Return Percentile', percent_template],\n",
    "                    'K': ['One-Month Return Percentile', percent_template],\n",
    "                    'L': ['Three-Month Return Percentile', percent_template],\n",
    "                    'M': ['Six-Month Return Percentile', percent_template],\n",
    "                    'N': ['One-Year Return Percentile', percent_template], \n",
    "                    'O': ['HQM Score', percent_template]\n",
    "                    }"
   ]
  },
  {
   "cell_type": "code",
   "execution_count": 30,
   "metadata": {},
   "outputs": [],
   "source": [
    "hqm_dataframe.to_excel(writer, sheet_name='Momentum Strategy', index = False)"
   ]
  },
  {
   "cell_type": "code",
   "execution_count": 31,
   "metadata": {},
   "outputs": [],
   "source": [
    "for column in column_formats.keys():\n",
    "    writer.sheets['Momentum Strategy'].set_column(f'{column}:{column}', 10, column_formats[column][1])\n",
    "    writer.sheets['Momentum Strategy'].write(f'{column}1', column_formats[column][0], string_template)"
   ]
  },
  {
   "cell_type": "code",
   "execution_count": 32,
   "metadata": {},
   "outputs": [],
   "source": [
    "writer.save()"
   ]
  },
  {
   "cell_type": "code",
   "execution_count": 33,
   "metadata": {},
   "outputs": [],
   "source": [
    "if WRITE_ALL_DF:\n",
    "    writer = pd.ExcelWriter(xlsx_file2, engine='xlsxwriter')\n",
    "    hqm_dataframe_all.to_excel(writer, sheet_name='Momentum Strategy', index = False)\n",
    "\n",
    "    for column in column_formats.keys():\n",
    "        writer.sheets['Momentum Strategy'].set_column(f'{column}:{column}', 10, column_formats[column][1])\n",
    "        writer.sheets['Momentum Strategy'].write(f'{column}1', column_formats[column][0], string_template)\n",
    "\n",
    "    writer.save()"
   ]
  },
  {
   "cell_type": "markdown",
   "metadata": {},
   "source": [
    "### save watchlist"
   ]
  },
  {
   "cell_type": "code",
   "execution_count": 34,
   "metadata": {},
   "outputs": [],
   "source": [
    "tickers = hqm_dataframe[['Ticker']]\n",
    "tickers.to_csv(watchlist_file, index=False)"
   ]
  },
  {
   "cell_type": "code",
   "execution_count": null,
   "metadata": {},
   "outputs": [],
   "source": []
  },
  {
   "cell_type": "code",
   "execution_count": null,
   "metadata": {},
   "outputs": [],
   "source": []
  }
 ],
 "metadata": {
  "kernelspec": {
   "display_name": "Python 3",
   "language": "python",
   "name": "python3"
  },
  "language_info": {
   "codemirror_mode": {
    "name": "ipython",
    "version": 3
   },
   "file_extension": ".py",
   "mimetype": "text/x-python",
   "name": "python",
   "nbconvert_exporter": "python",
   "pygments_lexer": "ipython3",
   "version": "3.8.5"
  }
 },
 "nbformat": 4,
 "nbformat_minor": 4
}

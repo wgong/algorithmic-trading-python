{
 "cells": [
  {
   "cell_type": "code",
   "execution_count": 1,
   "metadata": {},
   "outputs": [],
   "source": [
    "from sqlalchemy import create_engine\n",
    "import db_params"
   ]
  },
  {
   "cell_type": "code",
   "execution_count": 2,
   "metadata": {},
   "outputs": [],
   "source": [
    "import os, pickle"
   ]
  },
  {
   "cell_type": "code",
   "execution_count": 3,
   "metadata": {},
   "outputs": [],
   "source": [
    "import pandas as pd\n",
    "\n",
    "db_kwargs = db_params.get_db_params(\n",
    "        db_name=\"gwgdb\", \n",
    "        db_type=\"postgresql\"\n",
    "    )"
   ]
  },
  {
   "cell_type": "code",
   "execution_count": 5,
   "metadata": {},
   "outputs": [],
   "source": [
    "file_pkl = os.path.join(\"data\", f\"yfinance-fa-data.pkl\")\n",
    "with open(file_pkl, \"rb\") as f:\n",
    "    fa_data = pickle.load(f)"
   ]
  },
  {
   "cell_type": "code",
   "execution_count": 6,
   "metadata": {},
   "outputs": [
    {
     "data": {
      "text/plain": [
       "5142"
      ]
     },
     "execution_count": 6,
     "metadata": {},
     "output_type": "execute_result"
    }
   ],
   "source": [
    "len(fa_data)"
   ]
  },
  {
   "cell_type": "code",
   "execution_count": 7,
   "metadata": {},
   "outputs": [],
   "source": [
    "symbols = [r[0] for r in fa_data]"
   ]
  },
  {
   "cell_type": "code",
   "execution_count": 8,
   "metadata": {},
   "outputs": [
    {
     "data": {
      "text/plain": [
       "5142"
      ]
     },
     "execution_count": 8,
     "metadata": {},
     "output_type": "execute_result"
    }
   ],
   "source": [
    "len(symbols)"
   ]
  },
  {
   "cell_type": "code",
   "execution_count": 9,
   "metadata": {},
   "outputs": [
    {
     "data": {
      "text/plain": [
       "5142"
      ]
     },
     "execution_count": 9,
     "metadata": {},
     "output_type": "execute_result"
    }
   ],
   "source": [
    "len(set(symbols))"
   ]
  },
  {
   "cell_type": "code",
   "execution_count": 10,
   "metadata": {},
   "outputs": [],
   "source": [
    "key_attribs = [\n",
    "    \"symbol\", \"sector\", \"industry\", \"shortName\",\n",
    "    \"website\", \"phone\", \"address1\", \"city\", \"state\", \"zip\", \"country\", \n",
    "    \"fullTimeEmployees\", \n",
    "    \"logo_url\", \n",
    "    \"longBusinessSummary\",\n",
    "    \"dividendYield\",\n",
    "    \"forwardPE\", \"forwardEps\", \"trailingEps\", \n",
    "    \"bookValue\", \n",
    "    \"sharesOutstanding\", \"sharesShort\"\n",
    "]"
   ]
  },
  {
   "cell_type": "code",
   "execution_count": 11,
   "metadata": {},
   "outputs": [],
   "source": [
    "key2idx_map = {}\n",
    "for i,k in enumerate(key_attribs):\n",
    "    key2idx_map[k] = i"
   ]
  },
  {
   "cell_type": "code",
   "execution_count": 12,
   "metadata": {},
   "outputs": [],
   "source": [
    "column_types = {\n",
    "    \"symbol\": \"character varying \", \n",
    "    \"sector\": \"character varying \",\n",
    "    \"industry\": \"character varying \", \n",
    "    \"name\": \"character varying \",\n",
    "    # \"comments\": \"character varying \",\n",
    "    \"website\": \"character varying \", \n",
    "    \"num_emp\": \"integer\", \n",
    "    \"div_yield\": \"numeric\",\n",
    "    \"fpe\": \"numeric\", \n",
    "    \"feps\": \"numeric\", \n",
    "    \"teps\": \"numeric\", \n",
    "    \"book_val\": \"numeric\", \n",
    "    \"shares\": \"integer\", \n",
    "    \"shares_short\": \"integer\",\n",
    "    \"profile\": \"text\",\n",
    "    \"phone\": \"character varying \", \n",
    "    \"address1\": \"character varying \", \n",
    "    \"city\": \"character varying \", \n",
    "    \"state\": \"character varying \", \n",
    "    \"zip\": \"character varying \", \n",
    "    \"country\": \"character varying \", \n",
    "    \"logo_url\": \"character varying \"\n",
    "}"
   ]
  },
  {
   "cell_type": "code",
   "execution_count": 13,
   "metadata": {},
   "outputs": [],
   "source": [
    "key2col_map = {'symbol': 'symbol',\n",
    " 'sector': 'sector',\n",
    " 'industry': 'industry',\n",
    " 'shortName': 'name',\n",
    " 'website': 'website',\n",
    " 'phone': 'phone',\n",
    " 'address1': 'address1',\n",
    " 'city': 'city',\n",
    " 'state': 'state',\n",
    " 'zip': 'zip',\n",
    " 'country': 'country',\n",
    " 'fullTimeEmployees': 'num_emp',\n",
    " 'logo_url': 'logo_url',\n",
    " 'longBusinessSummary': 'profile',\n",
    " 'dividendYield': 'div_yield',\n",
    " 'forwardPE': 'fpe',\n",
    " 'forwardEps': 'feps',\n",
    " 'trailingEps': 'teps',\n",
    " 'bookValue': 'book_val',\n",
    " 'sharesOutstanding': 'shares',\n",
    " 'sharesShort': 'shares_short'}"
   ]
  },
  {
   "cell_type": "code",
   "execution_count": 14,
   "metadata": {},
   "outputs": [],
   "source": [
    "col2key_map = {}\n",
    "for k,v in key2col_map.items():\n",
    "    col2key_map[v] = k"
   ]
  },
  {
   "cell_type": "code",
   "execution_count": 15,
   "metadata": {},
   "outputs": [],
   "source": [
    "columns = column_types.keys()"
   ]
  },
  {
   "cell_type": "code",
   "execution_count": 16,
   "metadata": {},
   "outputs": [
    {
     "data": {
      "text/plain": [
       "(21,\n",
       " dict_keys(['symbol', 'sector', 'industry', 'name', 'website', 'num_emp', 'div_yield', 'fpe', 'feps', 'teps', 'book_val', 'shares', 'shares_short', 'profile', 'phone', 'address1', 'city', 'state', 'zip', 'country', 'logo_url']))"
      ]
     },
     "execution_count": 16,
     "metadata": {},
     "output_type": "execute_result"
    }
   ],
   "source": [
    "len(columns), columns"
   ]
  },
  {
   "cell_type": "code",
   "execution_count": 17,
   "metadata": {},
   "outputs": [],
   "source": [
    "engine = create_engine(f'postgresql://{db_kwargs[\"user\"]}:{db_kwargs[\"password\"]}@{db_kwargs[\"host\"]}:{db_kwargs[\"port\"]}/{db_kwargs[\"database\"]}')"
   ]
  },
  {
   "cell_type": "code",
   "execution_count": 18,
   "metadata": {},
   "outputs": [],
   "source": [
    "conn = engine.connect()\n",
    "df_fa = pd.DataFrame(columns = columns)\n",
    "for row in fa_data:\n",
    "    record = [row[key2idx_map[col2key_map[c]]] for c in columns]\n",
    "    df_fa = df_fa.append(\n",
    "        pd.Series(record, index=columns),\n",
    "        ignore_index = True\n",
    "    )\n",
    "    \n",
    "# https://datatofish.com/pandas-dataframe-to-sql/\n",
    "df_fa.to_sql('ticker', conn, if_exists='replace', index=False)\n",
    "    \n",
    "conn.close()"
   ]
  },
  {
   "cell_type": "code",
   "execution_count": null,
   "metadata": {},
   "outputs": [],
   "source": []
  }
 ],
 "metadata": {
  "kernelspec": {
   "display_name": "Python 3",
   "language": "python",
   "name": "python3"
  },
  "language_info": {
   "codemirror_mode": {
    "name": "ipython",
    "version": 3
   },
   "file_extension": ".py",
   "mimetype": "text/x-python",
   "name": "python",
   "nbconvert_exporter": "python",
   "pygments_lexer": "ipython3",
   "version": "3.8.5"
  }
 },
 "nbformat": 4,
 "nbformat_minor": 4
}

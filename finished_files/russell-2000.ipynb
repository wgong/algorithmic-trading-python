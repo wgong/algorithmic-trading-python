{
 "cells": [
  {
   "cell_type": "code",
   "execution_count": 1,
   "metadata": {},
   "outputs": [],
   "source": [
    "import pandas as pd"
   ]
  },
  {
   "cell_type": "code",
   "execution_count": 2,
   "metadata": {},
   "outputs": [],
   "source": [
    "df = pd.read_csv(\"russell_2000_stocks.csv\")"
   ]
  },
  {
   "cell_type": "code",
   "execution_count": 3,
   "metadata": {},
   "outputs": [
    {
     "data": {
      "text/plain": [
       "(2048, 10)"
      ]
     },
     "execution_count": 3,
     "metadata": {},
     "output_type": "execute_result"
    }
   ],
   "source": [
    "df.shape"
   ]
  },
  {
   "cell_type": "code",
   "execution_count": 4,
   "metadata": {},
   "outputs": [
    {
     "data": {
      "text/html": [
       "<div>\n",
       "<style scoped>\n",
       "    .dataframe tbody tr th:only-of-type {\n",
       "        vertical-align: middle;\n",
       "    }\n",
       "\n",
       "    .dataframe tbody tr th {\n",
       "        vertical-align: top;\n",
       "    }\n",
       "\n",
       "    .dataframe thead th {\n",
       "        text-align: right;\n",
       "    }\n",
       "</style>\n",
       "<table border=\"1\" class=\"dataframe\">\n",
       "  <thead>\n",
       "    <tr style=\"text-align: right;\">\n",
       "      <th></th>\n",
       "      <th>Ticker</th>\n",
       "      <th>Name</th>\n",
       "      <th>Sector</th>\n",
       "      <th>Asset Class</th>\n",
       "      <th>Market Value</th>\n",
       "      <th>Weight</th>\n",
       "      <th>Shares</th>\n",
       "      <th>CUSIP</th>\n",
       "      <th>ISIN</th>\n",
       "      <th>SEDOL</th>\n",
       "    </tr>\n",
       "  </thead>\n",
       "  <tbody>\n",
       "    <tr>\n",
       "      <th>0</th>\n",
       "      <td>PENN</td>\n",
       "      <td>PENN NATIONAL GAMING INC</td>\n",
       "      <td>Consumer Discretionary</td>\n",
       "      <td>Equity</td>\n",
       "      <td>$337,103,434.46</td>\n",
       "      <td>0.58</td>\n",
       "      <td>3666559.0</td>\n",
       "      <td>707569109</td>\n",
       "      <td>US7075691094</td>\n",
       "      <td>2682105</td>\n",
       "    </tr>\n",
       "    <tr>\n",
       "      <th>1</th>\n",
       "      <td>CZR</td>\n",
       "      <td>CAESARS ENTERTAINMENT INC</td>\n",
       "      <td>Consumer Discretionary</td>\n",
       "      <td>Equity</td>\n",
       "      <td>$319,290,068.24</td>\n",
       "      <td>0.55</td>\n",
       "      <td>4232371.0</td>\n",
       "      <td>12769G100</td>\n",
       "      <td>US12769G1004</td>\n",
       "      <td>BMWWGB0</td>\n",
       "    </tr>\n",
       "    <tr>\n",
       "      <th>2</th>\n",
       "      <td>PLUG</td>\n",
       "      <td>PLUG POWER INC</td>\n",
       "      <td>Industrials</td>\n",
       "      <td>Equity</td>\n",
       "      <td>$279,066,969.50</td>\n",
       "      <td>0.48</td>\n",
       "      <td>8824252.0</td>\n",
       "      <td>72919P202</td>\n",
       "      <td>US72919P2020</td>\n",
       "      <td>2508386</td>\n",
       "    </tr>\n",
       "    <tr>\n",
       "      <th>3</th>\n",
       "      <td>RARE</td>\n",
       "      <td>ULTRAGENYX PHARMACEUTICAL INC</td>\n",
       "      <td>Health Care</td>\n",
       "      <td>Equity</td>\n",
       "      <td>$247,528,801.40</td>\n",
       "      <td>0.42</td>\n",
       "      <td>1473035.0</td>\n",
       "      <td>90400D108</td>\n",
       "      <td>US90400D1081</td>\n",
       "      <td>BJ62Z18</td>\n",
       "    </tr>\n",
       "    <tr>\n",
       "      <th>4</th>\n",
       "      <td>MRTX</td>\n",
       "      <td>MIRATI THERAPEUTICS INC</td>\n",
       "      <td>Health Care</td>\n",
       "      <td>Equity</td>\n",
       "      <td>$235,860,234.50</td>\n",
       "      <td>0.40</td>\n",
       "      <td>1006874.0</td>\n",
       "      <td>60468T105</td>\n",
       "      <td>US60468T1051</td>\n",
       "      <td>BBPK0J0</td>\n",
       "    </tr>\n",
       "  </tbody>\n",
       "</table>\n",
       "</div>"
      ],
      "text/plain": [
       "  Ticker                           Name                  Sector Asset Class  \\\n",
       "0   PENN       PENN NATIONAL GAMING INC  Consumer Discretionary      Equity   \n",
       "1    CZR      CAESARS ENTERTAINMENT INC  Consumer Discretionary      Equity   \n",
       "2   PLUG                 PLUG POWER INC             Industrials      Equity   \n",
       "3   RARE  ULTRAGENYX PHARMACEUTICAL INC             Health Care      Equity   \n",
       "4   MRTX        MIRATI THERAPEUTICS INC             Health Care      Equity   \n",
       "\n",
       "      Market Value  Weight     Shares      CUSIP          ISIN    SEDOL  \n",
       "0  $337,103,434.46    0.58  3666559.0  707569109  US7075691094  2682105  \n",
       "1  $319,290,068.24    0.55  4232371.0  12769G100  US12769G1004  BMWWGB0  \n",
       "2  $279,066,969.50    0.48  8824252.0  72919P202  US72919P2020  2508386  \n",
       "3  $247,528,801.40    0.42  1473035.0  90400D108  US90400D1081  BJ62Z18  \n",
       "4  $235,860,234.50    0.40  1006874.0  60468T105  US60468T1051  BBPK0J0  "
      ]
     },
     "execution_count": 4,
     "metadata": {},
     "output_type": "execute_result"
    }
   ],
   "source": [
    "df.head()"
   ]
  },
  {
   "cell_type": "code",
   "execution_count": 5,
   "metadata": {},
   "outputs": [],
   "source": [
    "df = df[[\"Ticker\", \"Name\", \"Sector\"]]"
   ]
  },
  {
   "cell_type": "code",
   "execution_count": 6,
   "metadata": {},
   "outputs": [
    {
     "data": {
      "text/html": [
       "<div>\n",
       "<style scoped>\n",
       "    .dataframe tbody tr th:only-of-type {\n",
       "        vertical-align: middle;\n",
       "    }\n",
       "\n",
       "    .dataframe tbody tr th {\n",
       "        vertical-align: top;\n",
       "    }\n",
       "\n",
       "    .dataframe thead th {\n",
       "        text-align: right;\n",
       "    }\n",
       "</style>\n",
       "<table border=\"1\" class=\"dataframe\">\n",
       "  <thead>\n",
       "    <tr style=\"text-align: right;\">\n",
       "      <th></th>\n",
       "      <th>Ticker</th>\n",
       "      <th>Name</th>\n",
       "      <th>Sector</th>\n",
       "    </tr>\n",
       "  </thead>\n",
       "  <tbody>\n",
       "    <tr>\n",
       "      <th>0</th>\n",
       "      <td>PENN</td>\n",
       "      <td>PENN NATIONAL GAMING INC</td>\n",
       "      <td>Consumer Discretionary</td>\n",
       "    </tr>\n",
       "    <tr>\n",
       "      <th>1</th>\n",
       "      <td>CZR</td>\n",
       "      <td>CAESARS ENTERTAINMENT INC</td>\n",
       "      <td>Consumer Discretionary</td>\n",
       "    </tr>\n",
       "    <tr>\n",
       "      <th>2</th>\n",
       "      <td>PLUG</td>\n",
       "      <td>PLUG POWER INC</td>\n",
       "      <td>Industrials</td>\n",
       "    </tr>\n",
       "    <tr>\n",
       "      <th>3</th>\n",
       "      <td>RARE</td>\n",
       "      <td>ULTRAGENYX PHARMACEUTICAL INC</td>\n",
       "      <td>Health Care</td>\n",
       "    </tr>\n",
       "    <tr>\n",
       "      <th>4</th>\n",
       "      <td>MRTX</td>\n",
       "      <td>MIRATI THERAPEUTICS INC</td>\n",
       "      <td>Health Care</td>\n",
       "    </tr>\n",
       "    <tr>\n",
       "      <th>...</th>\n",
       "      <td>...</td>\n",
       "      <td>...</td>\n",
       "      <td>...</td>\n",
       "    </tr>\n",
       "    <tr>\n",
       "      <th>2043</th>\n",
       "      <td>SEAC</td>\n",
       "      <td>SEACHANGE INTERNATIONAL INC</td>\n",
       "      <td>Information Technology</td>\n",
       "    </tr>\n",
       "    <tr>\n",
       "      <th>2044</th>\n",
       "      <td>AYTU</td>\n",
       "      <td>AYTU BIOSCIENCE INC</td>\n",
       "      <td>Health Care</td>\n",
       "    </tr>\n",
       "    <tr>\n",
       "      <th>2045</th>\n",
       "      <td>WLLAW</td>\n",
       "      <td>WHITING PETROLEUM EQUITY WARRANTS</td>\n",
       "      <td>Energy</td>\n",
       "    </tr>\n",
       "    <tr>\n",
       "      <th>2046</th>\n",
       "      <td>WLLBW</td>\n",
       "      <td>WHITING PETROLEUM EQUITY WARRANTS</td>\n",
       "      <td>Energy</td>\n",
       "    </tr>\n",
       "    <tr>\n",
       "      <th>2047</th>\n",
       "      <td>GTXI</td>\n",
       "      <td>GTXI INC - CVR</td>\n",
       "      <td>Health Care</td>\n",
       "    </tr>\n",
       "  </tbody>\n",
       "</table>\n",
       "<p>2048 rows × 3 columns</p>\n",
       "</div>"
      ],
      "text/plain": [
       "     Ticker                               Name                  Sector\n",
       "0      PENN           PENN NATIONAL GAMING INC  Consumer Discretionary\n",
       "1       CZR          CAESARS ENTERTAINMENT INC  Consumer Discretionary\n",
       "2      PLUG                     PLUG POWER INC             Industrials\n",
       "3      RARE      ULTRAGENYX PHARMACEUTICAL INC             Health Care\n",
       "4      MRTX            MIRATI THERAPEUTICS INC             Health Care\n",
       "...     ...                                ...                     ...\n",
       "2043   SEAC        SEACHANGE INTERNATIONAL INC  Information Technology\n",
       "2044   AYTU                AYTU BIOSCIENCE INC             Health Care\n",
       "2045  WLLAW  WHITING PETROLEUM EQUITY WARRANTS                  Energy\n",
       "2046  WLLBW  WHITING PETROLEUM EQUITY WARRANTS                  Energy\n",
       "2047   GTXI                     GTXI INC - CVR             Health Care\n",
       "\n",
       "[2048 rows x 3 columns]"
      ]
     },
     "execution_count": 6,
     "metadata": {},
     "output_type": "execute_result"
    }
   ],
   "source": [
    "df"
   ]
  },
  {
   "cell_type": "code",
   "execution_count": 7,
   "metadata": {},
   "outputs": [],
   "source": [
    "sectors = df.Sector.unique().tolist()"
   ]
  },
  {
   "cell_type": "code",
   "execution_count": 8,
   "metadata": {},
   "outputs": [
    {
     "data": {
      "text/plain": [
       "['Consumer Discretionary',\n",
       " 'Industrials',\n",
       " 'Health Care',\n",
       " 'Consumer Staples',\n",
       " 'Information Technology',\n",
       " 'Real Estate',\n",
       " 'Cash and/or Derivatives',\n",
       " 'Utilities',\n",
       " 'Materials',\n",
       " 'Financials',\n",
       " 'Communication',\n",
       " 'Energy']"
      ]
     },
     "execution_count": 8,
     "metadata": {},
     "output_type": "execute_result"
    }
   ],
   "source": [
    "sectors"
   ]
  },
  {
   "cell_type": "code",
   "execution_count": 10,
   "metadata": {},
   "outputs": [],
   "source": [
    "sector_map = {\n",
    "    'Consumer Discretionary' : 'consumer-cyclical',\n",
    "     'Industrials' : 'industrials',\n",
    "     'Health Care' : 'healthcare',\n",
    "     'Consumer Staples' : 'consumer-defensive',\n",
    "     'Information Technology' : 'technology',\n",
    "     'Real Estate': 'real-estate',\n",
    "     'Cash and/or Derivatives' : 'cash-derivatives',\n",
    "     'Utilities': 'utilities',\n",
    "     'Materials': 'basic-materials',\n",
    "     'Financials' : 'financial-services',\n",
    "     'Communication': 'communication-services',\n",
    "     'Energy': 'energy',\n",
    "}"
   ]
  },
  {
   "cell_type": "code",
   "execution_count": 11,
   "metadata": {},
   "outputs": [],
   "source": [
    "for k,v in sector_map.items():\n",
    "    df.loc[df[\"Sector\"] == k, \"Sector\"] = v"
   ]
  },
  {
   "cell_type": "code",
   "execution_count": 12,
   "metadata": {},
   "outputs": [
    {
     "data": {
      "text/html": [
       "<div>\n",
       "<style scoped>\n",
       "    .dataframe tbody tr th:only-of-type {\n",
       "        vertical-align: middle;\n",
       "    }\n",
       "\n",
       "    .dataframe tbody tr th {\n",
       "        vertical-align: top;\n",
       "    }\n",
       "\n",
       "    .dataframe thead th {\n",
       "        text-align: right;\n",
       "    }\n",
       "</style>\n",
       "<table border=\"1\" class=\"dataframe\">\n",
       "  <thead>\n",
       "    <tr style=\"text-align: right;\">\n",
       "      <th></th>\n",
       "      <th>Ticker</th>\n",
       "      <th>Name</th>\n",
       "      <th>Sector</th>\n",
       "    </tr>\n",
       "  </thead>\n",
       "  <tbody>\n",
       "    <tr>\n",
       "      <th>0</th>\n",
       "      <td>PENN</td>\n",
       "      <td>PENN NATIONAL GAMING INC</td>\n",
       "      <td>consumer-cyclical</td>\n",
       "    </tr>\n",
       "    <tr>\n",
       "      <th>1</th>\n",
       "      <td>CZR</td>\n",
       "      <td>CAESARS ENTERTAINMENT INC</td>\n",
       "      <td>consumer-cyclical</td>\n",
       "    </tr>\n",
       "    <tr>\n",
       "      <th>2</th>\n",
       "      <td>PLUG</td>\n",
       "      <td>PLUG POWER INC</td>\n",
       "      <td>industrials</td>\n",
       "    </tr>\n",
       "    <tr>\n",
       "      <th>3</th>\n",
       "      <td>RARE</td>\n",
       "      <td>ULTRAGENYX PHARMACEUTICAL INC</td>\n",
       "      <td>healthcare</td>\n",
       "    </tr>\n",
       "    <tr>\n",
       "      <th>4</th>\n",
       "      <td>MRTX</td>\n",
       "      <td>MIRATI THERAPEUTICS INC</td>\n",
       "      <td>healthcare</td>\n",
       "    </tr>\n",
       "  </tbody>\n",
       "</table>\n",
       "</div>"
      ],
      "text/plain": [
       "  Ticker                           Name             Sector\n",
       "0   PENN       PENN NATIONAL GAMING INC  consumer-cyclical\n",
       "1    CZR      CAESARS ENTERTAINMENT INC  consumer-cyclical\n",
       "2   PLUG                 PLUG POWER INC        industrials\n",
       "3   RARE  ULTRAGENYX PHARMACEUTICAL INC         healthcare\n",
       "4   MRTX        MIRATI THERAPEUTICS INC         healthcare"
      ]
     },
     "execution_count": 12,
     "metadata": {},
     "output_type": "execute_result"
    }
   ],
   "source": [
    "df.head()"
   ]
  },
  {
   "cell_type": "code",
   "execution_count": 13,
   "metadata": {},
   "outputs": [
    {
     "data": {
      "text/plain": [
       "healthcare                508\n",
       "financial-services        422\n",
       "industrials               256\n",
       "technology                216\n",
       "consumer-cyclical         214\n",
       "real-estate               115\n",
       "energy                     81\n",
       "basic-materials            76\n",
       "communication-services     63\n",
       "consumer-defensive         58\n",
       "utilities                  36\n",
       "cash-derivatives            3\n",
       "Name: Sector, dtype: int64"
      ]
     },
     "execution_count": 13,
     "metadata": {},
     "output_type": "execute_result"
    }
   ],
   "source": [
    "df.Sector.value_counts()"
   ]
  },
  {
   "cell_type": "code",
   "execution_count": 14,
   "metadata": {},
   "outputs": [],
   "source": [
    "df.to_csv(\"russell_2000_stocks.csv\", index=False)"
   ]
  },
  {
   "cell_type": "code",
   "execution_count": null,
   "metadata": {},
   "outputs": [],
   "source": []
  }
 ],
 "metadata": {
  "kernelspec": {
   "display_name": "Python 3",
   "language": "python",
   "name": "python3"
  },
  "language_info": {
   "codemirror_mode": {
    "name": "ipython",
    "version": 3
   },
   "file_extension": ".py",
   "mimetype": "text/x-python",
   "name": "python",
   "nbconvert_exporter": "python",
   "pygments_lexer": "ipython3",
   "version": "3.8.5"
  }
 },
 "nbformat": 4,
 "nbformat_minor": 4
}

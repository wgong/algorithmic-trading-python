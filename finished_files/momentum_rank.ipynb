{
 "cells": [
  {
   "cell_type": "markdown",
   "metadata": {},
   "source": [
    "# Quantitative Momentum Strategy\n",
    "\n",
    "\"Momentum investing\" means investing in the stocks that have increased in price the most.\n",
    "\n",
    "Adapted from https://github.com/nickmccullum/algorithmic-trading-python/blob/master/finished_files/002_quantitative_momentum_strategy.ipynb"
   ]
  },
  {
   "cell_type": "code",
   "execution_count": 1,
   "metadata": {},
   "outputs": [],
   "source": [
    "import numpy as np #The Numpy numerical computing library\n",
    "import pandas as pd #The Pandas data science library\n",
    "import requests #The requests library for HTTP requests in Python\n",
    "import xlsxwriter #The XlsxWriter libarary for \n",
    "import math #The Python math module\n",
    "from scipy import stats #The SciPy stats module\n",
    "from statistics import mean\n",
    "\n",
    "import datetime\n",
    "\n",
    "import api_token  as gwg # handle iexcloud API tokens"
   ]
  },
  {
   "cell_type": "code",
   "execution_count": 2,
   "metadata": {},
   "outputs": [],
   "source": [
    "env = \"cloud\" # \"sandbox\"  # \n",
    "BASE_URL, IEX_CLOUD_API_TOKEN = gwg.get_base_url(env=env), gwg.get_api_token(env=env)\n",
    "\n",
    "BATCH_SIZE = 100\n",
    "\n",
    "WRITE_ALL_DF = True\n",
    "TOP_N = 20\n",
    "\n",
    "file_csv = \"stocks-ETF-sectors.csv\"\n",
    "\n",
    "filename=file_csv.replace(\".csv\", \"\")\n",
    "\n",
    "# prepare output file-names\n",
    "today = datetime.datetime.now()\n",
    "xlsx_file = f\"spreadsheet_{filename}_top{TOP_N}_{today.strftime('%Y-%m-%d')}.xlsx\"\n",
    "xlsx_file_all = f\"spreadsheet_{filename}_all_{today.strftime('%Y-%m-%d')}.xlsx\"\n",
    "watchlist_file = f\"watchlist_{filename}_top{TOP_N}_{today.strftime('%Y-%m-%d')}.csv\"\n",
    "\n",
    "time_periods = [\n",
    "    'Five-Day',\n",
    "    'One-Month',\n",
    "    'Three-Month',\n",
    "    'Six-Month',\n",
    "    'One-Year'\n",
    "]\n",
    "price_return_cols = [f'{time_period} Price Return' for time_period in time_periods]\n",
    "\n",
    "# price_return_cols\n",
    "\n",
    "hqm_columns = [\n",
    "    'Ticker', \n",
    "    'Name',\n",
    "    'Number of Shares to Buy', \n",
    "    'Price', \n",
    "    'Five-Day Price Return',\n",
    "    'One-Month Price Return',\n",
    "    'Three-Month Price Return',\n",
    "    'Six-Month Price Return',\n",
    "    'One-Year Price Return', \n",
    "    'Five-Day Return Percentile',\n",
    "    'One-Month Return Percentile',\n",
    "    'Three-Month Return Percentile',\n",
    "    'Six-Month Return Percentile',\n",
    "    'One-Year Return Percentile',\n",
    "    'HQM Score'\n",
    "]"
   ]
  },
  {
   "cell_type": "markdown",
   "metadata": {},
   "source": [
    "## Load Stock Ticker"
   ]
  },
  {
   "cell_type": "code",
   "execution_count": 3,
   "metadata": {},
   "outputs": [],
   "source": [
    "header = \"Ticker, Name, Sector_File, TopN, WRITE_ALL\"\n",
    "df = pd.read_csv(\n",
    "    file_csv, \n",
    "    names=[c.strip() for c in header.split(\",\")],\n",
    "    skiprows=[0]\n",
    ")"
   ]
  },
  {
   "cell_type": "code",
   "execution_count": 4,
   "metadata": {},
   "outputs": [],
   "source": [
    "# df"
   ]
  },
  {
   "cell_type": "code",
   "execution_count": 5,
   "metadata": {},
   "outputs": [],
   "source": [
    "stocks = df[\"Ticker\"].values.tolist()"
   ]
  },
  {
   "cell_type": "code",
   "execution_count": 6,
   "metadata": {},
   "outputs": [],
   "source": [
    "symbol_groups = list(gwg.chunks(stocks, BATCH_SIZE))\n",
    "symbol_strings = []\n",
    "for i in range(0, len(symbol_groups)):\n",
    "    symbol_strings.append(','.join(symbol_groups[i]))"
   ]
  },
  {
   "cell_type": "code",
   "execution_count": 7,
   "metadata": {},
   "outputs": [],
   "source": [
    "hqm_dataframe = pd.DataFrame(columns = hqm_columns)\n",
    "\n",
    "for symbol_string in symbol_strings:\n",
    "    batch_api_call_url = f'{BASE_URL}/stable/stock/market/batch/?types=stats,quote&symbols={symbol_string}&token={IEX_CLOUD_API_TOKEN}'\n",
    "    data = requests.get(batch_api_call_url).json()\n",
    "    for symbol in symbol_string.split(','):\n",
    "        try:\n",
    "            hqm_dataframe = hqm_dataframe.append(\n",
    "                pd.Series([\n",
    "                       symbol, \n",
    "                       data[symbol]['stats']['companyName'],\n",
    "                       'N/A',\n",
    "                       data[symbol]['quote']['latestPrice'],\n",
    "                       data[symbol]['stats']['day5ChangePercent'],\n",
    "                       data[symbol]['stats']['month1ChangePercent'],\n",
    "                       data[symbol]['stats']['month3ChangePercent'],\n",
    "                       data[symbol]['stats']['month6ChangePercent'],\n",
    "                       data[symbol]['stats']['year1ChangePercent'],\n",
    "                       'N/A',\n",
    "                       'N/A',\n",
    "                       'N/A',\n",
    "                       'N/A',\n",
    "                       'N/A',\n",
    "                       'N/A'\n",
    "                   ], \n",
    "                   index = hqm_columns\n",
    "                ), \n",
    "                ignore_index = True\n",
    "            )\n",
    "        except Exception as ex:\n",
    "            print(f\"symbol = {symbol}\\n Error={str(ex)}\")"
   ]
  },
  {
   "cell_type": "code",
   "execution_count": 8,
   "metadata": {},
   "outputs": [],
   "source": [
    "hqm_dataframe = hqm_dataframe.dropna(how='any', \n",
    "                subset=price_return_cols)"
   ]
  },
  {
   "cell_type": "code",
   "execution_count": 9,
   "metadata": {},
   "outputs": [],
   "source": [
    "# hqm_dataframe[hqm_dataframe[\"One-Year Price Return\"].isnull()]"
   ]
  },
  {
   "cell_type": "markdown",
   "metadata": {},
   "source": [
    "## Calculating Momentum Percentiles"
   ]
  },
  {
   "cell_type": "code",
   "execution_count": 10,
   "metadata": {},
   "outputs": [],
   "source": [
    "for row in hqm_dataframe.index:\n",
    "    for time_period in time_periods:\n",
    "        hqm_dataframe.loc[row, f'{time_period} Return Percentile'] = \\\n",
    "            0.01*stats.percentileofscore(hqm_dataframe[f'{time_period} Price Return'], hqm_dataframe.loc[row, f'{time_period} Price Return'])\n"
   ]
  },
  {
   "cell_type": "markdown",
   "metadata": {},
   "source": [
    "## Calculating the HQM Score\n",
    "\n",
    "The `HQM Score` will be the arithmetic mean of the momentum percentile scores "
   ]
  },
  {
   "cell_type": "code",
   "execution_count": 11,
   "metadata": {},
   "outputs": [],
   "source": [
    "for row in hqm_dataframe.index:\n",
    "    momentum_percentiles = []\n",
    "    for time_period in time_periods:\n",
    "        momentum_percentiles.append(hqm_dataframe.loc[row, f'{time_period} Return Percentile'])\n",
    "    hqm_dataframe.loc[row, 'HQM Score'] = mean(momentum_percentiles)"
   ]
  },
  {
   "cell_type": "markdown",
   "metadata": {},
   "source": [
    "## Selecting the Best Momentum Stocks\n",
    "\n",
    "As before, we can identify the 50 best momentum stocks in our universe by sorting the DataFrame on the `HQM Score` column and dropping all but the top 50 entries."
   ]
  },
  {
   "cell_type": "code",
   "execution_count": 12,
   "metadata": {},
   "outputs": [],
   "source": [
    "hqm_dataframe.sort_values(by = 'HQM Score', ascending = False, inplace=True)\n",
    "\n",
    "if WRITE_ALL_DF:\n",
    "    hqm_dataframe_all = hqm_dataframe.copy()\n",
    "    \n",
    "hqm_dataframe = hqm_dataframe[:(TOP_N+1)]"
   ]
  },
  {
   "cell_type": "code",
   "execution_count": 13,
   "metadata": {},
   "outputs": [],
   "source": [
    "hqm_dataframe.reset_index(drop = True, inplace = True)"
   ]
  },
  {
   "cell_type": "markdown",
   "metadata": {},
   "source": [
    "## Formatting .xlsx File\n",
    "\n",
    "* String format for tickers\n",
    "* \\$XX.XX format for stock prices\n",
    "* \\$XX,XXX format for market capitalization\n",
    "* Integer format for the number of shares to purchase"
   ]
  },
  {
   "cell_type": "code",
   "execution_count": 14,
   "metadata": {},
   "outputs": [],
   "source": [
    "writer = pd.ExcelWriter(xlsx_file, engine='xlsxwriter')"
   ]
  },
  {
   "cell_type": "code",
   "execution_count": 15,
   "metadata": {},
   "outputs": [],
   "source": [
    "background_color = '#0a0a23'\n",
    "font_color = '#ffffff'\n",
    "\n",
    "string_template = writer.book.add_format(\n",
    "        {\n",
    "            'font_color': font_color,\n",
    "            'bg_color': background_color,\n",
    "            'border': 1\n",
    "        }\n",
    "    )\n",
    "\n",
    "dollar_template = writer.book.add_format(\n",
    "        {\n",
    "            'num_format':'$0.00',\n",
    "            'font_color': font_color,\n",
    "            'bg_color': background_color,\n",
    "            'border': 1\n",
    "        }\n",
    "    )\n",
    "\n",
    "integer_template = writer.book.add_format(\n",
    "        {\n",
    "            'num_format':'0',\n",
    "            'font_color': font_color,\n",
    "            'bg_color': background_color,\n",
    "            'border': 1\n",
    "        }\n",
    "    )\n",
    "\n",
    "percent_template = writer.book.add_format(\n",
    "        {\n",
    "            'num_format':'0.0%',\n",
    "            'font_color': font_color,\n",
    "            'bg_color': background_color,\n",
    "            'border': 1\n",
    "        }\n",
    "    )\n",
    "\n",
    "column_formats = { \n",
    "        'A': ['Ticker', string_template],\n",
    "        'B': ['Name', string_template], \n",
    "        'C': ['Number of Shares to Buy', integer_template],\n",
    "        'D': ['Price', dollar_template],\n",
    "        'E': ['Five-Day Price Return', percent_template], \n",
    "        'F': ['One-Month Price Return', percent_template], \n",
    "        'G': ['Three-Month Price Return', percent_template],\n",
    "        'H': ['Six-Month Price Return', percent_template],\n",
    "        'I': ['One-Year Price Return', percent_template],\n",
    "        'J': ['Five-Day Return Percentile', percent_template],\n",
    "        'K': ['One-Month Return Percentile', percent_template],\n",
    "        'L': ['Three-Month Return Percentile', percent_template],\n",
    "        'M': ['Six-Month Return Percentile', percent_template],\n",
    "        'N': ['One-Year Return Percentile', percent_template], \n",
    "        'O': ['HQM Score', percent_template]\n",
    "}"
   ]
  },
  {
   "cell_type": "code",
   "execution_count": 16,
   "metadata": {},
   "outputs": [],
   "source": [
    "hqm_dataframe.to_excel(writer, sheet_name='Momentum Strategy', index = False)"
   ]
  },
  {
   "cell_type": "code",
   "execution_count": 17,
   "metadata": {},
   "outputs": [],
   "source": [
    "for column in column_formats.keys():\n",
    "    writer.sheets['Momentum Strategy'].set_column(f'{column}:{column}', 10, column_formats[column][1])\n",
    "    writer.sheets['Momentum Strategy'].write(f'{column}1', column_formats[column][0], string_template)"
   ]
  },
  {
   "cell_type": "code",
   "execution_count": 18,
   "metadata": {},
   "outputs": [],
   "source": [
    "writer.save()"
   ]
  },
  {
   "cell_type": "code",
   "execution_count": 19,
   "metadata": {},
   "outputs": [],
   "source": [
    "if WRITE_ALL_DF:\n",
    "    writer = pd.ExcelWriter(xlsx_file_all, engine='xlsxwriter')\n",
    "    hqm_dataframe_all.to_excel(writer, sheet_name='Momentum Strategy', index = False)\n",
    "\n",
    "    for column in column_formats.keys():\n",
    "        writer.sheets['Momentum Strategy'].set_column(f'{column}:{column}', 10, column_formats[column][1])\n",
    "        writer.sheets['Momentum Strategy'].write(f'{column}1', column_formats[column][0], string_template)\n",
    "\n",
    "    writer.save()"
   ]
  },
  {
   "cell_type": "markdown",
   "metadata": {},
   "source": [
    "### save watchlist"
   ]
  },
  {
   "cell_type": "code",
   "execution_count": 20,
   "metadata": {},
   "outputs": [],
   "source": [
    "tickers = hqm_dataframe[['Ticker']]\n",
    "tickers.to_csv(watchlist_file, index=False)"
   ]
  },
  {
   "cell_type": "code",
   "execution_count": null,
   "metadata": {},
   "outputs": [],
   "source": []
  }
 ],
 "metadata": {
  "kernelspec": {
   "display_name": "Python 3",
   "language": "python",
   "name": "python3"
  },
  "language_info": {
   "codemirror_mode": {
    "name": "ipython",
    "version": 3
   },
   "file_extension": ".py",
   "mimetype": "text/x-python",
   "name": "python",
   "nbconvert_exporter": "python",
   "pygments_lexer": "ipython3",
   "version": "3.8.5"
  }
 },
 "nbformat": 4,
 "nbformat_minor": 4
}

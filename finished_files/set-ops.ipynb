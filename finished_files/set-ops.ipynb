{
 "cells": [
  {
   "cell_type": "code",
   "execution_count": 1,
   "metadata": {},
   "outputs": [
    {
     "name": "stdout",
     "output_type": "stream",
     "text": [
      "/home/wengong/projects/algorithmic-trading-python/finished_files\r\n"
     ]
    }
   ],
   "source": [
    "!pwd"
   ]
  },
  {
   "cell_type": "code",
   "execution_count": 2,
   "metadata": {},
   "outputs": [
    {
     "name": "stdout",
     "output_type": "stream",
     "text": [
      "stocks-dow30.csv      stocks-russell2000.csv  stocks-sp500.csv\r\n",
      "stocks-nasdaq100.csv  stocks-sectors.csv\r\n"
     ]
    }
   ],
   "source": [
    "!ls stocks*.csv"
   ]
  },
  {
   "cell_type": "code",
   "execution_count": 3,
   "metadata": {},
   "outputs": [],
   "source": [
    "s = \"\"\"\n",
    "stocks-dow30.csv      stocks-russell2000.csv  stocks-sp500.csv\n",
    "stocks-nasdaq100.csv  \n",
    "\"\"\""
   ]
  },
  {
   "cell_type": "code",
   "execution_count": 13,
   "metadata": {},
   "outputs": [],
   "source": [
    "csv_files = [i for i in s.replace(\"\\n\", \" \").split(\" \") if i.strip()]"
   ]
  },
  {
   "cell_type": "code",
   "execution_count": 14,
   "metadata": {},
   "outputs": [
    {
     "data": {
      "text/plain": [
       "['stocks-dow30.csv',\n",
       " 'stocks-russell2000.csv',\n",
       " 'stocks-sp500.csv',\n",
       " 'stocks-nasdaq100.csv']"
      ]
     },
     "execution_count": 14,
     "metadata": {},
     "output_type": "execute_result"
    }
   ],
   "source": [
    "csv_files"
   ]
  },
  {
   "cell_type": "code",
   "execution_count": 16,
   "metadata": {},
   "outputs": [],
   "source": [
    "import pandas as pd"
   ]
  },
  {
   "cell_type": "code",
   "execution_count": 21,
   "metadata": {},
   "outputs": [],
   "source": [
    "all_tickers = set(pd.read_csv(\"stocks-sectors.csv\")[\"Ticker\"].tolist())"
   ]
  },
  {
   "cell_type": "code",
   "execution_count": 27,
   "metadata": {},
   "outputs": [
    {
     "name": "stdout",
     "output_type": "stream",
     "text": [
      "\n",
      "\n",
      "file=stocks-dow30.csv, num_stocks=30, first_5=['UNH', 'HD', 'GS', 'AMGN', 'CRM']\n",
      "\n",
      "\n",
      "file=stocks-russell2000.csv, num_stocks=2048, first_5=['PENN', 'CZR', 'PLUG', 'RARE', 'MRTX']\n",
      "\n",
      "Add following stocks to 'stocks-sectors.csv':\n",
      "{'BRMK', 'STTK', 'RWT', 'WLLAW', 'GTXI', 'ARL', 'CWENA', 'XTSLA', 'FSP', 'CTT', 'DOC', 'UBA', 'CCCC', 'TRTX', 'HASI', 'PMT', 'PDM', 'CLPR', 'CORR', 'NYMT', 'IIPR', 'ABR', 'NHI', 'ILPT', 'PSB', 'CXP', 'CTRE', 'AVIR', 'CRDA', 'CHCT', 'ORC', 'OLP', 'LTC', 'RPAI', 'RHP', 'INN', 'PEB', 'RLJ', 'MNR', 'WMC', 'DX', 'ACRE', 'GEO', 'RMR', 'STAG', 'PLYM', 'XHR', 'TCI', 'FTHM', 'GTY', 'MSFUT', 'DEA', 'QTS', 'USD', 'LXP', 'FCPT', 'ALEX', 'GNL', 'SNR', 'RVI', 'ADRO', 'MOGA', 'ARI', 'UE', 'NMRK', 'EXPI', 'SITC', 'CIO', 'GRIF', 'LADR', 'JOE', 'HT', 'ROIC', 'NSA', 'FOR', 'STRS', 'TWO', 'CMO', 'FRPH', 'CLNC', 'BRT', 'BHA', 'BRG', 'CWK', 'RLGY', 'CXW', 'BNL', 'RPT', 'KRG', 'ARR', 'WSR', 'IVR', 'NXRT', 'SAFE', 'SBRA', 'WRAP', 'NTST', 'PINE', 'OPI', 'GMRE', 'CIM', 'APTS', 'DRH', 'CLNY', 'CPLG', 'RESI', 'KRON', 'WRE', 'AFIN', 'AKR', 'GPMT', 'AAT', 'SHO', 'MFA', 'DYN', 'CMCT', 'BVH', 'ALX', 'CLDT', 'UMH', 'IRET', 'RC', 'AAIC', 'EARN', 'SKT', 'RDFN', 'UNIT', 'GOOD', 'LUNG', 'MLP', 'KW', 'STAR', 'IRT', 'MAC', 'CLI', 'SRG', 'KREF', 'BXMT', 'TVTX', 'FPI', 'HR', 'TRNO', 'UHT', 'CHMI', 'PTVE', 'GEFB', 'SVC', 'RMAX', 'BFS', 'LAND', 'PCH', 'DHC', 'EPRT', 'WLLBW', 'ASO', 'AHH', 'ADC', 'MMI', 'ANH', 'EGP', 'CTO', 'AJX'}\n",
      "\n",
      "\n",
      "file=stocks-sp500.csv, num_stocks=505, first_5=['A', 'AAL', 'AAP', 'AAPL', 'ABBV']\n",
      "\n",
      "Add following stocks to 'stocks-sectors.csv':\n",
      "{'O', 'REG', 'PEAK', 'EXR', 'SBAC', 'WELL', 'VNO', 'KIM', 'ESS', 'CCI', 'NBL', 'BXP', 'AIV', 'AMT', 'UDR', 'AVB', 'SLG', 'DLR', 'DRE', 'SPG', 'IRM', 'EQIX', 'HST', 'MAA', 'CTL', 'MYL', 'ETFC', 'FRT', 'PSA', 'ARE', 'VTR', 'PLD', 'EQR', 'CBRE', 'WY'}\n",
      "\n",
      "\n",
      "file=stocks-nasdaq100.csv, num_stocks=103, first_5=['ATVI', 'ADBE', 'AMD', 'ALXN', 'ALGN']\n"
     ]
    }
   ],
   "source": [
    "for f in csv_files:\n",
    "    tickers = pd.read_csv(f)[\"Ticker\"].tolist()\n",
    "    print(f\"\\n\\nfile={f}, num_stocks={len(tickers)}, first_5={tickers[:5]}\")\n",
    "    stocks_to_add = set(tickers).difference(all_tickers)\n",
    "    if stocks_to_add:\n",
    "        print(f\"\\nAdd following stocks to 'stocks-sectors.csv':\\n{stocks_to_add}\")"
   ]
  },
  {
   "cell_type": "code",
   "execution_count": 28,
   "metadata": {},
   "outputs": [],
   "source": [
    "file_unknown = \"sector-unknown.csv\""
   ]
  },
  {
   "cell_type": "code",
   "execution_count": 29,
   "metadata": {},
   "outputs": [],
   "source": [
    "s1 = {'BRMK', 'STTK', 'RWT', 'WLLAW', 'GTXI', 'ARL', 'CWENA', 'XTSLA', 'FSP', 'CTT', 'DOC', 'UBA', 'CCCC', 'TRTX', 'HASI', 'PMT', 'PDM', 'CLPR', 'CORR', 'NYMT', 'IIPR', 'ABR', 'NHI', 'ILPT', 'PSB', 'CXP', 'CTRE', 'AVIR', 'CRDA', 'CHCT', 'ORC', 'OLP', 'LTC', 'RPAI', 'RHP', 'INN', 'PEB', 'RLJ', 'MNR', 'WMC', 'DX', 'ACRE', 'GEO', 'RMR', 'STAG', 'PLYM', 'XHR', 'TCI', 'FTHM', 'GTY', 'MSFUT', 'DEA', 'QTS', 'USD', 'LXP', 'FCPT', 'ALEX', 'GNL', 'SNR', 'RVI', 'ADRO', 'MOGA', 'ARI', 'UE', 'NMRK', 'EXPI', 'SITC', 'CIO', 'GRIF', 'LADR', 'JOE', 'HT', 'ROIC', 'NSA', 'FOR', 'STRS', 'TWO', 'CMO', 'FRPH', 'CLNC', 'BRT', 'BHA', 'BRG', 'CWK', 'RLGY', 'CXW', 'BNL', 'RPT', 'KRG', 'ARR', 'WSR', 'IVR', 'NXRT', 'SAFE', 'SBRA', 'WRAP', 'NTST', 'PINE', 'OPI', 'GMRE', 'CIM', 'APTS', 'DRH', 'CLNY', 'CPLG', 'RESI', 'KRON', 'WRE', 'AFIN', 'AKR', 'GPMT', 'AAT', 'SHO', 'MFA', 'DYN', 'CMCT', 'BVH', 'ALX', 'CLDT', 'UMH', 'IRET', 'RC', 'AAIC', 'EARN', 'SKT', 'RDFN', 'UNIT', 'GOOD', 'LUNG', 'MLP', 'KW', 'STAR', 'IRT', 'MAC', 'CLI', 'SRG', 'KREF', 'BXMT', 'TVTX', 'FPI', 'HR', 'TRNO', 'UHT', 'CHMI', 'PTVE', 'GEFB', 'SVC', 'RMAX', 'BFS', 'LAND', 'PCH', 'DHC', 'EPRT', 'WLLBW', 'ASO', 'AHH', 'ADC', 'MMI', 'ANH', 'EGP', 'CTO', 'AJX'}"
   ]
  },
  {
   "cell_type": "code",
   "execution_count": 30,
   "metadata": {},
   "outputs": [],
   "source": [
    "s2 = {'O', 'REG', 'PEAK', 'EXR', 'SBAC', 'WELL', 'VNO', 'KIM', 'ESS', 'CCI', 'NBL', 'BXP', 'AIV', 'AMT', 'UDR', 'AVB', 'SLG', 'DLR', 'DRE', 'SPG', 'IRM', 'EQIX', 'HST', 'MAA', 'CTL', 'MYL', 'ETFC', 'FRT', 'PSA', 'ARE', 'VTR', 'PLD', 'EQR', 'CBRE', 'WY'}"
   ]
  },
  {
   "cell_type": "code",
   "execution_count": 32,
   "metadata": {},
   "outputs": [
    {
     "data": {
      "text/plain": [
       "set()"
      ]
     },
     "execution_count": 32,
     "metadata": {},
     "output_type": "execute_result"
    }
   ],
   "source": [
    "s1.intersection(s2)"
   ]
  },
  {
   "cell_type": "code",
   "execution_count": 37,
   "metadata": {},
   "outputs": [],
   "source": [
    "with open(file_unknown, \"w\") as f:\n",
    "    f.write(\"Ticker\\n\")\n",
    "    f.write(\"\\n\".join(list(s1.union(s2))))"
   ]
  },
  {
   "cell_type": "code",
   "execution_count": null,
   "metadata": {},
   "outputs": [],
   "source": []
  }
 ],
 "metadata": {
  "kernelspec": {
   "display_name": "Python 3",
   "language": "python",
   "name": "python3"
  },
  "language_info": {
   "codemirror_mode": {
    "name": "ipython",
    "version": 3
   },
   "file_extension": ".py",
   "mimetype": "text/x-python",
   "name": "python",
   "nbconvert_exporter": "python",
   "pygments_lexer": "ipython3",
   "version": "3.8.5"
  }
 },
 "nbformat": 4,
 "nbformat_minor": 4
}

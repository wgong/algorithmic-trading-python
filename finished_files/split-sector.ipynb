{
 "cells": [
  {
   "cell_type": "code",
   "execution_count": 1,
   "metadata": {},
   "outputs": [],
   "source": [
    "import pandas as pd"
   ]
  },
  {
   "cell_type": "code",
   "execution_count": 2,
   "metadata": {},
   "outputs": [],
   "source": [
    "df = pd.read_csv(\"sector_stocks.csv\")"
   ]
  },
  {
   "cell_type": "code",
   "execution_count": 3,
   "metadata": {},
   "outputs": [
    {
     "data": {
      "text/plain": [
       "(4990, 3)"
      ]
     },
     "execution_count": 3,
     "metadata": {},
     "output_type": "execute_result"
    }
   ],
   "source": [
    "df.shape"
   ]
  },
  {
   "cell_type": "code",
   "execution_count": 4,
   "metadata": {},
   "outputs": [
    {
     "data": {
      "text/html": [
       "<div>\n",
       "<style scoped>\n",
       "    .dataframe tbody tr th:only-of-type {\n",
       "        vertical-align: middle;\n",
       "    }\n",
       "\n",
       "    .dataframe tbody tr th {\n",
       "        vertical-align: top;\n",
       "    }\n",
       "\n",
       "    .dataframe thead th {\n",
       "        text-align: right;\n",
       "    }\n",
       "</style>\n",
       "<table border=\"1\" class=\"dataframe\">\n",
       "  <thead>\n",
       "    <tr style=\"text-align: right;\">\n",
       "      <th></th>\n",
       "      <th>Ticker</th>\n",
       "      <th>Sector</th>\n",
       "      <th>Company</th>\n",
       "    </tr>\n",
       "  </thead>\n",
       "  <tbody>\n",
       "    <tr>\n",
       "      <th>0</th>\n",
       "      <td>ASIX</td>\n",
       "      <td>basic-materials</td>\n",
       "      <td>AdvanSix Inc</td>\n",
       "    </tr>\n",
       "    <tr>\n",
       "      <th>1</th>\n",
       "      <td>AEM</td>\n",
       "      <td>basic-materials</td>\n",
       "      <td>Agnico Eagle Mines Limited</td>\n",
       "    </tr>\n",
       "    <tr>\n",
       "      <th>2</th>\n",
       "      <td>APD</td>\n",
       "      <td>basic-materials</td>\n",
       "      <td>Air Products and Chemicals, Inc</td>\n",
       "    </tr>\n",
       "    <tr>\n",
       "      <th>3</th>\n",
       "      <td>AGI</td>\n",
       "      <td>basic-materials</td>\n",
       "      <td>Alamos Gold Inc</td>\n",
       "    </tr>\n",
       "    <tr>\n",
       "      <th>4</th>\n",
       "      <td>ALB</td>\n",
       "      <td>basic-materials</td>\n",
       "      <td>Albemarle Corporation</td>\n",
       "    </tr>\n",
       "    <tr>\n",
       "      <th>...</th>\n",
       "      <td>...</td>\n",
       "      <td>...</td>\n",
       "      <td>...</td>\n",
       "    </tr>\n",
       "    <tr>\n",
       "      <th>4985</th>\n",
       "      <td>UGI</td>\n",
       "      <td>utilities</td>\n",
       "      <td>UGI Corporation</td>\n",
       "    </tr>\n",
       "    <tr>\n",
       "      <th>4986</th>\n",
       "      <td>UTL</td>\n",
       "      <td>utilities</td>\n",
       "      <td>Unitil Corporation</td>\n",
       "    </tr>\n",
       "    <tr>\n",
       "      <th>4987</th>\n",
       "      <td>VST</td>\n",
       "      <td>utilities</td>\n",
       "      <td>Vistra Energy Corp</td>\n",
       "    </tr>\n",
       "    <tr>\n",
       "      <th>4988</th>\n",
       "      <td>WEC</td>\n",
       "      <td>utilities</td>\n",
       "      <td>WEC Energy Group, Inc</td>\n",
       "    </tr>\n",
       "    <tr>\n",
       "      <th>4989</th>\n",
       "      <td>XEL</td>\n",
       "      <td>utilities</td>\n",
       "      <td>Xcel Energy Inc</td>\n",
       "    </tr>\n",
       "  </tbody>\n",
       "</table>\n",
       "<p>4990 rows × 3 columns</p>\n",
       "</div>"
      ],
      "text/plain": [
       "     Ticker           Sector                          Company\n",
       "0      ASIX  basic-materials                     AdvanSix Inc\n",
       "1       AEM  basic-materials       Agnico Eagle Mines Limited\n",
       "2       APD  basic-materials  Air Products and Chemicals, Inc\n",
       "3       AGI  basic-materials                  Alamos Gold Inc\n",
       "4       ALB  basic-materials            Albemarle Corporation\n",
       "...     ...              ...                              ...\n",
       "4985    UGI        utilities                  UGI Corporation\n",
       "4986    UTL        utilities               Unitil Corporation\n",
       "4987    VST        utilities               Vistra Energy Corp\n",
       "4988    WEC        utilities            WEC Energy Group, Inc\n",
       "4989    XEL        utilities                  Xcel Energy Inc\n",
       "\n",
       "[4990 rows x 3 columns]"
      ]
     },
     "execution_count": 4,
     "metadata": {},
     "output_type": "execute_result"
    }
   ],
   "source": [
    "df"
   ]
  },
  {
   "cell_type": "code",
   "execution_count": 5,
   "metadata": {},
   "outputs": [],
   "source": [
    "sectors = df.Sector.unique().tolist()"
   ]
  },
  {
   "cell_type": "code",
   "execution_count": 6,
   "metadata": {},
   "outputs": [
    {
     "data": {
      "text/plain": [
       "['basic-materials',\n",
       " 'communication-services',\n",
       " 'consumer-cyclical',\n",
       " 'consumer-defensive',\n",
       " 'energy',\n",
       " 'financial-services',\n",
       " 'healthcare',\n",
       " 'industrials',\n",
       " 'technology',\n",
       " 'utilities']"
      ]
     },
     "execution_count": 6,
     "metadata": {},
     "output_type": "execute_result"
    }
   ],
   "source": [
    "sectors"
   ]
  },
  {
   "cell_type": "code",
   "execution_count": 7,
   "metadata": {},
   "outputs": [
    {
     "name": "stderr",
     "output_type": "stream",
     "text": [
      "/home/wengong/.local/lib/python3.8/site-packages/pandas/core/frame.py:4167: SettingWithCopyWarning: \n",
      "A value is trying to be set on a copy of a slice from a DataFrame\n",
      "\n",
      "See the caveats in the documentation: https://pandas.pydata.org/pandas-docs/stable/user_guide/indexing.html#returning-a-view-versus-a-copy\n",
      "  return super().drop(\n"
     ]
    }
   ],
   "source": [
    "for sec in sectors:\n",
    "    df1 = df[df[\"Sector\"] == sec]\n",
    "    df1.drop(\"Sector\", axis=1, inplace=True)\n",
    "    df1.to_csv(f\"sector-{sec}.csv\", index=False)"
   ]
  },
  {
   "cell_type": "code",
   "execution_count": 8,
   "metadata": {},
   "outputs": [
    {
     "data": {
      "text/plain": [
       "financial-services        1089\n",
       "healthcare                1053\n",
       "technology                 630\n",
       "industrials                595\n",
       "consumer-cyclical          492\n",
       "energy                     307\n",
       "communication-services     269\n",
       "basic-materials            242\n",
       "consumer-defensive         213\n",
       "utilities                  100\n",
       "Name: Sector, dtype: int64"
      ]
     },
     "execution_count": 8,
     "metadata": {},
     "output_type": "execute_result"
    }
   ],
   "source": [
    "df.Sector.value_counts()"
   ]
  },
  {
   "cell_type": "code",
   "execution_count": null,
   "metadata": {},
   "outputs": [],
   "source": []
  }
 ],
 "metadata": {
  "kernelspec": {
   "display_name": "Python 3",
   "language": "python",
   "name": "python3"
  },
  "language_info": {
   "codemirror_mode": {
    "name": "ipython",
    "version": 3
   },
   "file_extension": ".py",
   "mimetype": "text/x-python",
   "name": "python",
   "nbconvert_exporter": "python",
   "pygments_lexer": "ipython3",
   "version": "3.8.5"
  }
 },
 "nbformat": 4,
 "nbformat_minor": 4
}

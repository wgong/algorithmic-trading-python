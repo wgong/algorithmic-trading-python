{
 "cells": [
  {
   "cell_type": "markdown",
   "metadata": {},
   "source": [
    "# Yahoo! Finance market data downloader\n",
    "\n",
    "- [Intro](https://towardsdatascience.com/a-comprehensive-guide-to-downloading-stock-prices-in-python-2cd93ff821d4)\n",
    "\n",
    "\n",
    "- [yfinance](https://github.com/ranaroussi/yfinance)\n",
    "\n",
    "Very easy to use\n",
    "\n",
    "- [yahoofinancials](https://github.com/JECSand/yahoofinancials)\n",
    "\n",
    "A python module that returns stock, cryptocurrency, forex, mutual fund, commodity futures, ETF, and US Treasury financial data from Yahoo Finance.\n",
    "\n",
    "The package depends on beautifulsoup4 and pytz to work\n"
   ]
  },
  {
   "cell_type": "markdown",
   "metadata": {},
   "source": [
    "https://github.com/engineertree5/tree5_treehouse/blob/master/tree_types/100/pyetf.py"
   ]
  },
  {
   "cell_type": "code",
   "execution_count": 3,
   "metadata": {},
   "outputs": [
    {
     "name": "stdout",
     "output_type": "stream",
     "text": [
      "Collecting pandas_datareader\n",
      "  Using cached pandas_datareader-0.9.0-py3-none-any.whl (107 kB)\n",
      "Requirement already satisfied: pandas>=0.23 in /home/wengong/.local/lib/python3.8/site-packages (from pandas_datareader) (1.1.4)\n",
      "Requirement already satisfied: requests>=2.19.0 in /usr/lib/python3/dist-packages (from pandas_datareader) (2.22.0)\n",
      "Requirement already satisfied: lxml in /home/wengong/.local/lib/python3.8/site-packages (from pandas_datareader) (4.6.1)\n",
      "Requirement already satisfied: numpy>=1.15.4 in /home/wengong/.local/lib/python3.8/site-packages (from pandas>=0.23->pandas_datareader) (1.19.4)\n",
      "Requirement already satisfied: pytz>=2017.2 in /usr/lib/python3/dist-packages (from pandas>=0.23->pandas_datareader) (2019.3)\n",
      "Requirement already satisfied: python-dateutil>=2.7.3 in /usr/lib/python3/dist-packages (from pandas>=0.23->pandas_datareader) (2.7.3)\n",
      "Installing collected packages: pandas-datareader\n",
      "Successfully installed pandas-datareader-0.9.0\n"
     ]
    }
   ],
   "source": [
    "!pip3 install pandas_datareader"
   ]
  },
  {
   "cell_type": "code",
   "execution_count": 4,
   "metadata": {},
   "outputs": [],
   "source": [
    "import yfinance as yf # used to pull stock data, thanks yahoo\n",
    "import pandas as pd # used to handle large datasets from stock market\n",
    "import pandas_datareader.data as web # used to pull in data from the web"
   ]
  },
  {
   "cell_type": "code",
   "execution_count": 10,
   "metadata": {},
   "outputs": [],
   "source": [
    "import datetime as dt\n",
    "import finplot as fplt "
   ]
  },
  {
   "cell_type": "code",
   "execution_count": 5,
   "metadata": {},
   "outputs": [],
   "source": [
    "symbol = \"NK\"\n",
    "yticker = yf.Ticker(symbol)"
   ]
  },
  {
   "cell_type": "code",
   "execution_count": 6,
   "metadata": {},
   "outputs": [],
   "source": [
    "df = yticker.history(\"365d\")"
   ]
  },
  {
   "cell_type": "code",
   "execution_count": 7,
   "metadata": {},
   "outputs": [
    {
     "data": {
      "text/plain": [
       "(365, 7)"
      ]
     },
     "execution_count": 7,
     "metadata": {},
     "output_type": "execute_result"
    }
   ],
   "source": [
    "df.shape"
   ]
  },
  {
   "cell_type": "code",
   "execution_count": 13,
   "metadata": {},
   "outputs": [
    {
     "data": {
      "text/html": [
       "<div>\n",
       "<style scoped>\n",
       "    .dataframe tbody tr th:only-of-type {\n",
       "        vertical-align: middle;\n",
       "    }\n",
       "\n",
       "    .dataframe tbody tr th {\n",
       "        vertical-align: top;\n",
       "    }\n",
       "\n",
       "    .dataframe thead th {\n",
       "        text-align: right;\n",
       "    }\n",
       "</style>\n",
       "<table border=\"1\" class=\"dataframe\">\n",
       "  <thead>\n",
       "    <tr style=\"text-align: right;\">\n",
       "      <th></th>\n",
       "      <th>Open</th>\n",
       "      <th>High</th>\n",
       "      <th>Low</th>\n",
       "      <th>Close</th>\n",
       "      <th>Volume</th>\n",
       "      <th>Dividends</th>\n",
       "      <th>Stock Splits</th>\n",
       "    </tr>\n",
       "    <tr>\n",
       "      <th>Date</th>\n",
       "      <th></th>\n",
       "      <th></th>\n",
       "      <th></th>\n",
       "      <th></th>\n",
       "      <th></th>\n",
       "      <th></th>\n",
       "      <th></th>\n",
       "    </tr>\n",
       "  </thead>\n",
       "  <tbody>\n",
       "    <tr>\n",
       "      <th>2019-07-18</th>\n",
       "      <td>1.29</td>\n",
       "      <td>1.290</td>\n",
       "      <td>1.200</td>\n",
       "      <td>1.26</td>\n",
       "      <td>106700</td>\n",
       "      <td>0</td>\n",
       "      <td>0</td>\n",
       "    </tr>\n",
       "    <tr>\n",
       "      <th>2019-07-19</th>\n",
       "      <td>1.28</td>\n",
       "      <td>1.285</td>\n",
       "      <td>1.190</td>\n",
       "      <td>1.23</td>\n",
       "      <td>119000</td>\n",
       "      <td>0</td>\n",
       "      <td>0</td>\n",
       "    </tr>\n",
       "    <tr>\n",
       "      <th>2019-07-22</th>\n",
       "      <td>1.22</td>\n",
       "      <td>1.270</td>\n",
       "      <td>1.199</td>\n",
       "      <td>1.25</td>\n",
       "      <td>147700</td>\n",
       "      <td>0</td>\n",
       "      <td>0</td>\n",
       "    </tr>\n",
       "    <tr>\n",
       "      <th>2019-07-23</th>\n",
       "      <td>1.25</td>\n",
       "      <td>1.330</td>\n",
       "      <td>1.203</td>\n",
       "      <td>1.27</td>\n",
       "      <td>431600</td>\n",
       "      <td>0</td>\n",
       "      <td>0</td>\n",
       "    </tr>\n",
       "    <tr>\n",
       "      <th>2019-07-24</th>\n",
       "      <td>1.28</td>\n",
       "      <td>1.284</td>\n",
       "      <td>1.180</td>\n",
       "      <td>1.21</td>\n",
       "      <td>235300</td>\n",
       "      <td>0</td>\n",
       "      <td>0</td>\n",
       "    </tr>\n",
       "  </tbody>\n",
       "</table>\n",
       "</div>"
      ],
      "text/plain": [
       "            Open   High    Low  Close  Volume  Dividends  Stock Splits\n",
       "Date                                                                  \n",
       "2019-07-18  1.29  1.290  1.200   1.26  106700          0             0\n",
       "2019-07-19  1.28  1.285  1.190   1.23  119000          0             0\n",
       "2019-07-22  1.22  1.270  1.199   1.25  147700          0             0\n",
       "2019-07-23  1.25  1.330  1.203   1.27  431600          0             0\n",
       "2019-07-24  1.28  1.284  1.180   1.21  235300          0             0"
      ]
     },
     "execution_count": 13,
     "metadata": {},
     "output_type": "execute_result"
    }
   ],
   "source": [
    "df.head()"
   ]
  },
  {
   "cell_type": "code",
   "execution_count": 14,
   "metadata": {},
   "outputs": [],
   "source": [
    "df_inv = df.sort_index(axis=0, ascending=False)"
   ]
  },
  {
   "cell_type": "code",
   "execution_count": 15,
   "metadata": {},
   "outputs": [
    {
     "data": {
      "text/html": [
       "<div>\n",
       "<style scoped>\n",
       "    .dataframe tbody tr th:only-of-type {\n",
       "        vertical-align: middle;\n",
       "    }\n",
       "\n",
       "    .dataframe tbody tr th {\n",
       "        vertical-align: top;\n",
       "    }\n",
       "\n",
       "    .dataframe thead th {\n",
       "        text-align: right;\n",
       "    }\n",
       "</style>\n",
       "<table border=\"1\" class=\"dataframe\">\n",
       "  <thead>\n",
       "    <tr style=\"text-align: right;\">\n",
       "      <th></th>\n",
       "      <th>Open</th>\n",
       "      <th>High</th>\n",
       "      <th>Low</th>\n",
       "      <th>Close</th>\n",
       "      <th>Volume</th>\n",
       "      <th>Dividends</th>\n",
       "      <th>Stock Splits</th>\n",
       "    </tr>\n",
       "    <tr>\n",
       "      <th>Date</th>\n",
       "      <th></th>\n",
       "      <th></th>\n",
       "      <th></th>\n",
       "      <th></th>\n",
       "      <th></th>\n",
       "      <th></th>\n",
       "      <th></th>\n",
       "    </tr>\n",
       "  </thead>\n",
       "  <tbody>\n",
       "    <tr>\n",
       "      <th>2020-12-24</th>\n",
       "      <td>17.400000</td>\n",
       "      <td>18.160000</td>\n",
       "      <td>15.710000</td>\n",
       "      <td>16.010000</td>\n",
       "      <td>1673500</td>\n",
       "      <td>0</td>\n",
       "      <td>0</td>\n",
       "    </tr>\n",
       "    <tr>\n",
       "      <th>2020-12-23</th>\n",
       "      <td>18.396999</td>\n",
       "      <td>18.600000</td>\n",
       "      <td>16.799999</td>\n",
       "      <td>17.610001</td>\n",
       "      <td>2781000</td>\n",
       "      <td>0</td>\n",
       "      <td>0</td>\n",
       "    </tr>\n",
       "    <tr>\n",
       "      <th>2020-12-22</th>\n",
       "      <td>15.150000</td>\n",
       "      <td>19.370001</td>\n",
       "      <td>14.040000</td>\n",
       "      <td>17.610001</td>\n",
       "      <td>15873400</td>\n",
       "      <td>0</td>\n",
       "      <td>0</td>\n",
       "    </tr>\n",
       "    <tr>\n",
       "      <th>2020-12-21</th>\n",
       "      <td>13.014000</td>\n",
       "      <td>17.790001</td>\n",
       "      <td>11.820000</td>\n",
       "      <td>16.020000</td>\n",
       "      <td>37616700</td>\n",
       "      <td>0</td>\n",
       "      <td>0</td>\n",
       "    </tr>\n",
       "    <tr>\n",
       "      <th>2020-12-18</th>\n",
       "      <td>10.780000</td>\n",
       "      <td>11.040000</td>\n",
       "      <td>10.230000</td>\n",
       "      <td>10.260000</td>\n",
       "      <td>2504200</td>\n",
       "      <td>0</td>\n",
       "      <td>0</td>\n",
       "    </tr>\n",
       "  </tbody>\n",
       "</table>\n",
       "</div>"
      ],
      "text/plain": [
       "                 Open       High        Low      Close    Volume  Dividends  \\\n",
       "Date                                                                          \n",
       "2020-12-24  17.400000  18.160000  15.710000  16.010000   1673500          0   \n",
       "2020-12-23  18.396999  18.600000  16.799999  17.610001   2781000          0   \n",
       "2020-12-22  15.150000  19.370001  14.040000  17.610001  15873400          0   \n",
       "2020-12-21  13.014000  17.790001  11.820000  16.020000  37616700          0   \n",
       "2020-12-18  10.780000  11.040000  10.230000  10.260000   2504200          0   \n",
       "\n",
       "            Stock Splits  \n",
       "Date                      \n",
       "2020-12-24             0  \n",
       "2020-12-23             0  \n",
       "2020-12-22             0  \n",
       "2020-12-21             0  \n",
       "2020-12-18             0  "
      ]
     },
     "execution_count": 15,
     "metadata": {},
     "output_type": "execute_result"
    }
   ],
   "source": [
    "df_inv.head()"
   ]
  },
  {
   "cell_type": "code",
   "execution_count": 11,
   "metadata": {},
   "outputs": [],
   "source": [
    "today = dt.date.today()\n",
    "d_dash = today.strftime(\"%Y-%m-%d\")"
   ]
  },
  {
   "cell_type": "code",
   "execution_count": 12,
   "metadata": {},
   "outputs": [
    {
     "data": {
      "text/plain": [
       "'2020-12-25'"
      ]
     },
     "execution_count": 12,
     "metadata": {},
     "output_type": "execute_result"
    }
   ],
   "source": [
    "d_dash"
   ]
  },
  {
   "cell_type": "code",
   "execution_count": 21,
   "metadata": {},
   "outputs": [],
   "source": [
    "is_market_open = not df.loc[df.index == d_dash].empty"
   ]
  },
  {
   "cell_type": "code",
   "execution_count": 22,
   "metadata": {},
   "outputs": [
    {
     "data": {
      "text/plain": [
       "False"
      ]
     },
     "execution_count": 22,
     "metadata": {},
     "output_type": "execute_result"
    }
   ],
   "source": [
    "is_market_open"
   ]
  },
  {
   "cell_type": "code",
   "execution_count": 26,
   "metadata": {},
   "outputs": [
    {
     "name": "stdout",
     "output_type": "stream",
     "text": [
      "zip\n",
      "sector\n",
      "fullTimeEmployees\n",
      "longBusinessSummary\n",
      "city\n",
      "phone\n",
      "state\n",
      "country\n",
      "companyOfficers\n",
      "website\n",
      "maxAge\n",
      "address1\n",
      "industry\n",
      "previousClose\n",
      "regularMarketOpen\n",
      "twoHundredDayAverage\n",
      "trailingAnnualDividendYield\n",
      "payoutRatio\n",
      "volume24Hr\n",
      "regularMarketDayHigh\n",
      "navPrice\n",
      "averageDailyVolume10Day\n",
      "totalAssets\n",
      "regularMarketPreviousClose\n",
      "fiftyDayAverage\n",
      "trailingAnnualDividendRate\n",
      "open\n",
      "toCurrency\n",
      "averageVolume10days\n",
      "expireDate\n",
      "yield\n",
      "algorithm\n",
      "dividendRate\n",
      "exDividendDate\n",
      "beta\n",
      "circulatingSupply\n",
      "startDate\n",
      "regularMarketDayLow\n",
      "priceHint\n",
      "currency\n",
      "regularMarketVolume\n",
      "lastMarket\n",
      "maxSupply\n",
      "openInterest\n",
      "marketCap\n",
      "volumeAllCurrencies\n",
      "strikePrice\n",
      "averageVolume\n",
      "priceToSalesTrailing12Months\n",
      "dayLow\n",
      "ask\n",
      "ytdReturn\n",
      "askSize\n",
      "volume\n",
      "fiftyTwoWeekHigh\n",
      "forwardPE\n",
      "fromCurrency\n",
      "fiveYearAvgDividendYield\n",
      "fiftyTwoWeekLow\n",
      "bid\n",
      "tradeable\n",
      "dividendYield\n",
      "bidSize\n",
      "dayHigh\n",
      "exchange\n",
      "shortName\n",
      "longName\n",
      "exchangeTimezoneName\n",
      "exchangeTimezoneShortName\n",
      "isEsgPopulated\n",
      "gmtOffSetMilliseconds\n",
      "quoteType\n",
      "symbol\n",
      "messageBoardId\n",
      "market\n",
      "annualHoldingsTurnover\n",
      "enterpriseToRevenue\n",
      "beta3Year\n",
      "profitMargins\n",
      "enterpriseToEbitda\n",
      "52WeekChange\n",
      "morningStarRiskRating\n",
      "forwardEps\n",
      "revenueQuarterlyGrowth\n",
      "sharesOutstanding\n",
      "fundInceptionDate\n",
      "annualReportExpenseRatio\n",
      "bookValue\n",
      "sharesShort\n",
      "sharesPercentSharesOut\n",
      "fundFamily\n",
      "lastFiscalYearEnd\n",
      "heldPercentInstitutions\n",
      "netIncomeToCommon\n",
      "trailingEps\n",
      "lastDividendValue\n",
      "SandP52WeekChange\n",
      "priceToBook\n",
      "heldPercentInsiders\n",
      "nextFiscalYearEnd\n",
      "mostRecentQuarter\n",
      "shortRatio\n",
      "sharesShortPreviousMonthDate\n",
      "floatShares\n",
      "enterpriseValue\n",
      "threeYearAverageReturn\n",
      "lastSplitDate\n",
      "lastSplitFactor\n",
      "legalType\n",
      "lastDividendDate\n",
      "morningStarOverallRating\n",
      "earningsQuarterlyGrowth\n",
      "dateShortInterest\n",
      "pegRatio\n",
      "lastCapGain\n",
      "shortPercentOfFloat\n",
      "sharesShortPriorMonth\n",
      "impliedSharesOutstanding\n",
      "category\n",
      "fiveYearAverageReturn\n",
      "regularMarketPrice\n",
      "logo_url\n"
     ]
    }
   ],
   "source": [
    "print(\"\\n\".join(yticker.info.keys()))"
   ]
  },
  {
   "cell_type": "code",
   "execution_count": 27,
   "metadata": {},
   "outputs": [
    {
     "name": "stdout",
     "output_type": "stream",
     "text": [
      "52WeekChange : 3.2807488\n",
      "SandP52WeekChange : 0.14291275\n",
      "address1 : 3530 John Hopkins Court\n",
      "algorithm : None\n",
      "annualHoldingsTurnover : None\n",
      "annualReportExpenseRatio : None\n",
      "ask : 16.28\n",
      "askSize : 3000\n",
      "averageDailyVolume10Day : 7907550\n",
      "averageVolume : 1870679\n",
      "averageVolume10days : 7907550\n",
      "beta : 2.51916\n",
      "beta3Year : None\n",
      "bid : 15.91\n",
      "bidSize : 1300\n",
      "bookValue : 1.369\n",
      "category : None\n",
      "circulatingSupply : None\n",
      "city : San Diego\n",
      "companyOfficers : []\n",
      "country : United States\n",
      "currency : USD\n",
      "dateShortInterest : 1607990400\n",
      "dayHigh : 18.16\n",
      "dayLow : 15.71\n",
      "dividendRate : None\n",
      "dividendYield : None\n",
      "earningsQuarterlyGrowth : None\n",
      "enterpriseToEbitda : -24.582\n",
      "enterpriseToRevenue : 16829.568\n",
      "enterpriseValue : 1666127232\n",
      "exDividendDate : None\n",
      "exchange : NMS\n",
      "exchangeTimezoneName : America/New_York\n",
      "exchangeTimezoneShortName : EST\n",
      "expireDate : None\n",
      "fiftyDayAverage : 10.106857\n",
      "fiftyTwoWeekHigh : 19.37\n",
      "fiftyTwoWeekLow : 2.52\n",
      "fiveYearAverageReturn : None\n",
      "fiveYearAvgDividendYield : None\n",
      "floatShares : 40361691\n",
      "forwardEps : -0.86\n",
      "forwardPE : -18.61628\n",
      "fromCurrency : None\n",
      "fullTimeEmployees : 160\n",
      "fundFamily : None\n",
      "fundInceptionDate : None\n",
      "gmtOffSetMilliseconds : -18000000\n",
      "heldPercentInsiders : 0.67977995\n",
      "heldPercentInstitutions : 0.097449996\n",
      "impliedSharesOutstanding : None\n",
      "industry : Biotechnology\n",
      "isEsgPopulated : False\n",
      "lastCapGain : None\n",
      "lastDividendDate : None\n",
      "lastDividendValue : None\n",
      "lastFiscalYearEnd : 1577750400\n",
      "lastMarket : None\n",
      "lastSplitDate : 1345161600\n",
      "lastSplitFactor : 8:1\n",
      "legalType : None\n",
      "logo_url : https://logo.clearbit.com/nantkwest.com\n",
      "longBusinessSummary : NantKwest, Inc., a clinical-stage immunotherapy company, develops immunotherapeutic treatments for cancer and viral infectious diseases in the United States. The company develops activated natural killer (aNK) cell, a natural killer cell-line and genetically modified derivative capable of killing cancer and virally infected cells; and Nant cancer vaccine, a personalized therapy that utilizes its off-the-shelf natural killer cells. It is also developing high-affinity natural killer (haNK) product candidates primarily for the treatment of various cancers; and tank and t-haNK product candidates to treat solid tumors. NantKwest, Inc. has a co-development agreement with Altor BioScience, LLC to collaborate on the development of therapeutic applications combining the company's proprietary natural killer cells with Altor's N-801 and/or N-803 products; collaboration with Be The Match BioTherapies for the development of cell therapy to prevent COVID-19 deaths; and strategic alliance with Immunitybio. It also has a collaboration with CBR Systems, Inc. to develop a COVID-19 treatment leveraging newborn stem cells. The company was formerly known as Conkwest, Inc. and changed its name to NantKwest, Inc. in July 2015. NantKwest, Inc. was founded in 2002 and is headquartered in San Diego, California.\n",
      "longName : NantKwest, Inc.\n",
      "market : us_market\n",
      "marketCap : 1738637952\n",
      "maxAge : 1\n",
      "maxSupply : None\n",
      "messageBoardId : finmb_262241549\n",
      "morningStarOverallRating : None\n",
      "morningStarRiskRating : None\n",
      "mostRecentQuarter : 1601424000\n",
      "navPrice : None\n",
      "netIncomeToCommon : -75892000\n",
      "nextFiscalYearEnd : 1640908800\n",
      "open : 17.4\n",
      "openInterest : None\n",
      "payoutRatio : 0\n",
      "pegRatio : 12.23\n",
      "phone : 858 633 0300\n",
      "previousClose : 17.61\n",
      "priceHint : 2\n",
      "priceToBook : 11.694668\n",
      "priceToSalesTrailing12Months : 17562\n",
      "profitMargins : 0\n",
      "quoteType : EQUITY\n",
      "regularMarketDayHigh : 18.16\n",
      "regularMarketDayLow : 15.71\n",
      "regularMarketOpen : 17.4\n",
      "regularMarketPreviousClose : 17.61\n",
      "regularMarketPrice : 17.4\n",
      "regularMarketVolume : 1674791\n",
      "revenueQuarterlyGrowth : None\n",
      "sector : Healthcare\n",
      "sharesOutstanding : 108597000\n",
      "sharesPercentSharesOut : 0.0631\n",
      "sharesShort : 6850450\n",
      "sharesShortPreviousMonthDate : 1605225600\n",
      "sharesShortPriorMonth : 6976331\n",
      "shortName : NantKwest, Inc.\n",
      "shortPercentOfFloat : 0.1776\n",
      "shortRatio : 6.26\n",
      "startDate : None\n",
      "state : CA\n",
      "strikePrice : None\n",
      "symbol : NK\n",
      "threeYearAverageReturn : None\n",
      "toCurrency : None\n",
      "totalAssets : None\n",
      "tradeable : False\n",
      "trailingAnnualDividendRate : None\n",
      "trailingAnnualDividendYield : None\n",
      "trailingEps : -0.751\n",
      "twoHundredDayAverage : 9.573014\n",
      "volume : 1674791\n",
      "volume24Hr : None\n",
      "volumeAllCurrencies : None\n",
      "website : http://www.nantkwest.com\n",
      "yield : None\n",
      "ytdReturn : None\n",
      "zip : 92121\n"
     ]
    }
   ],
   "source": [
    "for k in sorted(yticker.info.keys()):\n",
    "    print(f\"{k} : {yticker.info[k]}\")"
   ]
  },
  {
   "cell_type": "code",
   "execution_count": 32,
   "metadata": {},
   "outputs": [],
   "source": [
    "import json\n",
    "with open(f\"yfinfo_{symbol}.json\", \"w\") as f:\n",
    "    f.write(json.dumps(yticker.info))"
   ]
  },
  {
   "cell_type": "code",
   "execution_count": 33,
   "metadata": {},
   "outputs": [
    {
     "name": "stdout",
     "output_type": "stream",
     "text": [
      "yfinfo_NK.json\r\n"
     ]
    }
   ],
   "source": [
    "!ls yfinfo_NK.json"
   ]
  },
  {
   "cell_type": "code",
   "execution_count": 37,
   "metadata": {},
   "outputs": [],
   "source": [
    "key_attribs = [\n",
    "    \"symbol\", \"sector\", \"industry\", \"shortName\",\n",
    "    \"website\", \"phone\", \"address1\", \"city\", \"state\", \"zip\", \"country\", \n",
    "    \"fullTimeEmployees\", \n",
    "    \"logo_url\", \n",
    "    \"longBusinessSummary\",\n",
    "    \"dividendYield\",\n",
    "    \"forwardPE\", \"forwardEps\", \"trailingEps\", \n",
    "    \"bookValue\", \n",
    "    \"sharesOutstanding\", \"sharesShort\"\n",
    "]"
   ]
  },
  {
   "cell_type": "code",
   "execution_count": 50,
   "metadata": {},
   "outputs": [
    {
     "name": "stdout",
     "output_type": "stream",
     "text": [
      "symbol = NK\n",
      "sector = Healthcare\n",
      "industry = Biotechnology\n",
      "shortName = NantKwest, Inc.\n",
      "website = http://www.nantkwest.com\n",
      "phone = 858 633 0300\n",
      "address1 = 3530 John Hopkins Court\n",
      "city = San Diego\n",
      "state = CA\n",
      "zip = 92121\n",
      "country = United States\n",
      "fullTimeEmployees = 160\n",
      "logo_url = https://logo.clearbit.com/nantkwest.com\n",
      "longBusinessSummary = NantKwest, Inc., a clinical-stage immunotherapy company, develops immunotherapeutic treatments for cancer and viral infectious diseases in the United States. The company develops activated natural killer (aNK) cell, a natural killer cell-line and genetically modified derivative capable of killing cancer and virally infected cells; and Nant cancer vaccine, a personalized therapy that utilizes its off-the-shelf natural killer cells. It is also developing high-affinity natural killer (haNK) product candidates primarily for the treatment of various cancers; and tank and t-haNK product candidates to treat solid tumors. NantKwest, Inc. has a co-development agreement with Altor BioScience, LLC to collaborate on the development of therapeutic applications combining the company's proprietary natural killer cells with Altor's N-801 and/or N-803 products; collaboration with Be The Match BioTherapies for the development of cell therapy to prevent COVID-19 deaths; and strategic alliance with Immunitybio. It also has a collaboration with CBR Systems, Inc. to develop a COVID-19 treatment leveraging newborn stem cells. The company was formerly known as Conkwest, Inc. and changed its name to NantKwest, Inc. in July 2015. NantKwest, Inc. was founded in 2002 and is headquartered in San Diego, California.\n",
      "dividendYield = None\n",
      "forwardPE = -18.61628\n",
      "forwardEps = -0.86\n",
      "trailingEps = -0.751\n",
      "bookValue = 1.369\n",
      "sharesOutstanding = 108597000\n",
      "sharesShort = 6850450\n"
     ]
    }
   ],
   "source": [
    "for k in key_attribs:\n",
    "    print(f\"{k} = {yticker.info[k]}\")"
   ]
  },
  {
   "cell_type": "code",
   "execution_count": 52,
   "metadata": {},
   "outputs": [],
   "source": [
    "column_types = {\n",
    "    \"symbol\": \"character varying \", \n",
    "    \"sector\": \"character varying \",\n",
    "    \"industry\": \"character varying \", \n",
    "    \"name\": \"character varying \",\n",
    "    \"comments\": \"character varying \",\n",
    "    \"website\": \"character varying \", \n",
    "    \"num_emp\": \"integer\", \n",
    "    \"div_yield\": \"numeric\",\n",
    "    \"fpe\": \"numeric\", \n",
    "    \"feps\": \"numeric\", \n",
    "    \"teps\": \"numeric\", \n",
    "    \"book_val\": \"numeric\", \n",
    "    \"shares\": \"integer\", \n",
    "    \"shares_short\": \"integer\",\n",
    "    \"profile\": \"text\",\n",
    "    \"phone\": \"character varying \", \n",
    "    \"address1\": \"character varying \", \n",
    "    \"city\": \"character varying \", \n",
    "    \"state\": \"character varying \", \n",
    "    \"zip\": \"character varying \", \n",
    "    \"country\": \"character varying \", \n",
    "    \"logo_url\": \"character varying \"\n",
    "}\n"
   ]
  },
  {
   "cell_type": "code",
   "execution_count": 60,
   "metadata": {},
   "outputs": [],
   "source": [
    "table_name = \"ticker\"\n",
    "ddl_str = f\"\"\"CREATE TABLE public.{table_name} (\n",
    "\"\"\"\n",
    "ncols = len(column_types.keys())\n",
    "i = 0\n",
    "for k,v in column_types.items():\n",
    "    i += 1\n",
    "    ddl_str += \"\\t\"\n",
    "    if k == \"symbol\":\n",
    "        ddl_str += f\"{k}  {v} NOT NULL,\"\n",
    "    else:\n",
    "        ddl_str += f\"{k}  {v},\"\n",
    "    ddl_str += \"\\n\"\n",
    "\n",
    "ddl_str += f\"\\tCONSTRAINT {table_name}_pkey PRIMARY KEY (symbol)\\n\"\n",
    "ddl_str += \")\\n\""
   ]
  },
  {
   "cell_type": "code",
   "execution_count": 61,
   "metadata": {},
   "outputs": [
    {
     "name": "stdout",
     "output_type": "stream",
     "text": [
      "CREATE TABLE public.ticker (\n",
      "\tsymbol  character varying  NOT NULL,\n",
      "\tsector  character varying ,\n",
      "\tindustry  character varying ,\n",
      "\tname  character varying ,\n",
      "\tcomments  character varying ,\n",
      "\twebsite  character varying ,\n",
      "\tnum_emp  integer,\n",
      "\tdiv_yield  numeric,\n",
      "\tfpe  numeric,\n",
      "\tfeps  numeric,\n",
      "\tteps  numeric,\n",
      "\tbook_val  numeric,\n",
      "\tshares  integer,\n",
      "\tshares_short  integer,\n",
      "\tprofile  text,\n",
      "\tphone  character varying ,\n",
      "\taddress1  character varying ,\n",
      "\tcity  character varying ,\n",
      "\tstate  character varying ,\n",
      "\tzip  character varying ,\n",
      "\tcountry  character varying ,\n",
      "\tlogo_url  character varying ,\n",
      "\tCONSTRAINT ticker_pkey PRIMARY KEY (symbol)\n",
      ")\n",
      "\n"
     ]
    }
   ],
   "source": [
    "print(ddl_str)"
   ]
  },
  {
   "cell_type": "code",
   "execution_count": 48,
   "metadata": {},
   "outputs": [
    {
     "data": {
      "text/plain": [
       "{'symbol': 'symbol',\n",
       " 'sector': 'sector',\n",
       " 'industry': 'industry',\n",
       " 'shortName': 'name',\n",
       " 'website': 'website',\n",
       " 'phone': 'phone',\n",
       " 'address1': 'address1',\n",
       " 'city': 'city',\n",
       " 'state': 'state',\n",
       " 'zip': 'zip',\n",
       " 'country': 'country',\n",
       " 'fullTimeEmployees': 'num_emp',\n",
       " 'logo_url': 'logo_url',\n",
       " 'longBusinessSummary': 'profile',\n",
       " 'dividendYield': 'div_yield',\n",
       " 'forwardPE': 'fpe',\n",
       " 'forwardEps': 'feps',\n",
       " 'trailingEps': 'teps',\n",
       " 'bookValue': 'book_val',\n",
       " 'sharesOutstanding': 'shares',\n",
       " 'sharesShort': 'shares_short'}"
      ]
     },
     "execution_count": 48,
     "metadata": {},
     "output_type": "execute_result"
    }
   ],
   "source": [
    "dict(zip(key_attribs, columns))"
   ]
  },
  {
   "cell_type": "markdown",
   "metadata": {},
   "source": [
    "\n",
    "PE\n",
    "Forward PE\n",
    "P/S\n",
    "P/B\n",
    "P/FCF  Price/Free-cash Flow\n",
    "\n",
    "ROE - Return on Equity\n",
    "ROI - Return on Investment\n",
    "\n",
    "Insider Own"
   ]
  },
  {
   "cell_type": "raw",
   "metadata": {},
   "source": [
    "-- Table: public.ticker\n",
    "\n",
    "-- DROP TABLE public.ticker;\n",
    "\n",
    "CREATE TABLE public.ticker\n",
    "(\n",
    "    ticker text COLLATE pg_catalog.\"default\" NOT NULL,\n",
    "    name text COLLATE pg_catalog.\"default\",\n",
    "    sector text COLLATE pg_catalog.\"default\",\n",
    "    industry text[] COLLATE pg_catalog.\"default\",\n",
    "    groups text[] COLLATE pg_catalog.\"default\",\n",
    "    comments text COLLATE pg_catalog.\"default\",\n",
    "    CONSTRAINT ticker_pkey PRIMARY KEY (ticker)\n",
    ")\n",
    "\n",
    "TABLESPACE pg_default;\n",
    "\n",
    "ALTER TABLE public.ticker\n",
    "    OWNER to gwguser001;"
   ]
  },
  {
   "cell_type": "code",
   "execution_count": 62,
   "metadata": {},
   "outputs": [],
   "source": [
    "batch_data = [['A',\n",
    "  'Healthcare',\n",
    "  'Diagnostics & Research',\n",
    "  'Agilent Technologies, Inc.',\n",
    "  'http://www.agilent.com',\n",
    "  '800 227 9770',\n",
    "  '5301 Stevens Creek Boulevard',\n",
    "  'Santa Clara',\n",
    "  'CA',\n",
    "  '95051',\n",
    "  'United States',\n",
    "  16400,\n",
    "  'https://logo.clearbit.com/agilent.com',\n",
    "  \"Agilent Technologies, Inc. provides application focused solutions to the life sciences, diagnostics, and applied chemical markets worldwide. The Life Sciences and Applied Markets segment offers liquid and gas chromatography systems and components; liquid and gas chromatography mass spectrometry systems; inductively coupled plasma mass and optical emission spectrometry instruments; atomic absorption instruments; microwave plasma-atomic emission spectrometry instruments; raman spectroscopy; cell analysis plate based assays; flow cytometer; real-time cell analyzer; cell imaging systems; microplate readers; laboratory software, information management, and analytics; laboratory automation and robotic systems; dissolution testing; vacuum pumps; and measurement technologies. The Diagnostics and Genomics segment provides arrays for DNA mutation detection, genotyping, gene copy number determination, identification of gene rearrangements, DNA methylation profiling, and gene expression profiling, as well as sequencing target enrichment, genetic data management, and interpretation support software; and equipment to produce synthesized oligonucleotide. It also offers immunohistochemistry, in situ hybridization, and hematoxylin and eosin staining and special staining; instruments, consumables, and software for quality control analysis of nucleic acid samples; and reagents for use in turbidimetry and flow cytometry, as well as develops pharmacodiagnostics. The Agilent CrossLab segment provides GC and LC columns, sample preparation products, custom chemistries, and laboratory instrument supplies; and startup, operational, training, compliance support, software as a service, asset management, and consultation services. The company markets its products through direct sales, distributors, resellers, manufacturer's representatives, and electronic commerce. It has collaboration agreement with SGS AXYS. The company was incorporated in 1999 and is headquartered in Santa Clara, California.\",\n",
    "  0.0066000004,\n",
    "  28.26747,\n",
    "  4.15,\n",
    "  2.3,\n",
    "  15.915,\n",
    "  306000000,\n",
    "  3213411]]"
   ]
  },
  {
   "cell_type": "code",
   "execution_count": 63,
   "metadata": {},
   "outputs": [],
   "source": [
    "import pickle\n",
    "import os\n",
    "file_pkl = os.path.join(\"data\", f\"set{i}.pkl\")\n",
    "with open(file_pkl, \"wb\") as f:\n",
    "    pickle.dump(batch_data, f)"
   ]
  },
  {
   "cell_type": "code",
   "execution_count": 64,
   "metadata": {},
   "outputs": [],
   "source": [
    "with open(file_pkl, \"rb\") as f:\n",
    "    fa_data = pickle.load(f)"
   ]
  },
  {
   "cell_type": "code",
   "execution_count": 65,
   "metadata": {},
   "outputs": [
    {
     "data": {
      "text/plain": [
       "[['A',\n",
       "  'Healthcare',\n",
       "  'Diagnostics & Research',\n",
       "  'Agilent Technologies, Inc.',\n",
       "  'http://www.agilent.com',\n",
       "  '800 227 9770',\n",
       "  '5301 Stevens Creek Boulevard',\n",
       "  'Santa Clara',\n",
       "  'CA',\n",
       "  '95051',\n",
       "  'United States',\n",
       "  16400,\n",
       "  'https://logo.clearbit.com/agilent.com',\n",
       "  \"Agilent Technologies, Inc. provides application focused solutions to the life sciences, diagnostics, and applied chemical markets worldwide. The Life Sciences and Applied Markets segment offers liquid and gas chromatography systems and components; liquid and gas chromatography mass spectrometry systems; inductively coupled plasma mass and optical emission spectrometry instruments; atomic absorption instruments; microwave plasma-atomic emission spectrometry instruments; raman spectroscopy; cell analysis plate based assays; flow cytometer; real-time cell analyzer; cell imaging systems; microplate readers; laboratory software, information management, and analytics; laboratory automation and robotic systems; dissolution testing; vacuum pumps; and measurement technologies. The Diagnostics and Genomics segment provides arrays for DNA mutation detection, genotyping, gene copy number determination, identification of gene rearrangements, DNA methylation profiling, and gene expression profiling, as well as sequencing target enrichment, genetic data management, and interpretation support software; and equipment to produce synthesized oligonucleotide. It also offers immunohistochemistry, in situ hybridization, and hematoxylin and eosin staining and special staining; instruments, consumables, and software for quality control analysis of nucleic acid samples; and reagents for use in turbidimetry and flow cytometry, as well as develops pharmacodiagnostics. The Agilent CrossLab segment provides GC and LC columns, sample preparation products, custom chemistries, and laboratory instrument supplies; and startup, operational, training, compliance support, software as a service, asset management, and consultation services. The company markets its products through direct sales, distributors, resellers, manufacturer's representatives, and electronic commerce. It has collaboration agreement with SGS AXYS. The company was incorporated in 1999 and is headquartered in Santa Clara, California.\",\n",
       "  0.0066000004,\n",
       "  28.26747,\n",
       "  4.15,\n",
       "  2.3,\n",
       "  15.915,\n",
       "  306000000,\n",
       "  3213411]]"
      ]
     },
     "execution_count": 65,
     "metadata": {},
     "output_type": "execute_result"
    }
   ],
   "source": [
    "fa_data"
   ]
  },
  {
   "cell_type": "code",
   "execution_count": 66,
   "metadata": {},
   "outputs": [
    {
     "ename": "NameError",
     "evalue": "name '__file__' is not defined",
     "output_type": "error",
     "traceback": [
      "\u001b[0;31m---------------------------------------------------------------------------\u001b[0m",
      "\u001b[0;31mNameError\u001b[0m                                 Traceback (most recent call last)",
      "\u001b[0;32m<ipython-input-66-c0ae23a43308>\u001b[0m in \u001b[0;36m<module>\u001b[0;34m\u001b[0m\n\u001b[0;32m----> 1\u001b[0;31m \u001b[0mprint\u001b[0m\u001b[0;34m(\u001b[0m\u001b[0m__file__\u001b[0m\u001b[0;34m)\u001b[0m\u001b[0;34m\u001b[0m\u001b[0;34m\u001b[0m\u001b[0m\n\u001b[0m",
      "\u001b[0;31mNameError\u001b[0m: name '__file__' is not defined"
     ]
    }
   ],
   "source": [
    "print(__file__)"
   ]
  },
  {
   "cell_type": "code",
   "execution_count": 67,
   "metadata": {},
   "outputs": [],
   "source": [
    "__file__ = \"/home/wengong/projects/algorithmic-trading-python/mom101/finplot-watchlist.py\""
   ]
  },
  {
   "cell_type": "code",
   "execution_count": 68,
   "metadata": {},
   "outputs": [],
   "source": [
    "import os"
   ]
  },
  {
   "cell_type": "code",
   "execution_count": 69,
   "metadata": {},
   "outputs": [
    {
     "data": {
      "text/plain": [
       "'/home/wengong/projects/algorithmic-trading-python/mom101'"
      ]
     },
     "execution_count": 69,
     "metadata": {},
     "output_type": "execute_result"
    }
   ],
   "source": [
    "os.path.dirname(__file__)"
   ]
  },
  {
   "cell_type": "code",
   "execution_count": 74,
   "metadata": {},
   "outputs": [],
   "source": [
    "tmp = os.path.splitext(os.path.basename(__file__))"
   ]
  },
  {
   "cell_type": "code",
   "execution_count": 75,
   "metadata": {},
   "outputs": [
    {
     "data": {
      "text/plain": [
       "('finplot-watchlist', '.py')"
      ]
     },
     "execution_count": 75,
     "metadata": {},
     "output_type": "execute_result"
    }
   ],
   "source": [
    "tmp"
   ]
  },
  {
   "cell_type": "markdown",
   "metadata": {},
   "source": [
    "### yahoofinancials"
   ]
  },
  {
   "cell_type": "code",
   "execution_count": 1,
   "metadata": {},
   "outputs": [],
   "source": [
    "from yahoofinancials import YahooFinancials"
   ]
  },
  {
   "cell_type": "code",
   "execution_count": 2,
   "metadata": {},
   "outputs": [],
   "source": [
    "ticker = 'AAPL'\n",
    "yahoo_financials = YahooFinancials(ticker)"
   ]
  },
  {
   "cell_type": "code",
   "execution_count": 3,
   "metadata": {},
   "outputs": [],
   "source": [
    "balance_sheet_data_qt = yahoo_financials.get_financial_stmts('quarterly', 'balance')\n",
    "income_statement_data_qt = yahoo_financials.get_financial_stmts('quarterly', 'income')\n",
    "all_statement_data_qt =  yahoo_financials.get_financial_stmts('quarterly', ['income', 'cash', 'balance'])\n",
    "apple_earnings_data = yahoo_financials.get_stock_earnings_data()\n",
    "apple_net_income = yahoo_financials.get_net_income()\n",
    "historical_stock_prices = yahoo_financials.get_historical_price_data('2008-09-15', '2018-09-15', 'weekly')"
   ]
  },
  {
   "cell_type": "code",
   "execution_count": 4,
   "metadata": {},
   "outputs": [],
   "source": [
    "profile_data = yahoo_financials.get_stock_profile_data()"
   ]
  },
  {
   "cell_type": "code",
   "execution_count": 8,
   "metadata": {},
   "outputs": [
    {
     "data": {
      "text/plain": [
       "('http://www.apple.com',\n",
       " 'Technology',\n",
       " 'Consumer Electronics',\n",
       " 147000,\n",
       " 'Apple Inc. designs, manufactures, and markets smartphones, personal computers, tablets, wearables, and accessories worldwide. It also sells various related services. The company offers iPhone, a line of smartphones; Mac, a line of personal computers; iPad, a line of multi-purpose tablets; and wearables, home, and accessories comprising AirPods, Apple TV, Apple Watch, Beats products, HomePod, iPod touch, and other Apple-branded and third-party accessories. It also provides AppleCare support services; cloud services store services; and operates various platforms, including the App Store, that allow customers to discover and download applications and digital content, such as books, music, video, games, and podcasts. In addition, the company offers various services, such as Apple Arcade, a game subscription service; Apple Music, which offers users a curated listening experience with on-demand radio stations; Apple News+, a subscription news and magazine service; Apple TV+, which offers exclusive original content; Apple Card, a co-branded credit card; and Apple Pay, a cashless payment service, as well as licenses its intellectual property. The company serves consumers, and small and mid-sized businesses; and the education, enterprise, and government markets. It sells and delivers third-party applications for its products through the App Store. The company also sells its products through its retail and online stores, and direct sales force; and third-party cellular network carriers, wholesalers, retailers, and resellers. Apple Inc. was founded in 1977 and is headquartered in Cupertino, California.')"
      ]
     },
     "execution_count": 8,
     "metadata": {},
     "output_type": "execute_result"
    }
   ],
   "source": [
    "profile_data[ticker]['website'], profile_data[ticker]['sector'], profile_data[ticker]['industry'], profile_data[ticker]['fullTimeEmployees'], profile_data[ticker]['longBusinessSummary']"
   ]
  },
  {
   "cell_type": "code",
   "execution_count": 6,
   "metadata": {},
   "outputs": [
    {
     "data": {
      "text/plain": [
       "{'AAPL': {'zip': '95014',\n",
       "  'sector': 'Technology',\n",
       "  'fullTimeEmployees': 147000,\n",
       "  'compensationRisk': 3,\n",
       "  'auditRisk': 1,\n",
       "  'longBusinessSummary': 'Apple Inc. designs, manufactures, and markets smartphones, personal computers, tablets, wearables, and accessories worldwide. It also sells various related services. The company offers iPhone, a line of smartphones; Mac, a line of personal computers; iPad, a line of multi-purpose tablets; and wearables, home, and accessories comprising AirPods, Apple TV, Apple Watch, Beats products, HomePod, iPod touch, and other Apple-branded and third-party accessories. It also provides AppleCare support services; cloud services store services; and operates various platforms, including the App Store, that allow customers to discover and download applications and digital content, such as books, music, video, games, and podcasts. In addition, the company offers various services, such as Apple Arcade, a game subscription service; Apple Music, which offers users a curated listening experience with on-demand radio stations; Apple News+, a subscription news and magazine service; Apple TV+, which offers exclusive original content; Apple Card, a co-branded credit card; and Apple Pay, a cashless payment service, as well as licenses its intellectual property. The company serves consumers, and small and mid-sized businesses; and the education, enterprise, and government markets. It sells and delivers third-party applications for its products through the App Store. The company also sells its products through its retail and online stores, and direct sales force; and third-party cellular network carriers, wholesalers, retailers, and resellers. Apple Inc. was founded in 1977 and is headquartered in Cupertino, California.',\n",
       "  'city': 'Cupertino',\n",
       "  'phone': '408-996-1010',\n",
       "  'state': 'CA',\n",
       "  'shareHolderRightsRisk': 1,\n",
       "  'compensationAsOfEpochDate': 1577750400,\n",
       "  'governanceEpochDate': 1572652800,\n",
       "  'boardRisk': 1,\n",
       "  'country': 'United States',\n",
       "  'companyOfficers': [{'totalPay': {'raw': 11555466,\n",
       "     'fmt': '11.56M',\n",
       "     'longFmt': '11,555,466'},\n",
       "    'exercisedValue': {'raw': 0, 'fmt': None, 'longFmt': '0'},\n",
       "    'yearBorn': 1961,\n",
       "    'name': 'Mr. Timothy D. Cook',\n",
       "    'title': 'CEO & Director',\n",
       "    'maxAge': 1,\n",
       "    'fiscalYear': 2019,\n",
       "    'unexercisedValue': {'raw': 0, 'fmt': None, 'longFmt': '0'},\n",
       "    'age': 58},\n",
       "   {'totalPay': {'raw': 3576221, 'fmt': '3.58M', 'longFmt': '3,576,221'},\n",
       "    'exercisedValue': {'raw': 0, 'fmt': None, 'longFmt': '0'},\n",
       "    'yearBorn': 1964,\n",
       "    'name': 'Mr. Luca  Maestri',\n",
       "    'title': 'CFO & Sr. VP',\n",
       "    'maxAge': 1,\n",
       "    'fiscalYear': 2019,\n",
       "    'unexercisedValue': {'raw': 0, 'fmt': None, 'longFmt': '0'},\n",
       "    'age': 55},\n",
       "   {'totalPay': {'raw': 3574503, 'fmt': '3.57M', 'longFmt': '3,574,503'},\n",
       "    'exercisedValue': {'raw': 0, 'fmt': None, 'longFmt': '0'},\n",
       "    'yearBorn': 1964,\n",
       "    'name': 'Mr. Jeffrey E. Williams',\n",
       "    'title': 'Chief Operating Officer',\n",
       "    'maxAge': 1,\n",
       "    'fiscalYear': 2019,\n",
       "    'unexercisedValue': {'raw': 0, 'fmt': None, 'longFmt': '0'},\n",
       "    'age': 55},\n",
       "   {'totalPay': {'raw': 3598384, 'fmt': '3.6M', 'longFmt': '3,598,384'},\n",
       "    'exercisedValue': {'raw': 0, 'fmt': None, 'longFmt': '0'},\n",
       "    'yearBorn': 1964,\n",
       "    'name': 'Ms. Katherine L. Adams',\n",
       "    'title': 'Sr. VP, Gen. Counsel & Sec.',\n",
       "    'maxAge': 1,\n",
       "    'fiscalYear': 2019,\n",
       "    'unexercisedValue': {'raw': 0, 'fmt': None, 'longFmt': '0'},\n",
       "    'age': 55},\n",
       "   {'totalPay': {'raw': 2690253, 'fmt': '2.69M', 'longFmt': '2,690,253'},\n",
       "    'exercisedValue': {'raw': 0, 'fmt': None, 'longFmt': '0'},\n",
       "    'yearBorn': 1967,\n",
       "    'name': \"Ms. Deirdre  O'Brien\",\n",
       "    'title': 'Sr. VP of People & Retail',\n",
       "    'maxAge': 1,\n",
       "    'fiscalYear': 2019,\n",
       "    'unexercisedValue': {'raw': 0, 'fmt': None, 'longFmt': '0'},\n",
       "    'age': 52},\n",
       "   {'maxAge': 1,\n",
       "    'name': 'Mr. Chris  Kondo',\n",
       "    'title': 'Sr. Director of Corp. Accounting',\n",
       "    'exercisedValue': {'raw': 0, 'fmt': None, 'longFmt': '0'},\n",
       "    'unexercisedValue': {'raw': 0, 'fmt': None, 'longFmt': '0'}},\n",
       "   {'maxAge': 1,\n",
       "    'name': 'Mr. James  Wilson',\n",
       "    'title': 'Chief Technology Officer',\n",
       "    'exercisedValue': {'raw': 0, 'fmt': None, 'longFmt': '0'},\n",
       "    'unexercisedValue': {'raw': 0, 'fmt': None, 'longFmt': '0'}},\n",
       "   {'maxAge': 1,\n",
       "    'name': 'Ms. Mary  Demby',\n",
       "    'title': 'Chief Information Officer',\n",
       "    'exercisedValue': {'raw': 0, 'fmt': None, 'longFmt': '0'},\n",
       "    'unexercisedValue': {'raw': 0, 'fmt': None, 'longFmt': '0'}},\n",
       "   {'maxAge': 1,\n",
       "    'name': 'Ms. Nancy  Paxton',\n",
       "    'title': 'Sr. Director of Investor Relations & Treasury',\n",
       "    'exercisedValue': {'raw': 0, 'fmt': None, 'longFmt': '0'},\n",
       "    'unexercisedValue': {'raw': 0, 'fmt': None, 'longFmt': '0'}},\n",
       "   {'maxAge': 1,\n",
       "    'name': 'Mr. Greg  Joswiak',\n",
       "    'title': 'Sr. VP of Worldwide Marketing',\n",
       "    'exercisedValue': {'raw': 0, 'fmt': None, 'longFmt': '0'},\n",
       "    'unexercisedValue': {'raw': 0, 'fmt': None, 'longFmt': '0'}}],\n",
       "  'website': 'http://www.apple.com',\n",
       "  'overallRisk': 1,\n",
       "  'address1': 'One Apple Park Way',\n",
       "  'industry': 'Consumer Electronics'}}"
      ]
     },
     "execution_count": 6,
     "metadata": {},
     "output_type": "execute_result"
    }
   ],
   "source": [
    "profile_data"
   ]
  },
  {
   "cell_type": "code",
   "execution_count": 5,
   "metadata": {},
   "outputs": [],
   "source": [
    "summary_data = yahoo_financials.get_summary_data()"
   ]
  },
  {
   "cell_type": "code",
   "execution_count": 85,
   "metadata": {},
   "outputs": [
    {
     "data": {
      "text/plain": [
       "{'AAPL': {'previousClose': 130.96,\n",
       "  'regularMarketOpen': 131.32,\n",
       "  'twoHundredDayAverage': 111.11393,\n",
       "  'trailingAnnualDividendYield': 0.0060705557,\n",
       "  'payoutRatio': 0.24239999,\n",
       "  'volume24Hr': None,\n",
       "  'regularMarketDayHigh': 133.46,\n",
       "  'navPrice': None,\n",
       "  'averageDailyVolume10Day': 116917157,\n",
       "  'totalAssets': None,\n",
       "  'regularMarketPreviousClose': 130.96,\n",
       "  'fiftyDayAverage': 121.93382,\n",
       "  'trailingAnnualDividendRate': 0.795,\n",
       "  'open': 131.32,\n",
       "  'toCurrency': None,\n",
       "  'averageVolume10days': 116917157,\n",
       "  'expireDate': '-',\n",
       "  'yield': None,\n",
       "  'algorithm': None,\n",
       "  'dividendRate': 0.82,\n",
       "  'exDividendDate': '2020-11-06',\n",
       "  'beta': 1.297637,\n",
       "  'circulatingSupply': None,\n",
       "  'startDate': '-',\n",
       "  'regularMarketDayLow': 131.1,\n",
       "  'priceHint': 2,\n",
       "  'currency': 'USD',\n",
       "  'trailingPE': 40.234756,\n",
       "  'regularMarketVolume': 54930064,\n",
       "  'lastMarket': None,\n",
       "  'maxSupply': None,\n",
       "  'openInterest': None,\n",
       "  'marketCap': 2243727458304,\n",
       "  'volumeAllCurrencies': None,\n",
       "  'strikePrice': None,\n",
       "  'averageVolume': 115550452,\n",
       "  'priceToSalesTrailing12Months': 8.173424,\n",
       "  'dayLow': 131.1,\n",
       "  'ask': 131.96,\n",
       "  'ytdReturn': None,\n",
       "  'askSize': 800,\n",
       "  'volume': 54930064,\n",
       "  'fiftyTwoWeekHigh': 137.98,\n",
       "  'forwardPE': 30.407833,\n",
       "  'maxAge': 1,\n",
       "  'fromCurrency': None,\n",
       "  'fiveYearAvgDividendYield': 1.49,\n",
       "  'fiftyTwoWeekLow': 53.1525,\n",
       "  'bid': 131.93,\n",
       "  'tradeable': False,\n",
       "  'dividendYield': 0.0062,\n",
       "  'bidSize': 1800,\n",
       "  'dayHigh': 133.46}}"
      ]
     },
     "execution_count": 85,
     "metadata": {},
     "output_type": "execute_result"
    }
   ],
   "source": [
    "summary_data"
   ]
  },
  {
   "cell_type": "code",
   "execution_count": 83,
   "metadata": {},
   "outputs": [
    {
     "data": {
      "text/plain": [
       "{'incomeStatementHistoryQuarterly': {'AAPL': [{'2020-09-26': {'researchDevelopment': 4978000000,\n",
       "     'effectOfAccountingCharges': None,\n",
       "     'incomeBeforeTax': 14901000000,\n",
       "     'minorityInterest': None,\n",
       "     'netIncome': 12673000000,\n",
       "     'sellingGeneralAdministrative': 4936000000,\n",
       "     'grossProfit': 24689000000,\n",
       "     'ebit': 14775000000,\n",
       "     'operatingIncome': 14775000000,\n",
       "     'otherOperatingExpenses': None,\n",
       "     'interestExpense': -634000000,\n",
       "     'extraordinaryItems': None,\n",
       "     'nonRecurring': None,\n",
       "     'otherItems': None,\n",
       "     'incomeTaxExpense': 2228000000,\n",
       "     'totalRevenue': 64698000000,\n",
       "     'totalOperatingExpenses': 49923000000,\n",
       "     'costOfRevenue': 40009000000,\n",
       "     'totalOtherIncomeExpenseNet': 126000000,\n",
       "     'discontinuedOperations': None,\n",
       "     'netIncomeFromContinuingOps': 12673000000,\n",
       "     'netIncomeApplicableToCommonShares': 12673000000}},\n",
       "   {'2020-06-27': {'researchDevelopment': 4758000000,\n",
       "     'effectOfAccountingCharges': None,\n",
       "     'incomeBeforeTax': 13137000000,\n",
       "     'minorityInterest': None,\n",
       "     'netIncome': 11253000000,\n",
       "     'sellingGeneralAdministrative': 4831000000,\n",
       "     'grossProfit': 22680000000,\n",
       "     'ebit': 13091000000,\n",
       "     'operatingIncome': 13091000000,\n",
       "     'otherOperatingExpenses': None,\n",
       "     'interestExpense': -697000000,\n",
       "     'extraordinaryItems': None,\n",
       "     'nonRecurring': None,\n",
       "     'otherItems': None,\n",
       "     'incomeTaxExpense': 1884000000,\n",
       "     'totalRevenue': 59685000000,\n",
       "     'totalOperatingExpenses': 46594000000,\n",
       "     'costOfRevenue': 37005000000,\n",
       "     'totalOtherIncomeExpenseNet': 46000000,\n",
       "     'discontinuedOperations': None,\n",
       "     'netIncomeFromContinuingOps': 11253000000,\n",
       "     'netIncomeApplicableToCommonShares': 11253000000}},\n",
       "   {'2020-03-28': {'researchDevelopment': 4565000000,\n",
       "     'effectOfAccountingCharges': None,\n",
       "     'incomeBeforeTax': 13135000000,\n",
       "     'minorityInterest': None,\n",
       "     'netIncome': 11249000000,\n",
       "     'sellingGeneralAdministrative': 4952000000,\n",
       "     'grossProfit': 22370000000,\n",
       "     'ebit': 12853000000,\n",
       "     'operatingIncome': 12853000000,\n",
       "     'otherOperatingExpenses': None,\n",
       "     'interestExpense': -757000000,\n",
       "     'extraordinaryItems': None,\n",
       "     'nonRecurring': None,\n",
       "     'otherItems': None,\n",
       "     'incomeTaxExpense': 1886000000,\n",
       "     'totalRevenue': 58313000000,\n",
       "     'totalOperatingExpenses': 45460000000,\n",
       "     'costOfRevenue': 35943000000,\n",
       "     'totalOtherIncomeExpenseNet': 282000000,\n",
       "     'discontinuedOperations': None,\n",
       "     'netIncomeFromContinuingOps': 11249000000,\n",
       "     'netIncomeApplicableToCommonShares': 11249000000}},\n",
       "   {'2019-12-28': {'researchDevelopment': 4451000000,\n",
       "     'effectOfAccountingCharges': None,\n",
       "     'incomeBeforeTax': 25918000000,\n",
       "     'minorityInterest': None,\n",
       "     'netIncome': 22236000000,\n",
       "     'sellingGeneralAdministrative': 5197000000,\n",
       "     'grossProfit': 35217000000,\n",
       "     'ebit': 25569000000,\n",
       "     'operatingIncome': 25569000000,\n",
       "     'otherOperatingExpenses': None,\n",
       "     'interestExpense': -785000000,\n",
       "     'extraordinaryItems': None,\n",
       "     'nonRecurring': None,\n",
       "     'otherItems': None,\n",
       "     'incomeTaxExpense': 3682000000,\n",
       "     'totalRevenue': 91819000000,\n",
       "     'totalOperatingExpenses': 66250000000,\n",
       "     'costOfRevenue': 56602000000,\n",
       "     'totalOtherIncomeExpenseNet': 349000000,\n",
       "     'discontinuedOperations': None,\n",
       "     'netIncomeFromContinuingOps': 22236000000,\n",
       "     'netIncomeApplicableToCommonShares': 22236000000}}]}}"
      ]
     },
     "execution_count": 83,
     "metadata": {},
     "output_type": "execute_result"
    }
   ],
   "source": [
    "income_statement_data_qt"
   ]
  },
  {
   "cell_type": "code",
   "execution_count": 82,
   "metadata": {},
   "outputs": [
    {
     "data": {
      "text/plain": [
       "{'AAPL': {'earningsData': {'quarterly': [{'date': '4Q2019',\n",
       "     'actual': 1.25,\n",
       "     'estimate': 1.14},\n",
       "    {'date': '1Q2020', 'actual': 0.64, 'estimate': 0.56},\n",
       "    {'date': '2Q2020', 'actual': 0.64, 'estimate': 0.51},\n",
       "    {'date': '3Q2020', 'actual': 0.73, 'estimate': 0.7}],\n",
       "   'currentQuarterEstimate': 1.39,\n",
       "   'currentQuarterEstimateDate': '4Q',\n",
       "   'currentQuarterEstimateYear': 2020,\n",
       "   'earningsDate': [{'raw': 1611619200, 'fmt': '2021-01-26'},\n",
       "    {'raw': 1612137600, 'fmt': '2021-02-01'}]},\n",
       "  'financialsData': {'yearly': [{'date': 2017,\n",
       "     'revenue': 229234000000,\n",
       "     'earnings': 48351000000},\n",
       "    {'date': 2018, 'revenue': 265595000000, 'earnings': 59531000000},\n",
       "    {'date': 2019, 'revenue': 260174000000, 'earnings': 55256000000},\n",
       "    {'date': 2020, 'revenue': 274515000000, 'earnings': 57411000000}],\n",
       "   'quarterly': [{'date': '4Q2019',\n",
       "     'revenue': 91819000000,\n",
       "     'earnings': 22236000000},\n",
       "    {'date': '1Q2020', 'revenue': 58313000000, 'earnings': 11249000000},\n",
       "    {'date': '2Q2020', 'revenue': 59685000000, 'earnings': 11253000000},\n",
       "    {'date': '3Q2020', 'revenue': 64698000000, 'earnings': 12673000000}]},\n",
       "  'financialCurrency': 'USD'}}"
      ]
     },
     "execution_count": 82,
     "metadata": {},
     "output_type": "execute_result"
    }
   ],
   "source": [
    "apple_earnings_data"
   ]
  },
  {
   "cell_type": "code",
   "execution_count": 81,
   "metadata": {},
   "outputs": [
    {
     "data": {
      "text/plain": [
       "{'balanceSheetHistoryQuarterly': {'AAPL': [{'2020-09-26': {'totalLiab': 258549000000,\n",
       "     'totalStockholderEquity': 65339000000,\n",
       "     'otherCurrentLiab': 47867000000,\n",
       "     'totalAssets': 323888000000,\n",
       "     'commonStock': 50779000000,\n",
       "     'otherCurrentAssets': 11264000000,\n",
       "     'retainedEarnings': 14966000000,\n",
       "     'otherLiab': 46108000000,\n",
       "     'treasuryStock': -406000000,\n",
       "     'otherAssets': 33952000000,\n",
       "     'cash': 38016000000,\n",
       "     'totalCurrentLiabilities': 105392000000,\n",
       "     'shortLongTermDebt': 8773000000,\n",
       "     'otherStockholderEquity': -406000000,\n",
       "     'propertyPlantEquipment': 45336000000,\n",
       "     'totalCurrentAssets': 143713000000,\n",
       "     'longTermInvestments': 100887000000,\n",
       "     'netTangibleAssets': 65339000000,\n",
       "     'shortTermInvestments': 52927000000,\n",
       "     'netReceivables': 37445000000,\n",
       "     'longTermDebt': 98667000000,\n",
       "     'inventory': 4061000000,\n",
       "     'accountsPayable': 42296000000}},\n",
       "   {'2020-06-27': {'totalLiab': 245062000000,\n",
       "     'totalStockholderEquity': 72282000000,\n",
       "     'otherCurrentLiab': 39945000000,\n",
       "     'totalAssets': 317344000000,\n",
       "     'commonStock': 48696000000,\n",
       "     'otherCurrentAssets': 10987000000,\n",
       "     'retainedEarnings': 24136000000,\n",
       "     'otherLiab': 47606000000,\n",
       "     'treasuryStock': -550000000,\n",
       "     'otherAssets': 32836000000,\n",
       "     'cash': 33383000000,\n",
       "     'totalCurrentLiabilities': 95318000000,\n",
       "     'shortLongTermDebt': 7509000000,\n",
       "     'otherStockholderEquity': -550000000,\n",
       "     'propertyPlantEquipment': 43851000000,\n",
       "     'totalCurrentAssets': 140065000000,\n",
       "     'longTermInvestments': 100592000000,\n",
       "     'netTangibleAssets': 72282000000,\n",
       "     'shortTermInvestments': 59642000000,\n",
       "     'netReceivables': 32075000000,\n",
       "     'longTermDebt': 94048000000,\n",
       "     'inventory': 3978000000,\n",
       "     'accountsPayable': 35325000000}},\n",
       "   {'2020-03-28': {'totalLiab': 241975000000,\n",
       "     'totalStockholderEquity': 78425000000,\n",
       "     'otherCurrentLiab': 42048000000,\n",
       "     'totalAssets': 320400000000,\n",
       "     'commonStock': 48032000000,\n",
       "     'otherCurrentAssets': 15691000000,\n",
       "     'retainedEarnings': 33182000000,\n",
       "     'otherLiab': 48745000000,\n",
       "     'treasuryStock': -2789000000,\n",
       "     'otherAssets': 33868000000,\n",
       "     'cash': 40174000000,\n",
       "     'totalCurrentLiabilities': 96094000000,\n",
       "     'shortLongTermDebt': 10392000000,\n",
       "     'otherStockholderEquity': -2789000000,\n",
       "     'propertyPlantEquipment': 43986000000,\n",
       "     'totalCurrentAssets': 143753000000,\n",
       "     'longTermInvestments': 98793000000,\n",
       "     'netTangibleAssets': 78425000000,\n",
       "     'shortTermInvestments': 53877000000,\n",
       "     'netReceivables': 30677000000,\n",
       "     'longTermDebt': 89086000000,\n",
       "     'inventory': 3334000000,\n",
       "     'accountsPayable': 32421000000}},\n",
       "   {'2019-12-28': {'totalLiab': 251087000000,\n",
       "     'totalStockholderEquity': 89531000000,\n",
       "     'otherCurrentLiab': 40577000000,\n",
       "     'totalAssets': 340618000000,\n",
       "     'commonStock': 45972000000,\n",
       "     'otherCurrentAssets': 12026000000,\n",
       "     'retainedEarnings': 43977000000,\n",
       "     'otherLiab': 48648000000,\n",
       "     'treasuryStock': -418000000,\n",
       "     'otherAssets': 33195000000,\n",
       "     'cash': 39771000000,\n",
       "     'totalCurrentLiabilities': 102161000000,\n",
       "     'shortLongTermDebt': 10224000000,\n",
       "     'otherStockholderEquity': -418000000,\n",
       "     'propertyPlantEquipment': 44293000000,\n",
       "     'totalCurrentAssets': 163231000000,\n",
       "     'longTermInvestments': 99899000000,\n",
       "     'netTangibleAssets': 89531000000,\n",
       "     'shortTermInvestments': 67391000000,\n",
       "     'netReceivables': 39946000000,\n",
       "     'longTermDebt': 93078000000,\n",
       "     'inventory': 4097000000,\n",
       "     'accountsPayable': 45111000000}}]}}"
      ]
     },
     "execution_count": 81,
     "metadata": {},
     "output_type": "execute_result"
    }
   ],
   "source": [
    "balance_sheet_data_qt"
   ]
  },
  {
   "cell_type": "code",
   "execution_count": null,
   "metadata": {},
   "outputs": [],
   "source": []
  }
 ],
 "metadata": {
  "kernelspec": {
   "display_name": "Python 3",
   "language": "python",
   "name": "python3"
  },
  "language_info": {
   "codemirror_mode": {
    "name": "ipython",
    "version": 3
   },
   "file_extension": ".py",
   "mimetype": "text/x-python",
   "name": "python",
   "nbconvert_exporter": "python",
   "pygments_lexer": "ipython3",
   "version": "3.8.5"
  }
 },
 "nbformat": 4,
 "nbformat_minor": 4
}

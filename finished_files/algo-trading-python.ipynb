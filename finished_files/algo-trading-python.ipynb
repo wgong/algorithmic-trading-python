{
 "cells": [
  {
   "cell_type": "markdown",
   "metadata": {},
   "source": [
    "# Algorithmic Trading in Python\n",
    "\n",
    "\n",
    "## YouTube courses\n",
    "\n",
    "- [Full Course Video by Nick McCullum](https://www.youtube.com/watch?v=xfzGZB4HhEE)\n",
    "\n",
    "- [Forked Git Repo](https://github.com/wgong/algorithmic-trading-python)\n",
    "\n",
    "\n",
    "### Momentum Investing\n",
    "### Value Investing"
   ]
  },
  {
   "cell_type": "markdown",
   "metadata": {},
   "source": [
    "## Tangent Technology\n",
    "\n",
    "### TradingView\n",
    "\n",
    "- [an online charting tool](https://www.tradingview.com/chart/nfud4tKr/)\n",
    "\n",
    "<img src=tangent-technology.png>"
   ]
  },
  {
   "cell_type": "code",
   "execution_count": null,
   "metadata": {},
   "outputs": [],
   "source": []
  }
 ],
 "metadata": {
  "kernelspec": {
   "display_name": "Python 3",
   "language": "python",
   "name": "python3"
  },
  "language_info": {
   "codemirror_mode": {
    "name": "ipython",
    "version": 3
   },
   "file_extension": ".py",
   "mimetype": "text/x-python",
   "name": "python",
   "nbconvert_exporter": "python",
   "pygments_lexer": "ipython3",
   "version": "3.8.5"
  }
 },
 "nbformat": 4,
 "nbformat_minor": 4
}
